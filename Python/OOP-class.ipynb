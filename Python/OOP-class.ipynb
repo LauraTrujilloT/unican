{
 "cells": [
  {
   "cell_type": "markdown",
   "metadata": {},
   "source": [
    "# Re-using code and OOP\n",
    "                November 12, 2019\n",
    "\n",
    "\n",
    "## Re-using code: Scripts and modules\n",
    "A script is related when you're doing coding for bash or your prompt so to speak. In the text editor, we create a `.py` and we execute it as `python name-file.py` or if running ipython just `%run name-file.py` and for running in the bash shell we need to write the following in the `.py`: `#! /usr/bin/env python`, then make a copy without the `.py` and make `chmod +x name-file` to make it executable in the bash (converting a `.py`to be an executable)\n",
    "\n",
    "\n",
    "Standalone scripts may also take command-line arguments in `file.py`:\n",
    "```python\n",
    "import sys\n",
    "print(sys.argv)\n",
    "\n",
    ">>> python file.py test arguments\n",
    "['file.py', 'test', 'arguments']\n",
    "```\n",
    "\n",
    "### Importing objects from modules\n",
    "\n",
    "```python\n",
    "import os\n",
    "os\n",
    "\n",
    ">>> <module os from '/usr/lib/python2.6/os.pyc'>\n",
    "```\n",
    "\n",
    "### Creating modules\n",
    "If we want to write larger and better organized programs (compared to simple scripts), where some objects are defined, (variables, functions, classes) and that we want to reuse several times, we have to create our own modules.\n",
    "\n",
    "```python\n",
    "\"a demo module.\"\n",
    "\n",
    "def print_b():\n",
    "    \"prints b\"\n",
    "    print(\"b\")\n",
    "```\n",
    "\n",
    "Importing the module gives access to its objects, using the `module.object` syntax.\n",
    "\n",
    "```python\n",
    "import demo\n",
    "demo.print_b()\n",
    "\n",
    ">>> \"b\"\n",
    "```\n",
    "\n",
    "### `__main__` and module loading\n",
    "Sometimes we want code to be executed when a module is run directly, but not when it is imported by another module.\n",
    "`if __name__ == '__main__` allows to check whether the module is being run directly.\n",
    "\n",
    "### Packages\n",
    "> Read [about Packages](http://scipy-lectures.org/intro/language/reusing_code.html#packages) and [about Data Model](https://docs.python.org/3/reference/datamodel.html)\n",
    "- - -\n",
    "**Homework**: OOP Geometric Shapes due to December 5 2019\n",
    "\n",
    "For Command-line interfaces with Python:\n",
    "[Pycon uk 2012 create beautiful command line interfaces with python](www.docopt.org)\n",
    "\n",
    "- - -"
   ]
  },
  {
   "cell_type": "markdown",
   "metadata": {},
   "source": [
    "# OOP in Python \n",
    "            November 14, 2019\n",
    "\n",
    "Class is the abstract representation of a concept, like a dog, integer, number, person, etc. Classes are composed by attributes and methods*. In Python, methods are invokable attributes (i.e. callable () - operator).\n",
    "An object is each of instances from a class which specific values for the class attirbutes.\n",
    "\n",
    "\n",
    "```python\n",
    "class Rational(object):\n",
    "    def __init__(self, num, den):\n",
    "        self.numerator = num\n",
    "        self.denominator = den\n",
    "    def add(self, other):\n",
    "        newNumerator = self.numerator * other.denominator +\n",
    "                         self.denominator * other.numerator\n",
    "        newDenominator = self.denominator * other.denominator\n",
    "        return Rational(newNumerator, newDenominator)\n",
    "```\n"
   ]
  },
  {
   "cell_type": "markdown",
   "metadata": {},
   "source": [
    "#### Example:"
   ]
  },
  {
   "cell_type": "code",
   "execution_count": 16,
   "metadata": {},
   "outputs": [],
   "source": [
    "class Rational(object):\n",
    "    def __init__(self, num, den): # Initialization function\n",
    "        self.numerator = num   #Assign num to new variable \n",
    "        self.denominator = den\n",
    "    def add(self, other): # Generator function \"add\"\n",
    "        newNumerator = self.numerator * other.denominator + self.denominator * other.numerator\n",
    "        newDenominator = self.denominator * other.denominator\n",
    "        return Rational(newNumerator, newDenominator) # Creating new rational w new num and den"
   ]
  },
  {
   "cell_type": "code",
   "execution_count": 17,
   "metadata": {},
   "outputs": [],
   "source": [
    "R1 = Rational(1, 2)"
   ]
  },
  {
   "cell_type": "code",
   "execution_count": 18,
   "metadata": {},
   "outputs": [],
   "source": [
    "R2 = Rational(5, 6)"
   ]
  },
  {
   "cell_type": "code",
   "execution_count": 20,
   "metadata": {},
   "outputs": [],
   "source": [
    "R3 = R1.add(R2)"
   ]
  },
  {
   "cell_type": "code",
   "execution_count": 21,
   "metadata": {},
   "outputs": [
    {
     "data": {
      "text/plain": [
       "16"
      ]
     },
     "execution_count": 21,
     "metadata": {},
     "output_type": "execute_result"
    }
   ],
   "source": [
    "R3.numerator"
   ]
  },
  {
   "cell_type": "markdown",
   "metadata": {},
   "source": [
    "We can use `def __str__ ` to print in a fancier way"
   ]
  },
  {
   "cell_type": "code",
   "execution_count": 34,
   "metadata": {},
   "outputs": [],
   "source": [
    "class Rational(object):\n",
    "    def __init__(self, num, den): # Initialization function\n",
    "        self.numerator = num   #Assign num to new variable \n",
    "        self.denominator = den\n",
    "    def add(self, other): # Generator function \"add\"\n",
    "        newNumerator = self.numerator * other.denominator + self.denominator * other.numerator\n",
    "        newDenominator = self.denominator * other.denominator\n",
    "        return Rational(newNumerator, newDenominator) # Creating new rational w new num and den\n",
    "    def __str__(self):\n",
    "        return str(self.numerator) + \"/\" + str(self.denominator)\n",
    "    def __add__(self, other): #Allows to use plus operator +\n",
    "        return self.add(other)"
   ]
  },
  {
   "cell_type": "code",
   "execution_count": 26,
   "metadata": {},
   "outputs": [
    {
     "name": "stdout",
     "output_type": "stream",
     "text": [
      "12/4\n"
     ]
    }
   ],
   "source": [
    "R1 = Rational(1, 2)\n",
    "R2 = Rational(5, 2)\n",
    "R3 = R1.add(R2)\n",
    "print(R3)"
   ]
  },
  {
   "cell_type": "code",
   "execution_count": 31,
   "metadata": {},
   "outputs": [
    {
     "data": {
      "text/plain": [
       "<__main__.Rational at 0x7f30c01b5e10>"
      ]
     },
     "execution_count": 31,
     "metadata": {},
     "output_type": "execute_result"
    }
   ],
   "source": [
    "R1 = Rational(1, 2)\n",
    "R1.add(R2)"
   ]
  },
  {
   "cell_type": "code",
   "execution_count": 36,
   "metadata": {},
   "outputs": [
    {
     "name": "stdout",
     "output_type": "stream",
     "text": [
      "12/4\n"
     ]
    }
   ],
   "source": [
    "print(R1 + R2) #This works since python is checking The class Rational with __add___\n",
    "# print(R2 + R1) is not going to work since the def of Rational in R2 doesn't have __add__\n",
    "# To solve this check method in data model __radd__ (check reverse add, in other words the def of add for R1)"
   ]
  },
  {
   "cell_type": "markdown",
   "metadata": {},
   "source": [
    "# OOP in Python: Inheritance\n",
    "Class inheritance of attributes and methods is a basic feature of the OOP: the generic syntax in Python is\n",
    "\n",
    "```python\n",
    "super()\n",
    "```"
   ]
  },
  {
   "cell_type": "code",
   "execution_count": 45,
   "metadata": {},
   "outputs": [],
   "source": [
    "class ListLogger(list):\n",
    "    def append(self, x):\n",
    "        print(\"Trying to add: \", x)\n",
    "        super().append(x) #Call parent method \"append\""
   ]
  },
  {
   "cell_type": "code",
   "execution_count": 43,
   "metadata": {},
   "outputs": [],
   "source": [
    "n = [2, 3]\n",
    "n.append(7)"
   ]
  },
  {
   "cell_type": "code",
   "execution_count": 44,
   "metadata": {},
   "outputs": [
    {
     "data": {
      "text/plain": [
       "[2, 3, 7]"
      ]
     },
     "execution_count": 44,
     "metadata": {},
     "output_type": "execute_result"
    }
   ],
   "source": [
    "n"
   ]
  },
  {
   "cell_type": "code",
   "execution_count": 46,
   "metadata": {},
   "outputs": [
    {
     "name": "stdout",
     "output_type": "stream",
     "text": [
      "Trying to add:  7\n"
     ]
    }
   ],
   "source": [
    "numbers = ListLogger()\n",
    "numbers.append(7)"
   ]
  },
  {
   "cell_type": "markdown",
   "metadata": {},
   "source": [
    "## OOP in Python: Multiple Inheritance\n",
    "The actual usefulness for `super()` method it's when multi-inheritance it's been used. "
   ]
  },
  {
   "cell_type": "code",
   "execution_count": 61,
   "metadata": {},
   "outputs": [],
   "source": [
    "class Human(object):\n",
    "    def attack(self):\n",
    "        print(\"punch\")\n",
    "class Cyborg(Human):\n",
    "    def attack(self):\n",
    "        print(\"Laser\")\n",
    "class Ninja(Human):\n",
    "    def attack(self):\n",
    "        print(\"Shuriken\")\n",
    "class T1000(Cyborg, Ninja): # The first class Cyborg (super())\n",
    "    #If cyborg doesn't have implemented attack, it calls the sister class Ninja\n",
    "    def attack(self):\n",
    "        super().attack()"
   ]
  },
  {
   "cell_type": "code",
   "execution_count": 62,
   "metadata": {},
   "outputs": [],
   "source": [
    "robot = T1000()"
   ]
  },
  {
   "cell_type": "code",
   "execution_count": 63,
   "metadata": {},
   "outputs": [
    {
     "name": "stdout",
     "output_type": "stream",
     "text": [
      "Laser\n"
     ]
    }
   ],
   "source": [
    "robot.attack()"
   ]
  },
  {
   "cell_type": "markdown",
   "metadata": {},
   "source": [
    "# OOP in Python: Polymorphism\n"
   ]
  },
  {
   "cell_type": "code",
   "execution_count": null,
   "metadata": {},
   "outputs": [],
   "source": []
  }
 ],
 "metadata": {
  "kernelspec": {
   "display_name": "Python 3",
   "language": "python",
   "name": "python3"
  },
  "language_info": {
   "codemirror_mode": {
    "name": "ipython",
    "version": 3
   },
   "file_extension": ".py",
   "mimetype": "text/x-python",
   "name": "python",
   "nbconvert_exporter": "python",
   "pygments_lexer": "ipython3",
   "version": "3.6.9"
  }
 },
 "nbformat": 4,
 "nbformat_minor": 2
}
