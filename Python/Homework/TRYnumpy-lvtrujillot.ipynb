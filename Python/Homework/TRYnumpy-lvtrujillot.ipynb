{
 "cells": [
  {
   "cell_type": "markdown",
   "metadata": {},
   "source": [
    "# `NumPy`: Data Statistics\n",
    "The data in [populations.txt](./populations.txt) describes the population of hares and lynxes (and carrots) in northern Canada during 20 years.\n",
    "Computes and print, based on the data in populations.txt (use loadtxt to read the file)...\n",
    "\n",
    "   1. The mean and std of the populations of each species for the years in the period.\n",
    "   2. Which year each species had the largest population.\n",
    "   3. Which species has the largest population for each year. (Hint: argsort & fancy indexing of np.array(['H', 'L', 'C']))\n",
    "   4. Which years any of the populations is above 50000. (Hint: comparisons and np.any)\n",
    "   5. The top 2 years for each species when they had the lowest populations. (Hint: argsort, fancy indexing)\n",
    "   6. Compare (plot) the change in hare population (see help(np.gradient)) and the number of lynxes. Check correlation (see help(np.corrcoef)).\n",
    "---\n",
    "** Note ** \n",
    "... all without for-loops.\n",
    "- - - \n",
    "Create a Jupyter notebook enriched text and embeded code. Upload the .ipynb and .html."
   ]
  },
  {
   "cell_type": "markdown",
   "metadata": {},
   "source": [
    "Author: Laura V. Trujillo T. [lvtrujillot@unal.edu.co](lvtrujillot@unal.edu.co)"
   ]
  },
  {
   "cell_type": "code",
   "execution_count": 4,
   "metadata": {},
   "outputs": [],
   "source": [
    "import numpy as np\n",
    "from matplotlib import pyplot as plt\n",
    "%matplotlib inline"
   ]
  },
  {
   "cell_type": "code",
   "execution_count": 5,
   "metadata": {},
   "outputs": [
    {
     "ename": "OSError",
     "evalue": "populations.txt not found.",
     "output_type": "error",
     "traceback": [
      "\u001b[0;31m---------------------------------------------------------------------------\u001b[0m",
      "\u001b[0;31mOSError\u001b[0m                                   Traceback (most recent call last)",
      "\u001b[0;32m<ipython-input-5-b4b8c675acad>\u001b[0m in \u001b[0;36m<module>\u001b[0;34m()\u001b[0m\n\u001b[0;32m----> 1\u001b[0;31m \u001b[0mY\u001b[0m\u001b[0;34m,\u001b[0m \u001b[0mH\u001b[0m\u001b[0;34m,\u001b[0m \u001b[0mL\u001b[0m\u001b[0;34m,\u001b[0m \u001b[0mC\u001b[0m \u001b[0;34m=\u001b[0m \u001b[0mnp\u001b[0m\u001b[0;34m.\u001b[0m\u001b[0mloadtxt\u001b[0m\u001b[0;34m(\u001b[0m\u001b[0;34m\"populations.txt\"\u001b[0m\u001b[0;34m,\u001b[0m\u001b[0munpack\u001b[0m\u001b[0;34m=\u001b[0m\u001b[0;32mTrue\u001b[0m \u001b[0;34m)\u001b[0m\u001b[0;34m\u001b[0m\u001b[0;34m\u001b[0m\u001b[0m\n\u001b[0m",
      "\u001b[0;32m/usr/local/lib/python3.6/dist-packages/numpy/lib/npyio.py\u001b[0m in \u001b[0;36mloadtxt\u001b[0;34m(fname, dtype, comments, delimiter, converters, skiprows, usecols, unpack, ndmin, encoding, max_rows)\u001b[0m\n\u001b[1;32m    966\u001b[0m             \u001b[0mfname\u001b[0m \u001b[0;34m=\u001b[0m \u001b[0mos_fspath\u001b[0m\u001b[0;34m(\u001b[0m\u001b[0mfname\u001b[0m\u001b[0;34m)\u001b[0m\u001b[0;34m\u001b[0m\u001b[0;34m\u001b[0m\u001b[0m\n\u001b[1;32m    967\u001b[0m         \u001b[0;32mif\u001b[0m \u001b[0m_is_string_like\u001b[0m\u001b[0;34m(\u001b[0m\u001b[0mfname\u001b[0m\u001b[0;34m)\u001b[0m\u001b[0;34m:\u001b[0m\u001b[0;34m\u001b[0m\u001b[0;34m\u001b[0m\u001b[0m\n\u001b[0;32m--> 968\u001b[0;31m             \u001b[0mfh\u001b[0m \u001b[0;34m=\u001b[0m \u001b[0mnp\u001b[0m\u001b[0;34m.\u001b[0m\u001b[0mlib\u001b[0m\u001b[0;34m.\u001b[0m\u001b[0m_datasource\u001b[0m\u001b[0;34m.\u001b[0m\u001b[0mopen\u001b[0m\u001b[0;34m(\u001b[0m\u001b[0mfname\u001b[0m\u001b[0;34m,\u001b[0m \u001b[0;34m'rt'\u001b[0m\u001b[0;34m,\u001b[0m \u001b[0mencoding\u001b[0m\u001b[0;34m=\u001b[0m\u001b[0mencoding\u001b[0m\u001b[0;34m)\u001b[0m\u001b[0;34m\u001b[0m\u001b[0;34m\u001b[0m\u001b[0m\n\u001b[0m\u001b[1;32m    969\u001b[0m             \u001b[0mfencoding\u001b[0m \u001b[0;34m=\u001b[0m \u001b[0mgetattr\u001b[0m\u001b[0;34m(\u001b[0m\u001b[0mfh\u001b[0m\u001b[0;34m,\u001b[0m \u001b[0;34m'encoding'\u001b[0m\u001b[0;34m,\u001b[0m \u001b[0;34m'latin1'\u001b[0m\u001b[0;34m)\u001b[0m\u001b[0;34m\u001b[0m\u001b[0;34m\u001b[0m\u001b[0m\n\u001b[1;32m    970\u001b[0m             \u001b[0mfh\u001b[0m \u001b[0;34m=\u001b[0m \u001b[0miter\u001b[0m\u001b[0;34m(\u001b[0m\u001b[0mfh\u001b[0m\u001b[0;34m)\u001b[0m\u001b[0;34m\u001b[0m\u001b[0;34m\u001b[0m\u001b[0m\n",
      "\u001b[0;32m/usr/local/lib/python3.6/dist-packages/numpy/lib/_datasource.py\u001b[0m in \u001b[0;36mopen\u001b[0;34m(path, mode, destpath, encoding, newline)\u001b[0m\n\u001b[1;32m    267\u001b[0m \u001b[0;34m\u001b[0m\u001b[0m\n\u001b[1;32m    268\u001b[0m     \u001b[0mds\u001b[0m \u001b[0;34m=\u001b[0m \u001b[0mDataSource\u001b[0m\u001b[0;34m(\u001b[0m\u001b[0mdestpath\u001b[0m\u001b[0;34m)\u001b[0m\u001b[0;34m\u001b[0m\u001b[0;34m\u001b[0m\u001b[0m\n\u001b[0;32m--> 269\u001b[0;31m     \u001b[0;32mreturn\u001b[0m \u001b[0mds\u001b[0m\u001b[0;34m.\u001b[0m\u001b[0mopen\u001b[0m\u001b[0;34m(\u001b[0m\u001b[0mpath\u001b[0m\u001b[0;34m,\u001b[0m \u001b[0mmode\u001b[0m\u001b[0;34m,\u001b[0m \u001b[0mencoding\u001b[0m\u001b[0;34m=\u001b[0m\u001b[0mencoding\u001b[0m\u001b[0;34m,\u001b[0m \u001b[0mnewline\u001b[0m\u001b[0;34m=\u001b[0m\u001b[0mnewline\u001b[0m\u001b[0;34m)\u001b[0m\u001b[0;34m\u001b[0m\u001b[0;34m\u001b[0m\u001b[0m\n\u001b[0m\u001b[1;32m    270\u001b[0m \u001b[0;34m\u001b[0m\u001b[0m\n\u001b[1;32m    271\u001b[0m \u001b[0;34m\u001b[0m\u001b[0m\n",
      "\u001b[0;32m/usr/local/lib/python3.6/dist-packages/numpy/lib/_datasource.py\u001b[0m in \u001b[0;36mopen\u001b[0;34m(self, path, mode, encoding, newline)\u001b[0m\n\u001b[1;32m    621\u001b[0m                                       encoding=encoding, newline=newline)\n\u001b[1;32m    622\u001b[0m         \u001b[0;32melse\u001b[0m\u001b[0;34m:\u001b[0m\u001b[0;34m\u001b[0m\u001b[0;34m\u001b[0m\u001b[0m\n\u001b[0;32m--> 623\u001b[0;31m             \u001b[0;32mraise\u001b[0m \u001b[0mIOError\u001b[0m\u001b[0;34m(\u001b[0m\u001b[0;34m\"%s not found.\"\u001b[0m \u001b[0;34m%\u001b[0m \u001b[0mpath\u001b[0m\u001b[0;34m)\u001b[0m\u001b[0;34m\u001b[0m\u001b[0;34m\u001b[0m\u001b[0m\n\u001b[0m\u001b[1;32m    624\u001b[0m \u001b[0;34m\u001b[0m\u001b[0m\n\u001b[1;32m    625\u001b[0m \u001b[0;34m\u001b[0m\u001b[0m\n",
      "\u001b[0;31mOSError\u001b[0m: populations.txt not found."
     ]
    }
   ],
   "source": [
    "Y, H, L, C = np.loadtxt(\"populations.txt\",unpack=True )"
   ]
  },
  {
   "cell_type": "markdown",
   "metadata": {},
   "source": [
    "## 1. Mean $\\mu$ and Standard Deviation $\\sigma$ "
   ]
  },
  {
   "cell_type": "code",
   "execution_count": 177,
   "metadata": {},
   "outputs": [
    {
     "name": "stdout",
     "output_type": "stream",
     "text": [
      "Mean: [34080.95238095 20166.66666667 42400.        ] \n",
      " Sd:  [20897.90645809 16254.59153691  3322.50622558]\n"
     ]
    }
   ],
   "source": [
    "data = [Y, H, L, C]\n",
    "data_mean = []\n",
    "data_sd = []\n",
    "\n",
    "for i in range(1, len(data)):\n",
    "    mean = np.mean(data[i])\n",
    "    sd = np.std(data[i])\n",
    "    data_mean.append(mean)\n",
    "    data_sd.append(sd)\n",
    "    \n",
    "data_array = np.array([data_mean, data_sd])\n",
    "print(\"Mean:\" ,data_array[0], \"\\n Sd: \", data_array[1])"
   ]
  },
  {
   "cell_type": "markdown",
   "metadata": {},
   "source": [
    "## 2. Year with largest population for each species"
   ]
  },
  {
   "cell_type": "code",
   "execution_count": 178,
   "metadata": {},
   "outputs": [
    {
     "name": "stdout",
     "output_type": "stream",
     "text": [
      "[1903.]\n",
      "[1904.]\n",
      "[1900.]\n"
     ]
    }
   ],
   "source": [
    "a = []\n",
    "for i in range(1, len(data)):\n",
    "    a.append(np.where(data[i] == data[i].max()))\n",
    "    print(data[0][a[i - 1]])"
   ]
  },
  {
   "cell_type": "markdown",
   "metadata": {},
   "source": [
    "# 3. Species with largest population each year"
   ]
  },
  {
   "cell_type": "code",
   "execution_count": 2,
   "metadata": {},
   "outputs": [
    {
     "ename": "NameError",
     "evalue": "name 'np' is not defined",
     "output_type": "error",
     "traceback": [
      "\u001b[0;31m---------------------------------------------------------------------------\u001b[0m",
      "\u001b[0;31mNameError\u001b[0m                                 Traceback (most recent call last)",
      "\u001b[0;32m<ipython-input-2-495fa54f19df>\u001b[0m in \u001b[0;36m<module>\u001b[0;34m()\u001b[0m\n\u001b[0;32m----> 1\u001b[0;31m \u001b[0md\u001b[0m \u001b[0;34m=\u001b[0m \u001b[0mnp\u001b[0m\u001b[0;34m.\u001b[0m\u001b[0mloadtxt\u001b[0m\u001b[0;34m(\u001b[0m\u001b[0;34m\"populations.txt\"\u001b[0m\u001b[0;34m)\u001b[0m\u001b[0;34m\u001b[0m\u001b[0;34m\u001b[0m\u001b[0m\n\u001b[0m",
      "\u001b[0;31mNameError\u001b[0m: name 'np' is not defined"
     ]
    }
   ],
   "source": [
    "d = np.loadtxt(\"populations.txt\")"
   ]
  },
  {
   "cell_type": "code",
   "execution_count": 3,
   "metadata": {},
   "outputs": [
    {
     "ename": "NameError",
     "evalue": "name 'd' is not defined",
     "output_type": "error",
     "traceback": [
      "\u001b[0;31m---------------------------------------------------------------------------\u001b[0m",
      "\u001b[0;31mNameError\u001b[0m                                 Traceback (most recent call last)",
      "\u001b[0;32m<ipython-input-3-b31e0e3be321>\u001b[0m in \u001b[0;36m<module>\u001b[0;34m()\u001b[0m\n\u001b[1;32m      1\u001b[0m \u001b[0mS\u001b[0m \u001b[0;34m=\u001b[0m \u001b[0;34m[\u001b[0m\u001b[0;34m]\u001b[0m\u001b[0;34m\u001b[0m\u001b[0;34m\u001b[0m\u001b[0m\n\u001b[0;32m----> 2\u001b[0;31m \u001b[0;32mfor\u001b[0m \u001b[0mi\u001b[0m \u001b[0;32min\u001b[0m \u001b[0mrange\u001b[0m\u001b[0;34m(\u001b[0m\u001b[0;36m0\u001b[0m\u001b[0;34m,\u001b[0m \u001b[0mlen\u001b[0m\u001b[0;34m(\u001b[0m\u001b[0md\u001b[0m\u001b[0;34m)\u001b[0m\u001b[0;34m)\u001b[0m\u001b[0;34m:\u001b[0m\u001b[0;34m\u001b[0m\u001b[0;34m\u001b[0m\u001b[0m\n\u001b[0m\u001b[1;32m      3\u001b[0m     \u001b[0mx\u001b[0m \u001b[0;34m=\u001b[0m \u001b[0mnp\u001b[0m\u001b[0;34m.\u001b[0m\u001b[0margsort\u001b[0m\u001b[0;34m(\u001b[0m\u001b[0md\u001b[0m\u001b[0;34m[\u001b[0m\u001b[0mi\u001b[0m\u001b[0;34m]\u001b[0m\u001b[0;34m)\u001b[0m\u001b[0;34m\u001b[0m\u001b[0;34m\u001b[0m\u001b[0m\n\u001b[1;32m      4\u001b[0m     \u001b[0;31m#print(d[i][x.max()])\u001b[0m\u001b[0;34m\u001b[0m\u001b[0;34m\u001b[0m\u001b[0;34m\u001b[0m\u001b[0m\n\u001b[1;32m      5\u001b[0m     \u001b[0mS\u001b[0m\u001b[0;34m.\u001b[0m\u001b[0mappend\u001b[0m\u001b[0;34m(\u001b[0m\u001b[0mx\u001b[0m\u001b[0;34m)\u001b[0m\u001b[0;34m\u001b[0m\u001b[0;34m\u001b[0m\u001b[0m\n",
      "\u001b[0;31mNameError\u001b[0m: name 'd' is not defined"
     ]
    }
   ],
   "source": [
    "S = []\n",
    "for i in range(0, len(d)):\n",
    "    x = np.argsort(d[i])\n",
    "    #print(d[i][x.max()])\n",
    "    S.append(x)"
   ]
  },
  {
   "cell_type": "code",
   "execution_count": 181,
   "metadata": {},
   "outputs": [
    {
     "name": "stdout",
     "output_type": "stream",
     "text": [
      "1900 ['C']\n",
      "1901 ['C']\n",
      "1902 ['H']\n",
      "1903 ['H']\n",
      "1904 ['L']\n",
      "1905 ['L']\n",
      "1906 ['C']\n",
      "1907 ['C']\n",
      "1908 ['C']\n",
      "1909 ['C']\n",
      "1910 ['C']\n",
      "1911 ['C']\n",
      "1912 ['H']\n",
      "1913 ['H']\n",
      "1914 ['H']\n",
      "1915 ['L']\n",
      "1916 ['C']\n",
      "1917 ['C']\n",
      "1918 ['C']\n",
      "1919 ['C']\n",
      "1920 ['C']\n"
     ]
    }
   ],
   "source": [
    "species = np.array(['H', 'L', 'C'])\n",
    "\n",
    "for j in range(0,len(S)):\n",
    "    print(int(d[j][0]), species[[S[j][-1] - 1]])"
   ]
  },
  {
   "cell_type": "markdown",
   "metadata": {},
   "source": [
    "## 4. Year for population above 50000"
   ]
  },
  {
   "cell_type": "code",
   "execution_count": 185,
   "metadata": {},
   "outputs": [],
   "source": [
    "for i in range(0, len(d)):\n",
    "    for j in range(1, len(d[i])):\n",
    "        if d[i][j] > 5e4 == True:\n",
    "            print(d[i][0])"
   ]
  },
  {
   "cell_type": "markdown",
   "metadata": {},
   "source": [
    "## 5. Top 2 years for each species when they had lowest population"
   ]
  },
  {
   "cell_type": "code",
   "execution_count": 186,
   "metadata": {},
   "outputs": [
    {
     "data": {
      "text/plain": [
       "array([ 1900., 30000.,  4000., 48300.])"
      ]
     },
     "execution_count": 186,
     "metadata": {},
     "output_type": "execute_result"
    }
   ],
   "source": [
    "d[0]"
   ]
  },
  {
   "cell_type": "code",
   "execution_count": 187,
   "metadata": {},
   "outputs": [
    {
     "data": {
      "text/plain": [
       "2"
      ]
     },
     "execution_count": 187,
     "metadata": {},
     "output_type": "execute_result"
    }
   ],
   "source": [
    "d[0].argsort()[::-1][:3][-1]"
   ]
  },
  {
   "cell_type": "code",
   "execution_count": 188,
   "metadata": {},
   "outputs": [
    {
     "name": "stdout",
     "output_type": "stream",
     "text": [
      "1900.0 and 4000.0 specie: ['L'] 1\n",
      "1901.0 and 6100.0 specie: ['L'] 1\n",
      "1902.0 and 9800.0 specie: ['L'] 1\n",
      "1903.0 and 35200.0 specie: ['L'] 1\n",
      "1904.0 and 36300.0 specie: ['H'] 0\n",
      "1905.0 and 20600.0 specie: ['H'] 0\n",
      "1906.0 and 18100.0 specie: ['H'] 0\n",
      "1907.0 and 13000.0 specie: ['L'] 1\n",
      "1908.0 and 8300.0 specie: ['L'] 1\n",
      "1909.0 and 9100.0 specie: ['L'] 1\n",
      "1910.0 and 7400.0 specie: ['L'] 1\n",
      "1911.0 and 8000.0 specie: ['L'] 1\n",
      "1912.0 and 12300.0 specie: ['L'] 1\n",
      "1913.0 and 19500.0 specie: ['L'] 1\n",
      "1914.0 and 39400.0 specie: ['C'] 2\n",
      "1915.0 and 19500.0 specie: ['H'] 0\n",
      "1916.0 and 11200.0 specie: ['H'] 0\n",
      "1917.0 and 7600.0 specie: ['H'] 0\n",
      "1918.0 and 9700.0 specie: ['L'] 1\n",
      "1919.0 and 10100.0 specie: ['L'] 1\n",
      "1920.0 and 8600.0 specie: ['L'] 1\n"
     ]
    }
   ],
   "source": [
    "l = []\n",
    "c = []\n",
    "h = []\n",
    "\n",
    "for i in range(0, len(d)):\n",
    "    x = d[i].argsort()[::-1][:3][-1]\n",
    "    if (x - 1) == 0:\n",
    "        h.append(d[i][x])\n",
    "    elif (x - 1) == 1:\n",
    "        l.append(d[i][x])\n",
    "    elif (x - 1) == 2:\n",
    "        c.append(d[i][x])\n",
    "    print(d[i][0], \"and\", d[i][x], \"specie:\", species[[x - 1]], x-1)"
   ]
  },
  {
   "cell_type": "code",
   "execution_count": 189,
   "metadata": {},
   "outputs": [
    {
     "data": {
      "text/plain": [
       "2"
      ]
     },
     "execution_count": 189,
     "metadata": {},
     "output_type": "execute_result"
    }
   ],
   "source": [
    "np.argsort(d[0])[::-1][:3][-1]"
   ]
  },
  {
   "cell_type": "code",
   "execution_count": 190,
   "metadata": {},
   "outputs": [
    {
     "name": "stdout",
     "output_type": "stream",
     "text": [
      "['H'] [1916. 1917.]\n"
     ]
    }
   ],
   "source": [
    "for i in range(0, len(species)):\n",
    "    if (i + 1) == 1:\n",
    "        x = np.argsort(d[:, i + 1])[::-1][-2:]\n",
    "        print(species[[i]], d[x][:, 0])\n",
    "        "
   ]
  },
  {
   "cell_type": "markdown",
   "metadata": {},
   "source": [
    "# The pythonic way: <font color='red'>Without</font>  `for` loop"
   ]
  },
  {
   "cell_type": "code",
   "execution_count": 2,
   "metadata": {},
   "outputs": [],
   "source": [
    "d1 = np.loadtxt(\"populations.txt\")\n",
    "species = np.array(['H', 'L', 'C'])"
   ]
  },
  {
   "cell_type": "markdown",
   "metadata": {},
   "source": [
    "## 1. Mean $\\mu$ and Standard Deviation $\\sigma$ "
   ]
  },
  {
   "cell_type": "code",
   "execution_count": 191,
   "metadata": {},
   "outputs": [
    {
     "name": "stdout",
     "output_type": "stream",
     "text": [
      "Mean h: 34080.95238095238 \n",
      "Mean l: 20166.666666666668 \n",
      "Mean c: 42400.0\n"
     ]
    }
   ],
   "source": [
    "h_mean, l_mean, c_mean = np.mean(d1[:, 1]), np.mean(d1[:, 2]), np.mean(d1[:, 3])\n",
    "print(\"Mean h:\", h_mean, \"\\nMean l:\", l_mean, \"\\nMean c:\", c_mean)"
   ]
  },
  {
   "cell_type": "code",
   "execution_count": 250,
   "metadata": {},
   "outputs": [
    {
     "name": "stdout",
     "output_type": "stream",
     "text": [
      "sd h: 20897.906458089667 \n",
      "sd l: 16254.591536908763 \n",
      "sd c: 3322.5062255844787\n"
     ]
    }
   ],
   "source": [
    "h_sd, l_sd, c_sd = np.std(d1[:, 1]), np.std(d1[:, 2]), np.std(d1[:, 3])\n",
    "print(\"sd h:\", h_sd, \"\\nsd l:\", l_sd, \"\\nsd c:\", c_sd)"
   ]
  },
  {
   "cell_type": "markdown",
   "metadata": {},
   "source": [
    "## 2. Year with largest population for each species"
   ]
  },
  {
   "cell_type": "code",
   "execution_count": 251,
   "metadata": {},
   "outputs": [
    {
     "name": "stdout",
     "output_type": "stream",
     "text": [
      "Year for max H: 1903 \n",
      "\n",
      "Year for max L: 1904 \n",
      "\n",
      "Year for max C: 1900 \n",
      "\n"
     ]
    }
   ],
   "source": [
    "hmax = np.argwhere(d1 == d1[:, 1].max())[0][0]\n",
    "lmax = np.argwhere(d1 == d1[:, 2].max())[0][0]\n",
    "cmax = np.argwhere(d1 == d1[:, 3].max())[0][0]\n",
    "max_pop = [hmax, lmax, cmax]\n",
    "\n",
    "# For loop just for printing !\n",
    "for i in range(0, len(species)):\n",
    "    print(\"Year for max {}:\".format(species[i]), int(d1[max_pop[i]][0]), \"\\n\")"
   ]
  },
  {
   "cell_type": "markdown",
   "metadata": {},
   "source": [
    "# 3. Species with largest population each year"
   ]
  },
  {
   "cell_type": "code",
   "execution_count": 252,
   "metadata": {},
   "outputs": [
    {
     "data": {
      "text/plain": [
       "array([['1900.0', 'C'],\n",
       "       ['1901.0', 'C'],\n",
       "       ['1902.0', 'H'],\n",
       "       ['1903.0', 'H'],\n",
       "       ['1904.0', 'L'],\n",
       "       ['1905.0', 'L'],\n",
       "       ['1906.0', 'C'],\n",
       "       ['1907.0', 'C'],\n",
       "       ['1908.0', 'C'],\n",
       "       ['1909.0', 'C'],\n",
       "       ['1910.0', 'C'],\n",
       "       ['1911.0', 'C'],\n",
       "       ['1912.0', 'H'],\n",
       "       ['1913.0', 'H'],\n",
       "       ['1914.0', 'H'],\n",
       "       ['1915.0', 'L'],\n",
       "       ['1916.0', 'C'],\n",
       "       ['1917.0', 'C'],\n",
       "       ['1918.0', 'C'],\n",
       "       ['1919.0', 'C'],\n",
       "       ['1920.0', 'C']], dtype='<U32')"
      ]
     },
     "execution_count": 252,
     "metadata": {},
     "output_type": "execute_result"
    }
   ],
   "source": [
    "max_species = species[np.argsort(d1[:, [1, 2, 3]])[:, -1]]\n",
    "np.append(d1[:, [0]], max_species.reshape(21,1), axis = 1 )"
   ]
  },
  {
   "cell_type": "markdown",
   "metadata": {},
   "source": [
    "## 4. Year for population above 50000\n",
    "Which years any of the populations is above 50000. (Hint: comparisons and np.any)\n",
    "\n",
    "- - -\n",
    "Another way to do it:\n",
    "`np.any([d1[:,1] > 5e4, d1[:, 2] > 5e4, d1[:, 3] > 5e4], axis = 0)`\n",
    "- - -"
   ]
  },
  {
   "cell_type": "code",
   "execution_count": 253,
   "metadata": {},
   "outputs": [
    {
     "data": {
      "text/plain": [
       "array([1902., 1903., 1904., 1912., 1913., 1914., 1915.])"
      ]
     },
     "execution_count": 253,
     "metadata": {},
     "output_type": "execute_result"
    }
   ],
   "source": [
    "y = np.any([d1[:, [1, 2, 3]] > 5e4], axis=2)[0]\n",
    "d1[:, 0][np.where(y == True)]"
   ]
  },
  {
   "cell_type": "markdown",
   "metadata": {},
   "source": [
    "## 5. Top 2 years for each specie when they had lowest population\n",
    "The top 2 years for each species when they had the lowest populations. (Hint: argsort, fancy indexing)"
   ]
  },
  {
   "cell_type": "code",
   "execution_count": 254,
   "metadata": {},
   "outputs": [
    {
     "name": "stdout",
     "output_type": "stream",
     "text": [
      "Top 2 Years for lowest H: [1917. 1916.] \n",
      "\n",
      "Top 2 Years for lowest L: [1900. 1901.] \n",
      "\n",
      "Top 2 Years for lowest C: [1916. 1903.] \n",
      "\n"
     ]
    }
   ],
   "source": [
    "hmin = np.argsort(d1[:, 1])[0:2]\n",
    "lmin = np.argsort(d1[:, 2])[0:2]\n",
    "cmin = np.argsort(d1[:, 3])[0:2]\n",
    "\n",
    "min_pop = np.array([hmin, lmin, cmin])\n",
    "\n",
    "# For loop just for printing !\n",
    "for i in range(0, len(species)):\n",
    "    print(\"Top 2 Years for lowest {}:\".format(species[i]), d1[:, 0][min_pop[i]], \"\\n\")"
   ]
  },
  {
   "cell_type": "code",
   "execution_count": null,
   "metadata": {},
   "outputs": [],
   "source": []
  }
 ],
 "metadata": {
  "kernelspec": {
   "display_name": "Python 3",
   "language": "python",
   "name": "python3"
  },
  "language_info": {
   "codemirror_mode": {
    "name": "ipython",
    "version": 3
   },
   "file_extension": ".py",
   "mimetype": "text/x-python",
   "name": "python",
   "nbconvert_exporter": "python",
   "pygments_lexer": "ipython3",
   "version": "3.6.8"
  }
 },
 "nbformat": 4,
 "nbformat_minor": 2
}
