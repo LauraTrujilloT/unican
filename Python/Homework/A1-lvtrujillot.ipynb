{
 "cells": [
  {
   "cell_type": "markdown",
   "metadata": {},
   "source": [
    "# Assignment: First steps with Python\n",
    "_Author: Laura V. Trujillo T._ [lvtrujillot@unal.edu.co](lvtrujillot@unal.edu.co)\n",
    "\n",
    "## Introduction\n",
    "The main interest of this assignment is to give an overview of the fundamentals in python. In that regard, it is required to reproduce and comment some examples given in the [scipy lectures](http://scipy-lectures.org/intro/language/python_language.html) and also to implement three functions: **Pi number**, **Fibonacci sequence** and **Quicksort**"
   ]
  },
  {
   "cell_type": "markdown",
   "metadata": {},
   "source": [
    "## Basic Examples\n",
    "\n",
    "- **Basic types**\n",
    "\n",
    "```python\n",
    "  colors[0] = \"yellow\" # = operator for labelling\n",
    "  colors[2] = [\"gray\",\"purple\"]\n",
    "  #Replacing [2] and adding to the List\n",
    "  colors[2:5] = [\"yellow\",\"orange\"]\n",
    "  #Replacing in between and adding new elements\n",
    "  colors.append(\"pink\") #adding element\n",
    "  colors.pop()\n",
    "```\n",
    "\n",
    "- **Control flow**\n",
    "\n",
    "_Example 1_\n",
    "\n",
    "```python\n",
    "vowels = 'aeiouy'\n",
    "\n",
    "for i in 'powerful': # i will be every character in the string powerful\n",
    "\n",
    "    if i in vowels: # evaluates i is one of the char in string 'aeiouy'\n",
    "\n",
    "        print(i) # prints the i's in common with vowels\n",
    "\n",
    ">> o\n",
    ">> e\n",
    ">> u\n",
    "```\n",
    "\n",
    "_example 2_ : `words = ('cool', 'powerful', 'readable')`\n",
    "\n",
    "```python\n",
    "for index, item in enumerate(words): #enumerate: simplifies the task to iterate and keep track of index tuple\n",
    "    print((index, item)) # shows index and item of tuple\n",
    "    \n",
    ">> (0, 'cool')\n",
    "   (1, 'powerful')\n",
    "   (2, 'readable')\n",
    "```\n",
    "\n",
    "- **Defining functions**\n",
    "\n",
    "_Example 1_\n",
    "```python\n",
    "def variable_args(*args, **kwargs): #function with any number of arguments and keyword arguments in a dictionary\n",
    "\n",
    "     print('args is', args) #shows arguments given\n",
    "\n",
    "     print('kwargs is', kwargs) #shows arguments in the dictionary\n",
    "    \n",
    "variable_args('one', 'two', x=1, y=2, z=3)\n",
    ">> args is ('one','two')\n",
    "    kwargs is {'y':2,'x':1, 'z':3}\n",
    "```"
   ]
  },
  {
   "cell_type": "markdown",
   "metadata": {},
   "source": [
    "## Compute Pi number\n",
    "Compute the decimals of $\\pi$ using the Wallis' formula:\n",
    "$$ \\pi = 2 \\prod_{i=1}^{\\infty} \\frac{4 i^2}{4 i^2 -1} $$"
   ]
  },
  {
   "cell_type": "code",
   "execution_count": 1,
   "metadata": {},
   "outputs": [],
   "source": [
    "def pi_wallis(n=1000):\n",
    "    '''\n",
    "    Computes Pi using the Wallis formula.\n",
    "    \n",
    "    Parameters:\n",
    "    n (int): value given to stop the serie.\n",
    "    \n",
    "    Returns:\n",
    "    float: value of Pi\n",
    "    '''\n",
    "    assert n !=0 and int(n)==n and n > 1, 'n must be a positive integer and bigger than zero'\n",
    "    \n",
    "    x = 2\n",
    "    for i in range(1, n):\n",
    "        x = x * (4 * i**2 / (4 * i**2 - 1))\n",
    "    return x\n",
    "            "
   ]
  },
  {
   "cell_type": "code",
   "execution_count": 2,
   "metadata": {},
   "outputs": [
    {
     "data": {
      "text/plain": [
       "3.1408069608284657"
      ]
     },
     "execution_count": 2,
     "metadata": {},
     "output_type": "execute_result"
    }
   ],
   "source": [
    "pi_wallis()"
   ]
  },
  {
   "cell_type": "code",
   "execution_count": 106,
   "metadata": {},
   "outputs": [
    {
     "ename": "AssertionError",
     "evalue": "n must be a positive integer and bigger than zero",
     "output_type": "error",
     "traceback": [
      "\u001b[0;31m---------------------------------------------------------------------------\u001b[0m",
      "\u001b[0;31mAssertionError\u001b[0m                            Traceback (most recent call last)",
      "\u001b[0;32m<ipython-input-106-36f0f30ba7b8>\u001b[0m in \u001b[0;36m<module>\u001b[0;34m\u001b[0m\n\u001b[0;32m----> 1\u001b[0;31m \u001b[0mpi_wallis\u001b[0m\u001b[0;34m(\u001b[0m\u001b[0;36m1.3\u001b[0m\u001b[0;34m)\u001b[0m\u001b[0;34m\u001b[0m\u001b[0;34m\u001b[0m\u001b[0m\n\u001b[0m",
      "\u001b[0;32m<ipython-input-104-a0e9b060f074>\u001b[0m in \u001b[0;36mpi_wallis\u001b[0;34m(n)\u001b[0m\n\u001b[1;32m      9\u001b[0m     \u001b[0mfloat\u001b[0m\u001b[0;34m:\u001b[0m \u001b[0mvalue\u001b[0m \u001b[0mof\u001b[0m \u001b[0mPi\u001b[0m\u001b[0;34m\u001b[0m\u001b[0;34m\u001b[0m\u001b[0m\n\u001b[1;32m     10\u001b[0m     '''\n\u001b[0;32m---> 11\u001b[0;31m     \u001b[0;32massert\u001b[0m \u001b[0mn\u001b[0m \u001b[0;34m!=\u001b[0m\u001b[0;36m0\u001b[0m \u001b[0;32mand\u001b[0m \u001b[0mint\u001b[0m\u001b[0;34m(\u001b[0m\u001b[0mn\u001b[0m\u001b[0;34m)\u001b[0m\u001b[0;34m==\u001b[0m\u001b[0mn\u001b[0m \u001b[0;32mand\u001b[0m \u001b[0mn\u001b[0m \u001b[0;34m>\u001b[0m \u001b[0;36m1\u001b[0m\u001b[0;34m,\u001b[0m \u001b[0;34m'n must be a positive integer and bigger than zero'\u001b[0m\u001b[0;34m\u001b[0m\u001b[0;34m\u001b[0m\u001b[0m\n\u001b[0m\u001b[1;32m     12\u001b[0m \u001b[0;34m\u001b[0m\u001b[0m\n\u001b[1;32m     13\u001b[0m     \u001b[0mx\u001b[0m \u001b[0;34m=\u001b[0m \u001b[0;36m2\u001b[0m\u001b[0;34m\u001b[0m\u001b[0;34m\u001b[0m\u001b[0m\n",
      "\u001b[0;31mAssertionError\u001b[0m: n must be a positive integer and bigger than zero"
     ]
    }
   ],
   "source": [
    "pi_wallis(1.3)"
   ]
  },
  {
   "cell_type": "markdown",
   "metadata": {},
   "source": [
    "## Fibonacci Sequence\n",
    "Write a function that displays the `n` first terms of the Fibonacci sequence defined by:\n",
    "\n",
    "$$\\begin{array}{cc} U_{0} = 0 \\\\ U_{1} = 1 \\\\ U_{n+2} = U_{n+1} + U_{n} \\end{array} $$"
   ]
  },
  {
   "cell_type": "code",
   "execution_count": 62,
   "metadata": {},
   "outputs": [],
   "source": [
    "def fib(n=0):\n",
    "    '''\n",
    "    Number of Fibonacci sequence for a given value n.\n",
    "    \n",
    "    Parameters:\n",
    "    n (int): value for the sequence.\n",
    "    \n",
    "    Returns:\n",
    "    int: value in the sequence\n",
    "    \n",
    "    '''\n",
    "    #Preliminary defensive programming\n",
    "    assert n >= 0 and int(n) == n,'n must be a positive integer'\n",
    "\n",
    "    if n == 0:\n",
    "        return 0\n",
    "    elif n == 1:\n",
    "        return 1\n",
    "    elif n == 2:\n",
    "        return 1\n",
    "    else:\n",
    "        return fib(n-1) + fib(n-2)\n",
    "    \n",
    "def print_fib(n=5):\n",
    "    '''\n",
    "    Print the Fibonacci sequence for given n\n",
    "    \n",
    "    Parameters:\n",
    "    n (int): value of the sequence\n",
    "    \n",
    "    Returns:\n",
    "    list: Fibonacci sequence which stops in n\n",
    "    '''\n",
    "    assert n >= 0 and int(n) == n, 'n must be a positive integer'\n",
    "    x = []\n",
    "    for i in range(0, n + 1):\n",
    "        y = fib(i)\n",
    "        x.append(y)\n",
    "    return x"
   ]
  },
  {
   "cell_type": "code",
   "execution_count": 63,
   "metadata": {},
   "outputs": [
    {
     "data": {
      "text/plain": [
       "[0, 1, 1, 2, 3]"
      ]
     },
     "execution_count": 63,
     "metadata": {},
     "output_type": "execute_result"
    }
   ],
   "source": [
    "print_fib(4)"
   ]
  },
  {
   "cell_type": "code",
   "execution_count": 64,
   "metadata": {},
   "outputs": [
    {
     "data": {
      "text/plain": [
       "[0, 1, 1, 2, 3, 5]"
      ]
     },
     "execution_count": 64,
     "metadata": {},
     "output_type": "execute_result"
    }
   ],
   "source": [
    "print_fib(5)"
   ]
  },
  {
   "cell_type": "code",
   "execution_count": 66,
   "metadata": {},
   "outputs": [
    {
     "ename": "AssertionError",
     "evalue": "n must be a positive integer",
     "output_type": "error",
     "traceback": [
      "\u001b[0;31m---------------------------------------------------------------------------\u001b[0m",
      "\u001b[0;31mAssertionError\u001b[0m                            Traceback (most recent call last)",
      "\u001b[0;32m<ipython-input-66-605206f85731>\u001b[0m in \u001b[0;36m<module>\u001b[0;34m()\u001b[0m\n\u001b[0;32m----> 1\u001b[0;31m \u001b[0mprint_fib\u001b[0m\u001b[0;34m(\u001b[0m\u001b[0;34m-\u001b[0m\u001b[0;36m1\u001b[0m\u001b[0;34m)\u001b[0m\u001b[0;34m\u001b[0m\u001b[0;34m\u001b[0m\u001b[0m\n\u001b[0m",
      "\u001b[0;32m<ipython-input-62-56249339e510>\u001b[0m in \u001b[0;36mprint_fib\u001b[0;34m(n)\u001b[0m\n\u001b[1;32m     32\u001b[0m     \u001b[0mlist\u001b[0m\u001b[0;34m:\u001b[0m \u001b[0mFibonacci\u001b[0m \u001b[0msequence\u001b[0m \u001b[0mwhich\u001b[0m \u001b[0mstops\u001b[0m \u001b[0;32min\u001b[0m \u001b[0mn\u001b[0m\u001b[0;34m\u001b[0m\u001b[0;34m\u001b[0m\u001b[0m\n\u001b[1;32m     33\u001b[0m     '''\n\u001b[0;32m---> 34\u001b[0;31m     \u001b[0;32massert\u001b[0m \u001b[0mn\u001b[0m \u001b[0;34m>=\u001b[0m \u001b[0;36m0\u001b[0m \u001b[0;32mand\u001b[0m \u001b[0mint\u001b[0m\u001b[0;34m(\u001b[0m\u001b[0mn\u001b[0m\u001b[0;34m)\u001b[0m \u001b[0;34m==\u001b[0m \u001b[0mn\u001b[0m\u001b[0;34m,\u001b[0m \u001b[0;34m'n must be a positive integer'\u001b[0m\u001b[0;34m\u001b[0m\u001b[0;34m\u001b[0m\u001b[0m\n\u001b[0m\u001b[1;32m     35\u001b[0m     \u001b[0mx\u001b[0m \u001b[0;34m=\u001b[0m \u001b[0;34m[\u001b[0m\u001b[0;34m]\u001b[0m\u001b[0;34m\u001b[0m\u001b[0;34m\u001b[0m\u001b[0m\n\u001b[1;32m     36\u001b[0m     \u001b[0;32mfor\u001b[0m \u001b[0mi\u001b[0m \u001b[0;32min\u001b[0m \u001b[0mrange\u001b[0m\u001b[0;34m(\u001b[0m\u001b[0;36m0\u001b[0m\u001b[0;34m,\u001b[0m \u001b[0mn\u001b[0m \u001b[0;34m+\u001b[0m \u001b[0;36m1\u001b[0m\u001b[0;34m)\u001b[0m\u001b[0;34m:\u001b[0m\u001b[0;34m\u001b[0m\u001b[0;34m\u001b[0m\u001b[0m\n",
      "\u001b[0;31mAssertionError\u001b[0m: n must be a positive integer"
     ]
    }
   ],
   "source": [
    "print_fib(-1)"
   ]
  },
  {
   "cell_type": "markdown",
   "metadata": {},
   "source": [
    "## Quicksort implementation\n",
    "Implement the quicksort algorithm, as defined by [wiki](https://en.wikipedia.org/wiki/Quicksort)\n",
    "\n",
    "```python\n",
    "function quicksort(array)\n",
    "    var list less, greater\n",
    "    if length(array) < 2\n",
    "        return array\n",
    "    select and remove a pivot value pivot from array\n",
    "    for each x in array\n",
    "        if x < pivot + 1 then append x to less\n",
    "        else append x to greater\n",
    "    return concatenate(quicksort(less), pivot, quicksort(greater))\n",
    "```"
   ]
  },
  {
   "cell_type": "code",
   "execution_count": 8,
   "metadata": {},
   "outputs": [],
   "source": [
    "def quicksort(array):\n",
    "    '''\n",
    "    Recursive method for sorting an array.\n",
    "    \n",
    "    Parameters:\n",
    "    array (list): array for the algorithm.\n",
    "    \n",
    "    Returns:\n",
    "    (list): sorted array.\n",
    "    \n",
    "    '''\n",
    "    less = []\n",
    "    greater = []\n",
    "    \n",
    "    #Preliminary Defensive Programming\n",
    "    assert type(array) == list, 'it should be a list'\n",
    "    \n",
    "    for i in array[:]:\n",
    "        assert type(i) != str, 'type list not numerical'\n",
    "    \n",
    "    try:\n",
    "        if len(array) < 2:\n",
    "            return array\n",
    "        else:\n",
    "            #From this part of the code: it was modify from the implementation of \n",
    "            # @ahmed (stackoverflow) and @anirudhjayaraman Github\n",
    "            p = array[0] # Select pivot from array\n",
    "            less = [i for i in array[1:] if i <= p] \n",
    "            # if i (item from array but array[1]) less or equal than pivot, goes to less[]\n",
    "            greater = [i for i in array[1:] if i > p]\n",
    "        return quicksort(less) + [p] + quicksort(greater) #concatenating new list\n",
    "            # til this part\n",
    "\n",
    "    except:\n",
    "        return \"ERROR: type of elements in list non identical\""
   ]
  },
  {
   "cell_type": "code",
   "execution_count": 9,
   "metadata": {},
   "outputs": [
    {
     "data": {
      "text/plain": [
       "[-12.5, 0, 0.2, 1, 12, 20, 45, 100]"
      ]
     },
     "execution_count": 9,
     "metadata": {},
     "output_type": "execute_result"
    }
   ],
   "source": [
    "array = [12, 20, 1, 100, 45, -12.5, 0, 0.2]\n",
    "quicksort(array)\n",
    "#array[1:]"
   ]
  },
  {
   "cell_type": "code",
   "execution_count": 48,
   "metadata": {},
   "outputs": [
    {
     "ename": "AssertionError",
     "evalue": "it should be a list",
     "output_type": "error",
     "traceback": [
      "\u001b[0;31m---------------------------------------------------------------------------\u001b[0m",
      "\u001b[0;31mAssertionError\u001b[0m                            Traceback (most recent call last)",
      "\u001b[0;32m<ipython-input-48-b2ebab25a802>\u001b[0m in \u001b[0;36m<module>\u001b[0;34m()\u001b[0m\n\u001b[1;32m      1\u001b[0m \u001b[0marray2\u001b[0m \u001b[0;34m=\u001b[0m \u001b[0;34m\"sdgsgdsg\"\u001b[0m\u001b[0;34m\u001b[0m\u001b[0;34m\u001b[0m\u001b[0m\n\u001b[0;32m----> 2\u001b[0;31m \u001b[0mquicksort\u001b[0m\u001b[0;34m(\u001b[0m\u001b[0marray2\u001b[0m\u001b[0;34m)\u001b[0m\u001b[0;34m\u001b[0m\u001b[0;34m\u001b[0m\u001b[0m\n\u001b[0m",
      "\u001b[0;32m<ipython-input-46-fae49da0cecf>\u001b[0m in \u001b[0;36mquicksort\u001b[0;34m(array)\u001b[0m\n\u001b[1;32m     14\u001b[0m \u001b[0;34m\u001b[0m\u001b[0m\n\u001b[1;32m     15\u001b[0m     \u001b[0;31m#Preliminary Defensive Programming\u001b[0m\u001b[0;34m\u001b[0m\u001b[0;34m\u001b[0m\u001b[0;34m\u001b[0m\u001b[0m\n\u001b[0;32m---> 16\u001b[0;31m     \u001b[0;32massert\u001b[0m \u001b[0mtype\u001b[0m\u001b[0;34m(\u001b[0m\u001b[0marray\u001b[0m\u001b[0;34m)\u001b[0m \u001b[0;34m==\u001b[0m \u001b[0mlist\u001b[0m\u001b[0;34m,\u001b[0m \u001b[0;34m'it should be a list'\u001b[0m\u001b[0;34m\u001b[0m\u001b[0;34m\u001b[0m\u001b[0m\n\u001b[0m\u001b[1;32m     17\u001b[0m \u001b[0;34m\u001b[0m\u001b[0m\n\u001b[1;32m     18\u001b[0m     \u001b[0;32mfor\u001b[0m \u001b[0mi\u001b[0m \u001b[0;32min\u001b[0m \u001b[0marray\u001b[0m\u001b[0;34m[\u001b[0m\u001b[0;34m:\u001b[0m\u001b[0;34m]\u001b[0m\u001b[0;34m:\u001b[0m\u001b[0;34m\u001b[0m\u001b[0;34m\u001b[0m\u001b[0m\n",
      "\u001b[0;31mAssertionError\u001b[0m: it should be a list"
     ]
    }
   ],
   "source": [
    "array2 = \"sdgsgdsg\"\n",
    "quicksort(array2)"
   ]
  },
  {
   "cell_type": "code",
   "execution_count": 49,
   "metadata": {},
   "outputs": [
    {
     "ename": "AssertionError",
     "evalue": "type list not numerical",
     "output_type": "error",
     "traceback": [
      "\u001b[0;31m---------------------------------------------------------------------------\u001b[0m",
      "\u001b[0;31mAssertionError\u001b[0m                            Traceback (most recent call last)",
      "\u001b[0;32m<ipython-input-49-0362dd9bab6a>\u001b[0m in \u001b[0;36m<module>\u001b[0;34m()\u001b[0m\n\u001b[1;32m      1\u001b[0m \u001b[0marray3\u001b[0m \u001b[0;34m=\u001b[0m \u001b[0;34m[\u001b[0m\u001b[0;36m1\u001b[0m\u001b[0;34m,\u001b[0m \u001b[0;34m\"asf\"\u001b[0m\u001b[0;34m,\u001b[0m \u001b[0;34m\"aff\"\u001b[0m\u001b[0;34m]\u001b[0m\u001b[0;34m\u001b[0m\u001b[0;34m\u001b[0m\u001b[0m\n\u001b[0;32m----> 2\u001b[0;31m \u001b[0mquicksort\u001b[0m\u001b[0;34m(\u001b[0m\u001b[0marray3\u001b[0m\u001b[0;34m)\u001b[0m\u001b[0;34m\u001b[0m\u001b[0;34m\u001b[0m\u001b[0m\n\u001b[0m",
      "\u001b[0;32m<ipython-input-46-fae49da0cecf>\u001b[0m in \u001b[0;36mquicksort\u001b[0;34m(array)\u001b[0m\n\u001b[1;32m     17\u001b[0m \u001b[0;34m\u001b[0m\u001b[0m\n\u001b[1;32m     18\u001b[0m     \u001b[0;32mfor\u001b[0m \u001b[0mi\u001b[0m \u001b[0;32min\u001b[0m \u001b[0marray\u001b[0m\u001b[0;34m[\u001b[0m\u001b[0;34m:\u001b[0m\u001b[0;34m]\u001b[0m\u001b[0;34m:\u001b[0m\u001b[0;34m\u001b[0m\u001b[0;34m\u001b[0m\u001b[0m\n\u001b[0;32m---> 19\u001b[0;31m         \u001b[0;32massert\u001b[0m \u001b[0mtype\u001b[0m\u001b[0;34m(\u001b[0m\u001b[0mi\u001b[0m\u001b[0;34m)\u001b[0m \u001b[0;34m!=\u001b[0m \u001b[0mstr\u001b[0m\u001b[0;34m,\u001b[0m \u001b[0;34m'type list not numerical'\u001b[0m\u001b[0;34m\u001b[0m\u001b[0;34m\u001b[0m\u001b[0m\n\u001b[0m\u001b[1;32m     20\u001b[0m \u001b[0;34m\u001b[0m\u001b[0m\n\u001b[1;32m     21\u001b[0m     \u001b[0;32mtry\u001b[0m\u001b[0;34m:\u001b[0m\u001b[0;34m\u001b[0m\u001b[0;34m\u001b[0m\u001b[0m\n",
      "\u001b[0;31mAssertionError\u001b[0m: type list not numerical"
     ]
    }
   ],
   "source": [
    "array3 = [1, \"asf\", \"aff\"]\n",
    "quicksort(array3)"
   ]
  },
  {
   "cell_type": "code",
   "execution_count": 50,
   "metadata": {},
   "outputs": [
    {
     "ename": "AssertionError",
     "evalue": "type list not numerical",
     "output_type": "error",
     "traceback": [
      "\u001b[0;31m---------------------------------------------------------------------------\u001b[0m",
      "\u001b[0;31mAssertionError\u001b[0m                            Traceback (most recent call last)",
      "\u001b[0;32m<ipython-input-50-8789f698a20f>\u001b[0m in \u001b[0;36m<module>\u001b[0;34m()\u001b[0m\n\u001b[1;32m      1\u001b[0m \u001b[0marray4\u001b[0m \u001b[0;34m=\u001b[0m \u001b[0;34m[\u001b[0m\u001b[0;34m\"af\"\u001b[0m\u001b[0;34m,\u001b[0m \u001b[0;34m\"afs\"\u001b[0m\u001b[0;34m]\u001b[0m\u001b[0;34m\u001b[0m\u001b[0;34m\u001b[0m\u001b[0m\n\u001b[0;32m----> 2\u001b[0;31m \u001b[0mquicksort\u001b[0m\u001b[0;34m(\u001b[0m\u001b[0marray4\u001b[0m\u001b[0;34m)\u001b[0m\u001b[0;34m\u001b[0m\u001b[0;34m\u001b[0m\u001b[0m\n\u001b[0m",
      "\u001b[0;32m<ipython-input-46-fae49da0cecf>\u001b[0m in \u001b[0;36mquicksort\u001b[0;34m(array)\u001b[0m\n\u001b[1;32m     17\u001b[0m \u001b[0;34m\u001b[0m\u001b[0m\n\u001b[1;32m     18\u001b[0m     \u001b[0;32mfor\u001b[0m \u001b[0mi\u001b[0m \u001b[0;32min\u001b[0m \u001b[0marray\u001b[0m\u001b[0;34m[\u001b[0m\u001b[0;34m:\u001b[0m\u001b[0;34m]\u001b[0m\u001b[0;34m:\u001b[0m\u001b[0;34m\u001b[0m\u001b[0;34m\u001b[0m\u001b[0m\n\u001b[0;32m---> 19\u001b[0;31m         \u001b[0;32massert\u001b[0m \u001b[0mtype\u001b[0m\u001b[0;34m(\u001b[0m\u001b[0mi\u001b[0m\u001b[0;34m)\u001b[0m \u001b[0;34m!=\u001b[0m \u001b[0mstr\u001b[0m\u001b[0;34m,\u001b[0m \u001b[0;34m'type list not numerical'\u001b[0m\u001b[0;34m\u001b[0m\u001b[0;34m\u001b[0m\u001b[0m\n\u001b[0m\u001b[1;32m     20\u001b[0m \u001b[0;34m\u001b[0m\u001b[0m\n\u001b[1;32m     21\u001b[0m     \u001b[0;32mtry\u001b[0m\u001b[0;34m:\u001b[0m\u001b[0;34m\u001b[0m\u001b[0;34m\u001b[0m\u001b[0m\n",
      "\u001b[0;31mAssertionError\u001b[0m: type list not numerical"
     ]
    }
   ],
   "source": [
    "array4 = [\"af\", \"afs\"]\n",
    "quicksort(array4)"
   ]
  }
 ],
 "metadata": {
  "kernelspec": {
   "display_name": "Python 3",
   "language": "python",
   "name": "python3"
  },
  "language_info": {
   "codemirror_mode": {
    "name": "ipython",
    "version": 3
   },
   "file_extension": ".py",
   "mimetype": "text/x-python",
   "name": "python",
   "nbconvert_exporter": "python",
   "pygments_lexer": "ipython3",
   "version": "3.6.8"
  }
 },
 "nbformat": 4,
 "nbformat_minor": 2
}
