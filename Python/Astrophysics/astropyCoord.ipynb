{
 "cells": [
  {
   "cell_type": "markdown",
   "metadata": {},
   "source": [
    "OBTENER IMAGEN DE SLOAN "
   ]
  },
  {
   "cell_type": "code",
   "execution_count": 1,
   "metadata": {},
   "outputs": [],
   "source": [
    "\n",
    "import matplotlib.pyplot as pl\n",
    "import numpy as np\n",
    "from astropy.coordinates import SkyCoord\n",
    "from astropy import units as u"
   ]
  },
  {
   "cell_type": "code",
   "execution_count": 3,
   "metadata": {},
   "outputs": [
    {
     "name": "stdout",
     "output_type": "stream",
     "text": [
      "('coordinates', <SkyCoord (ICRS): (ra, dec) in deg\n",
      "    (83.63308333, 22.0145)>)\n",
      "('ascension recta', <Longitude 83.63308333 deg>)\n",
      "('ascension recta', hms_tuple(h=5.0, m=34.0, s=31.939999200005502))\n"
     ]
    }
   ],
   "source": [
    "c = SkyCoord.from_name('CRAB')  # poner nombre fuente y te busca en SESAME las coordenadas (hay que tener conexión a internet)\n",
    "print('coordinates',  c)  # nos da coordenadas ecuatoriales (icrs)\n",
    "print('ascension recta',c.ra) # nos la da en grados arco minutos y arcosegundos\n",
    "print('ascension recta',c.ra.hms) # nos la vuelve a dar en grados\n",
    "#print('distancia',c.distance) "
   ]
  },
  {
   "cell_type": "code",
   "execution_count": 4,
   "metadata": {},
   "outputs": [
    {
     "name": "stdout",
     "output_type": "stream",
     "text": [
      "<SkyCoord (Galactic): (l, b) in deg\n",
      "    (184.55745788, -5.78435671)>\n",
      "184d33m26.8484s\n"
     ]
    }
   ],
   "source": [
    "# cambio de coordenadas de equatoriales a galacticas: longitud y latitud, (l,b)\n",
    "a=c.galactic\n",
    "print(a)\n",
    "print(a.l) # la longitud por separado la da en días minutos y horas, la podemos pasar a grados como\n",
    "lat=a.l.degree\n",
    "lon=a.b.degree"
   ]
  },
  {
   "cell_type": "code",
   "execution_count": 16,
   "metadata": {},
   "outputs": [
    {
     "name": "stdout",
     "output_type": "stream",
     "text": [
      "<SkyCoord (AltAz: obstime=2019-11-27 19:50:36.491301, location=(2225015.308832959, -5440016.417997617, -2481631.274280136) m, pressure=0.0 hPa, temperature=0.0 deg_C, relative_humidity=0.0, obswl=1.0 micron): (az, alt) in deg\n",
      "    (85.51674569, -60.11757691)>\n"
     ]
    },
    {
     "name": "stderr",
     "output_type": "stream",
     "text": [
      "WARNING: failed to download http://maia.usno.navy.mil/ser7/finals2000A.all, using local IERS-B: <urlopen error [Errno 8] nodename nor servname provided, or not known. requested URL: http://maia.usno.navy.mil/ser7/finals2000A.all> [astropy.utils.iers.iers]\n"
     ]
    },
    {
     "data": {
      "text/plain": [
       "[u'',\n",
       " u'',\n",
       " u'',\n",
       " u'ALMA',\n",
       " u'ATST',\n",
       " u'Anglo-Australian Observatory',\n",
       " u'Apache Point',\n",
       " u'Apache Point Observatory',\n",
       " u'Atacama Large Millimeter Array',\n",
       " u'BAO',\n",
       " u'BBSO',\n",
       " u'Beijing XingLong Observatory',\n",
       " u'Black Moshannon Observatory',\n",
       " u'CHARA',\n",
       " u'Canada-France-Hawaii Telescope',\n",
       " u'Catalina Observatory',\n",
       " u'Cerro Pachon',\n",
       " u'Cerro Paranal',\n",
       " u'Cerro Tololo',\n",
       " u'Cerro Tololo Interamerican Observatory',\n",
       " u'DCT',\n",
       " u'DKIST',\n",
       " u'Discovery Channel Telescope',\n",
       " u'Dominion Astrophysical Observatory',\n",
       " u'GBT',\n",
       " u'Gemini South',\n",
       " u'Green Bank Telescope',\n",
       " u'Hale Telescope',\n",
       " u'Haleakala Observatories',\n",
       " u'Happy Jack',\n",
       " u'IAO',\n",
       " u'JCMT',\n",
       " u'James Clerk Maxwell Telescope',\n",
       " u'Jansky Very Large Array',\n",
       " u'Keck Observatory',\n",
       " u'Kitt Peak',\n",
       " u'Kitt Peak National Observatory',\n",
       " u'La Silla Observatory',\n",
       " u'Large Binocular Telescope',\n",
       " u'Las Campanas Observatory',\n",
       " u'Lick Observatory',\n",
       " u'Lowell Observatory',\n",
       " u'MWA',\n",
       " u'Manastash Ridge Observatory',\n",
       " u'McDonald Observatory',\n",
       " u'Medicina',\n",
       " u'Medicina Dish',\n",
       " u'Michigan-Dartmouth-MIT Observatory',\n",
       " u'Mount Graham International Observatory',\n",
       " u'Mt Graham',\n",
       " u'Mt. Ekar 182 cm. Telescope',\n",
       " u'Mt. Stromlo Observatory',\n",
       " u'Multiple Mirror Telescope',\n",
       " u'Murchison Widefield Array',\n",
       " u'NOV',\n",
       " u'NST',\n",
       " u'National Observatory of Venezuela',\n",
       " u'Noto',\n",
       " u'Observatorio Astronomico Nacional, San Pedro Martir',\n",
       " u'Observatorio Astronomico Nacional, Tonantzintla',\n",
       " u'Palomar',\n",
       " u'Paranal Observatory',\n",
       " u'Roque de los Muchachos',\n",
       " u'SAAO',\n",
       " u'SALT',\n",
       " u'SPO',\n",
       " u'SRT',\n",
       " u'Sac Peak',\n",
       " u'Sacramento Peak',\n",
       " u'Siding Spring Observatory',\n",
       " u'Southern African Large Telescope',\n",
       " u'Subaru',\n",
       " u'Subaru Telescope',\n",
       " u'Sunspot',\n",
       " u'Sutherland',\n",
       " u'TUG',\n",
       " u'UKIRT',\n",
       " u'United Kingdom Infrared Telescope',\n",
       " u'Vainu Bappu Observatory',\n",
       " u'Very Large Array',\n",
       " u'W. M. Keck Observatory',\n",
       " u'Whipple',\n",
       " u'Whipple Observatory',\n",
       " u'aao',\n",
       " u'alma',\n",
       " u'apo',\n",
       " u'bbso',\n",
       " u'bmo',\n",
       " u'cfht',\n",
       " u'ctio',\n",
       " u'dao',\n",
       " u'dct',\n",
       " u'dkist',\n",
       " u'ekar',\n",
       " u'example_site',\n",
       " u'flwo',\n",
       " u'gbt',\n",
       " u'gemini_north',\n",
       " u'gemini_south',\n",
       " u'gemn',\n",
       " u'gems',\n",
       " u'greenwich',\n",
       " u'haleakala',\n",
       " u'iao',\n",
       " u'irtf',\n",
       " u'jcmt',\n",
       " u'keck',\n",
       " u'kpno',\n",
       " u'lapalma',\n",
       " u'lasilla',\n",
       " u'lbt',\n",
       " u'lco',\n",
       " u'lick',\n",
       " u'lowell',\n",
       " u'mcdonald',\n",
       " u'mdm',\n",
       " u'medicina',\n",
       " u'mmt',\n",
       " u'mro',\n",
       " u'mso',\n",
       " u'mtbigelow',\n",
       " u'mwa',\n",
       " u'mwo',\n",
       " u'noto',\n",
       " u'ohp',\n",
       " u'paranal',\n",
       " u'salt',\n",
       " u'sirene',\n",
       " u'spm',\n",
       " u'spo',\n",
       " u'srt',\n",
       " u'sso',\n",
       " u'tona',\n",
       " u'tug',\n",
       " u'ukirt',\n",
       " u'vbo',\n",
       " u'vla']"
      ]
     },
     "execution_count": 16,
     "metadata": {},
     "output_type": "execute_result"
    }
   ],
   "source": [
    "from astropy.coordinates import SkyCoord, EarthLocation\n",
    "from astropy import coordinates as coord\n",
    "from astropy.time import Time\n",
    "coordin = EarthLocation.of_site('ALMA') \n",
    "aa_frame = coord.AltAz(obstime=Time.now(), location=coordin)\n",
    "aa_c = c.transform_to(aa_frame)\n",
    "print(aa_c)\n",
    "\n",
    "EarthLocation.get_site_names()"
   ]
  },
  {
   "cell_type": "markdown",
   "metadata": {},
   "source": [
    "UNIDADES"
   ]
  },
  {
   "cell_type": "code",
   "execution_count": 10,
   "metadata": {},
   "outputs": [
    {
     "name": "stdout",
     "output_type": "stream",
     "text": [
      "1.0 pc 30856775814671.914 km 3.26156377714188 lyr\n"
     ]
    }
   ],
   "source": [
    "# UNIDADES\n",
    "from astropy import units as u\n",
    "x = 1.0 * u.parsec\n",
    "d = x.to(u.km)\n",
    "d2= x.to(u.lyr)\n",
    "print (x,d,d2)"
   ]
  },
  {
   "cell_type": "code",
   "execution_count": 11,
   "metadata": {},
   "outputs": [
    {
     "name": "stdout",
     "output_type": "stream",
     "text": [
      "3.3333333333333334e-09 pc s / m\n"
     ]
    }
   ],
   "source": [
    "c=3E8*(u.m/u.s)\n",
    "t=x/c\n",
    "print(t)\n"
   ]
  },
  {
   "cell_type": "code",
   "execution_count": 12,
   "metadata": {},
   "outputs": [
    {
     "name": "stdout",
     "output_type": "stream",
     "text": [
      "102855919.38223973 s\n"
     ]
    }
   ],
   "source": [
    "print(t.decompose())"
   ]
  },
  {
   "cell_type": "code",
   "execution_count": 13,
   "metadata": {},
   "outputs": [
    {
     "name": "stdout",
     "output_type": "stream",
     "text": [
      "3.2593074055770948 yr\n"
     ]
    }
   ],
   "source": [
    "print(t.decompose().to(u.yr))"
   ]
  },
  {
   "cell_type": "code",
   "execution_count": 14,
   "metadata": {},
   "outputs": [
    {
     "name": "stdout",
     "output_type": "stream",
     "text": [
      "3.2615637771418795 yr\n"
     ]
    }
   ],
   "source": [
    "import astropy.constants as const\n",
    "c=const.c\n",
    "t=x/c\n",
    "print(t.decompose().to(u.yr)) "
   ]
  },
  {
   "cell_type": "code",
   "execution_count": 52,
   "metadata": {},
   "outputs": [],
   "source": [
    "# que es exactamente lo que teníamos arriba"
   ]
  },
  {
   "cell_type": "code",
   "execution_count": 59,
   "metadata": {},
   "outputs": [
    {
     "name": "stdout",
     "output_type": "stream",
     "text": [
      "  Name   = Planck constant\n",
      "  Value  = 6.62607004e-34\n",
      "  Uncertainty  = 8.1e-42\n",
      "  Unit  = J s\n",
      "  Reference = CODATA 2014\n"
     ]
    },
    {
     "data": {
      "text/latex": [
       "$6.62607 \\times 10^{-34} \\; \\mathrm{J\\,s}$"
      ],
      "text/plain": [
       "<<class 'astropy.constants.codata2014.CODATA2014'> name='Planck constant' value=6.62607004e-34 uncertainty=8.1e-42 unit='J s' reference='CODATA 2014'>"
      ]
     },
     "execution_count": 59,
     "metadata": {},
     "output_type": "execute_result"
    }
   ],
   "source": [
    "h=const.h\n",
    "print(h)\n",
    "h"
   ]
  },
  {
   "cell_type": "code",
   "execution_count": 6,
   "metadata": {},
   "outputs": [
    {
     "ename": "AttributeError",
     "evalue": "'builtin_function_or_method' object has no attribute 'read'",
     "output_type": "error",
     "traceback": [
      "\u001b[0;31m---------------------------------------------------------------------------\u001b[0m",
      "\u001b[0;31mAttributeError\u001b[0m                            Traceback (most recent call last)",
      "\u001b[0;32m<ipython-input-6-59226f085d42>\u001b[0m in \u001b[0;36m<module>\u001b[0;34m\u001b[0m\n\u001b[0;32m----> 1\u001b[0;31m \u001b[0mtbl\u001b[0m \u001b[0;34m=\u001b[0m \u001b[0mascii\u001b[0m\u001b[0;34m.\u001b[0m\u001b[0mread\u001b[0m\u001b[0;34m(\u001b[0m\u001b[0;34m\"Young-Objects-Compilation.csv\"\u001b[0m\u001b[0;34m,\u001b[0m \u001b[0mheader_start\u001b[0m\u001b[0;34m=\u001b[0m\u001b[0;36m1\u001b[0m\u001b[0;34m)\u001b[0m\u001b[0;34m\u001b[0m\u001b[0;34m\u001b[0m\u001b[0m\n\u001b[0m",
      "\u001b[0;31mAttributeError\u001b[0m: 'builtin_function_or_method' object has no attribute 'read'"
     ]
    }
   ],
   "source": []
  },
  {
   "cell_type": "code",
   "execution_count": 21,
   "metadata": {},
   "outputs": [
    {
     "data": {
      "text/latex": [
       "$1.6021766 \\times 10^{-19} \\; \\mathrm{C}$"
      ],
      "text/plain": [
       "<<class 'astropy.constants.codata2014.EMCODATA2014'> name='Electron charge' value=1.6021766208e-19 uncertainty=9.8e-28 unit='C' reference='CODATA 2014'>"
      ]
     },
     "execution_count": 21,
     "metadata": {},
     "output_type": "execute_result"
    }
   ],
   "source": [
    "const.G\n",
    "const.h\n",
    "const.e"
   ]
  },
  {
   "cell_type": "code",
   "execution_count": null,
   "metadata": {},
   "outputs": [],
   "source": []
  }
 ],
 "metadata": {
  "kernelspec": {
   "display_name": "Python 3",
   "language": "python",
   "name": "python3"
  },
  "language_info": {
   "codemirror_mode": {
    "name": "ipython",
    "version": 3
   },
   "file_extension": ".py",
   "mimetype": "text/x-python",
   "name": "python",
   "nbconvert_exporter": "python",
   "pygments_lexer": "ipython3",
   "version": "3.6.9"
  }
 },
 "nbformat": 4,
 "nbformat_minor": 2
}
