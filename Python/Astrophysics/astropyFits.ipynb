{
 "cells": [
  {
   "cell_type": "markdown",
   "metadata": {},
   "source": [
    "FITS EXAMPLES "
   ]
  },
  {
   "cell_type": "code",
   "execution_count": 44,
   "metadata": {},
   "outputs": [],
   "source": [
    "\n",
    "import matplotlib.pyplot as pl\n",
    "import numpy as np"
   ]
  },
  {
   "cell_type": "code",
   "execution_count": 45,
   "metadata": {},
   "outputs": [
    {
     "name": "stdout",
     "output_type": "stream",
     "text": [
      "Filename: COM_CMB_IQU-sevem_1024_R2.02_full.fits\n",
      "No.    Name      Ver    Type      Cards   Dimensions   Format\n",
      "  0  PRIMARY       1 PrimaryHDU      16   ()      \n",
      "  1  COMP-MAP      1 BinTableHDU     61   12582912R x 5C   [E, E, E, B, B]   \n",
      "  2  BEAMTF        1 BinTableHDU     45   3101R x 2C   [E, E]   \n"
     ]
    }
   ],
   "source": [
    "from astropy.io import fits\n",
    "fits_image_filename = fits.util.get_testdata_filepath('test0.fits')\n",
    "hdu= fits.open(fits_image_filename)\n",
    "hdu= fits.open('COM_CMB_IQU-sevem_1024_R2.02_full.fits')\n",
    "#print(hdu)\n",
    "hdu.info()"
   ]
  },
  {
   "cell_type": "code",
   "execution_count": 69,
   "metadata": {
    "scrolled": false
   },
   "outputs": [],
   "source": [
    "# accedemos al header y data de cada extensión, en muchas ocasiones no hay datos en la extensión primaria y hay una cabecera global\n",
    "NAXIS=hdu[1].header[2]\n",
    "ord=hdu[1].header['ORDERING'] \n",
    "ord=headerMaps['ORDERING']\n",
    "TempMap=maps[0]\n",
    "TempMap=hdu[1].data[0]\n"
   ]
  },
  {
   "cell_type": "code",
   "execution_count": 71,
   "metadata": {
    "scrolled": true
   },
   "outputs": [
    {
     "data": {
      "text/plain": [
       "FITS_rec([(1.0, 1.0), (0.99999845, 0.99999845), (0.99999541, 0.99999541), ...,\n",
       "       (0.00065883575, 0.0), (0.00065572758, 0.0), (0.00065263303, 0.0)], \n",
       "      dtype=(numpy.record, [('INT_BEAM', '>f4'), ('POL_BEAM', '>f4')]))"
      ]
     },
     "execution_count": 71,
     "metadata": {},
     "output_type": "execute_result"
    }
   ],
   "source": [
    "maps=hdu['COMP-MAP'].data\n",
    "maps\n",
    "beam=hdu[2].data\n",
    "beam"
   ]
  },
  {
   "cell_type": "code",
   "execution_count": 74,
   "metadata": {},
   "outputs": [
    {
     "data": {
      "text/plain": [
       "[<matplotlib.lines.Line2D at 0x15267ce6d8>]"
      ]
     },
     "execution_count": 74,
     "metadata": {},
     "output_type": "execute_result"
    },
    {
     "data": {
      "image/png": "[encoded data removed]",
      "text/plain": [
       "<Figure size 432x288 with 1 Axes>"
      ]
     },
     "metadata": {
      "needs_background": "light"
     },
     "output_type": "display_data"
    }
   ],
   "source": [
    "bl=beam.field('INT_BEAM')\n",
    "pl.plot(bl)"
   ]
  },
  {
   "cell_type": "code",
   "execution_count": 64,
   "metadata": {},
   "outputs": [
    {
     "ename": "TypeError",
     "evalue": "'FITS_rec' object is not callable",
     "output_type": "error",
     "traceback": [
      "\u001b[0;31m---------------------------------------------------------------------------\u001b[0m",
      "\u001b[0;31mTypeError\u001b[0m                                 Traceback (most recent call last)",
      "\u001b[0;32m<ipython-input-64-d320ee23c1a6>\u001b[0m in \u001b[0;36m<module>\u001b[0;34m\u001b[0m\n\u001b[1;32m      1\u001b[0m \u001b[0mmapaT\u001b[0m\u001b[0;34m=\u001b[0m\u001b[0mhdu\u001b[0m\u001b[0;34m[\u001b[0m\u001b[0;36m1\u001b[0m\u001b[0;34m]\u001b[0m\u001b[0;34m.\u001b[0m\u001b[0mdata\u001b[0m\u001b[0;34m.\u001b[0m\u001b[0mfield\u001b[0m\u001b[0;34m(\u001b[0m\u001b[0;36m0\u001b[0m\u001b[0;34m)\u001b[0m\u001b[0;34m\u001b[0m\u001b[0;34m\u001b[0m\u001b[0m\n\u001b[0;32m----> 2\u001b[0;31m \u001b[0mmapaT\u001b[0m\u001b[0;34m=\u001b[0m\u001b[0mhdu\u001b[0m\u001b[0;34m[\u001b[0m\u001b[0;36m1\u001b[0m\u001b[0;34m]\u001b[0m\u001b[0;34m.\u001b[0m\u001b[0mdata\u001b[0m\u001b[0;34m(\u001b[0m\u001b[0;34m'I_STOKES'\u001b[0m\u001b[0;34m)\u001b[0m\u001b[0;34m\u001b[0m\u001b[0;34m\u001b[0m\u001b[0m\n\u001b[0m\u001b[1;32m      3\u001b[0m \u001b[0mmapaT\u001b[0m\u001b[0;34m=\u001b[0m\u001b[0mhdu\u001b[0m\u001b[0;34m[\u001b[0m\u001b[0;36m1\u001b[0m\u001b[0;34m]\u001b[0m\u001b[0;34m.\u001b[0m\u001b[0mdata\u001b[0m\u001b[0;34m.\u001b[0m\u001b[0mfield\u001b[0m\u001b[0;34m(\u001b[0m\u001b[0;34m'I_STOKES'\u001b[0m\u001b[0;34m)\u001b[0m\u001b[0;34m\u001b[0m\u001b[0;34m\u001b[0m\u001b[0m\n\u001b[1;32m      4\u001b[0m \u001b[0;32mimport\u001b[0m \u001b[0mhealpy\u001b[0m \u001b[0;32mas\u001b[0m \u001b[0mhp\u001b[0m\u001b[0;34m\u001b[0m\u001b[0;34m\u001b[0m\u001b[0m\n\u001b[1;32m      5\u001b[0m \u001b[0mhp\u001b[0m\u001b[0;34m.\u001b[0m\u001b[0mmollview\u001b[0m\u001b[0;34m(\u001b[0m\u001b[0mmapa\u001b[0m\u001b[0;34m,\u001b[0m\u001b[0mmin\u001b[0m\u001b[0;34m=\u001b[0m\u001b[0;34m-\u001b[0m\u001b[0;36m0.0003\u001b[0m\u001b[0;34m,\u001b[0m\u001b[0mmax\u001b[0m\u001b[0;34m=\u001b[0m\u001b[0;36m0.0003\u001b[0m\u001b[0;34m,\u001b[0m\u001b[0mnest\u001b[0m\u001b[0;34m=\u001b[0m\u001b[0;32mTrue\u001b[0m\u001b[0;34m,\u001b[0m\u001b[0mtitle\u001b[0m\u001b[0;34m=\u001b[0m\u001b[0;34m'SEVEM Temperture map'\u001b[0m\u001b[0;34m)\u001b[0m \u001b[0;31m# recordad que mapas de PLANCK están en nested\u001b[0m\u001b[0;34m\u001b[0m\u001b[0;34m\u001b[0m\u001b[0m\n",
      "\u001b[0;31mTypeError\u001b[0m: 'FITS_rec' object is not callable"
     ]
    }
   ],
   "source": [
    "mapaT=hdu[1].data.field(0)\n",
    "mapaT=hdu[1].data.field(0)\n",
    "mapaT=hdu[1].data.field('I_STOKES')\n",
    "import healpy as hp\n",
    "hp.mollview(mapa,min=-0.0003,max=0.0003,nest=True,title='SEVEM Temperture map') # recordad que mapas de PLANCK están en nested "
   ]
  },
  {
   "cell_type": "code",
   "execution_count": 42,
   "metadata": {},
   "outputs": [
    {
     "data": {
      "text/plain": [
       "XTENSION= 'BINTABLE'           /Written by IDL:  Fri Jul 17 15:01:18 2015       \n",
       "BITPIX  =                    8 /                                                \n",
       "NAXIS   =                    2 /Binary table                                    \n",
       "NAXIS1  =                   14 /Number of bytes per row                         \n",
       "NAXIS2  =             12582912 /Number of rows                                  \n",
       "PCOUNT  =                    0 /Random parameter count                          \n",
       "GCOUNT  =                    1 /Group count                                     \n",
       "TFIELDS =                    5 /Number of columns                               \n",
       "COMMENT                                                                         \n",
       "COMMENT  *** End of mandatory fields ***                                        \n",
       "COMMENT                                                                         \n",
       "EXTVER  =                    1 /Extension version                               \n",
       "DATE    = '2015-07-17'         /Creation date                                   \n",
       "COMMENT                                                                         \n",
       "COMMENT  *** Column names ***                                                   \n",
       "COMMENT                                                                         \n",
       "TTYPE1  = 'TEMPERATURE MAP'                                                     \n",
       "TTYPE2  = 'Q_STOKES'           /                                                \n",
       "TTYPE3  = 'U_STOKES'           /                                                \n",
       "TTYPE4  = 'TMASK   '           /                                                \n",
       "TTYPE5  = 'PMASK   '           /                                                \n",
       "COMMENT                                                                         \n",
       "COMMENT  *** Column formats ***                                                 \n",
       "COMMENT                                                                         \n",
       "TFORM1  = 'E       '           /                                                \n",
       "TFORM2  = 'E       '           /                                                \n",
       "TFORM3  = 'E       '           /                                                \n",
       "TFORM4  = 'B       '           /                                                \n",
       "TFORM5  = 'B       '           /                                                \n",
       "COMMENT                                                                         \n",
       "COMMENT  *** Column units ***                                                   \n",
       "COMMENT                                                                         \n",
       "TUNIT1  = 'K_CMB   '           / map units                                      \n",
       "TUNIT2  = 'K_CMB   '           / map units                                      \n",
       "TUNIT3  = 'K_CMB   '           / map units                                      \n",
       "TUNIT4  = '        '           / no units                                       \n",
       "TUNIT5  = '        '           / no units                                       \n",
       "COMMENT                                                                         \n",
       "COMMENT  *** Planck params ***                                                  \n",
       "COMMENT                                                                         \n",
       "EXTNAME = 'COMP-MAP'           / Extension name                                 \n",
       "AST-COMP= 'CMB     '           / Component                                      \n",
       "RESOLN  =                   10 / arcmin                                         \n",
       "PIXTYPE = 'HEALPIX '           /                                                \n",
       "POLCCONV= 'COSMO   '           / Polarization convention                        \n",
       "COORDSYS= 'GALACTIC'           / Coordinate system                              \n",
       "ORDERING= 'NESTED  '           / Healpix ordering                               \n",
       "NSIDE   =                 1024 / Healpix Nside                                  \n",
       "FIRSTPIX=                    0 /                                                \n",
       "LASTPIX =             12582911 /                                                \n",
       "FILENAME= 'COM_CMB_IQU-sevem_1024_R2.02_full.fits' / FITS filename              \n",
       "BAD_DATA=         -1.63750E+30 / HEALPIX bad pixel value                        \n",
       "METHOD  = 'sevem   '           / Separation method                              \n",
       "PROCVER = 'DX11    '           / Product version                                \n",
       "OBSERVER= 'you     '                                                            \n",
       "COMMENT                                                                         \n",
       "COMMENT ------------------------------------------------------------------------\n",
       "COMMENT CMB products from sevem, coverage full                                  \n",
       "COMMENT ------------------------------------------------------------------------\n",
       "COMMENT For further details see Planck Explanatory Supplement at:               \n",
       "COMMENT   http://wiki.cosmos.esa.int/planckpla2015                              \n",
       "COMMENT ------------------------------------------------------------------------"
      ]
     },
     "execution_count": 42,
     "metadata": {},
     "output_type": "execute_result"
    }
   ],
   "source": [
    "# podemos añadir anotaciones, cambiar nombre de alguna columna, etc\n",
    "hdr=hdu[1].header  \n",
    "hdr['TTYPE1']='TEMPERATURE MAP'  \n",
    "hdr.set('experiment','Planck')\n",
    "hdr['observer']='you'\n",
    "hdr"
   ]
  },
  {
   "cell_type": "code",
   "execution_count": 56,
   "metadata": {},
   "outputs": [
    {
     "data": {
      "text/plain": [
       "FITS_rec([(1.0, 1.0), (0.99999845, 0.99999845), (0.99999541, 0.99999541), ...,\n",
       "       (0.00065883575, 0.0), (0.00065572758, 0.0), (0.00065263303, 0.0)], \n",
       "      dtype=(numpy.record, [('INT_BEAM', '>f4'), ('POL_BEAM', '>f4')]))"
      ]
     },
     "execution_count": 56,
     "metadata": {},
     "output_type": "execute_result"
    }
   ],
   "source": [
    "hdu[1].header =hdr\n",
    "hdu[2].data"
   ]
  },
  {
   "cell_type": "code",
   "execution_count": null,
   "metadata": {},
   "outputs": [],
   "source": []
  },
  {
   "cell_type": "code",
   "execution_count": 31,
   "metadata": {},
   "outputs": [
    {
     "name": "stdout",
     "output_type": "stream",
     "text": [
      "Filename: /anaconda2/envs/Python3/lib/python3.7/site-packages/astropy/io/fits/tests/data/tb.fits\n",
      "No.    Name      Ver    Type      Cards   Dimensions   Format\n",
      "  0  PRIMARY       1 PrimaryHDU      11   ()      \n",
      "  1                1 BinTableHDU     24   2R x 4C   [1J, 3A, 1E, 1L]   \n"
     ]
    }
   ],
   "source": [
    "tab = fits.util.get_testdata_filepath('tb.fits')\n",
    "fits.info(tab)"
   ]
  },
  {
   "cell_type": "code",
   "execution_count": null,
   "metadata": {},
   "outputs": [],
   "source": []
  },
  {
   "cell_type": "code",
   "execution_count": 57,
   "metadata": {},
   "outputs": [],
   "source": [
    "hdutab=fits.open(tab)"
   ]
  },
  {
   "cell_type": "code",
   "execution_count": 58,
   "metadata": {},
   "outputs": [
    {
     "data": {
      "text/plain": [
       "XTENSION= 'BINTABLE'           / binary table extension                         \n",
       "BITPIX  =                    8 / 8-bit bytes                                    \n",
       "NAXIS   =                    2 / 2-dimensional binary table                     \n",
       "NAXIS1  =                   12 / width of table in bytes                        \n",
       "NAXIS2  =                    2                                                  \n",
       "PCOUNT  =                    0 / size of special data area                      \n",
       "GCOUNT  =                    1 / one data group (required keyword)              \n",
       "TFIELDS =                    4                                                  \n",
       "TTYPE1  = 'c1      '           / label for field   1                            \n",
       "TFORM1  = '1J      '           / data format of field: 4-byte INTEGER           \n",
       "TTYPE2  = 'c2      '           / label for field   2                            \n",
       "TFORM2  = '3A      '           / data format of field: ASCII Character          \n",
       "TTYPE3  = 'c3      '           / label for field   3                            \n",
       "TFORM3  = '1E      '           / data format of field: 4-byte REAL              \n",
       "TTYPE4  = 'c4      '           / label for field   4                            \n",
       "TFORM4  = '1L      '           / data format of field: 1-byte LOGICAL           \n",
       "TDISP1  = 'I11     '           / display format                                 \n",
       "TNULL1  =          -2147483647 / undefined value for column                     \n",
       "TDISP2  = 'A3      '           / display format                                 \n",
       "TDISP3  = 'G15.7   '           / display format                                 \n",
       "TDISP4  = 'L6      '           / display format                                 \n",
       "HISTORY Created Mon 15:05:16 10-Sep-2001                                        \n",
       "TZERO3  =                  0.4                                                  \n",
       "TSCAL3  =                    3                                                  "
      ]
     },
     "execution_count": 58,
     "metadata": {},
     "output_type": "execute_result"
    }
   ],
   "source": [
    "table=hdutab[1].data\n",
    "hdutab[1].header"
   ]
  },
  {
   "cell_type": "code",
   "execution_count": 61,
   "metadata": {
    "scrolled": true
   },
   "outputs": [
    {
     "name": "stdout",
     "output_type": "stream",
     "text": [
      "name:\n",
      "    ['c1', 'c2', 'c3', 'c4']\n",
      "format:\n",
      "    ['1J', '3A', '1E', '1L']\n",
      "unit:\n",
      "    ['', '', '', '']\n",
      "null:\n",
      "    [-2147483647, '', '', '']\n",
      "bscale:\n",
      "    ['', '', 3, '']\n",
      "bzero:\n",
      "    ['', '', 0.4, '']\n",
      "disp:\n",
      "    ['I11', 'A3', 'G15.7', 'L6']\n",
      "start:\n",
      "    ['', '', '', '']\n",
      "dim:\n",
      "    ['', '', '', '']\n",
      "coord_type:\n",
      "    ['', '', '', '']\n",
      "coord_unit:\n",
      "    ['', '', '', '']\n",
      "coord_ref_point:\n",
      "    ['', '', '', '']\n",
      "coord_ref_value:\n",
      "    ['', '', '', '']\n",
      "coord_inc:\n",
      "    ['', '', '', '']\n",
      "time_ref_pos:\n",
      "    ['', '', '', '']\n"
     ]
    }
   ],
   "source": [
    "cols=hdutab[1].columns\n",
    "cols.info()"
   ]
  },
  {
   "cell_type": "code",
   "execution_count": 63,
   "metadata": {},
   "outputs": [
    {
     "data": {
      "text/html": [
       "<i>Table length=2</i>\n",
       "<table id=\"table90850646112\" class=\"table-striped table-bordered table-condensed\">\n",
       "<thead><tr><th>obsid</th><th>redshift</th><th>X</th><th>Y</th><th>object</th></tr></thead>\n",
       "<thead><tr><th>int64</th><th>float64</th><th>int64</th><th>int64</th><th>str11</th></tr></thead>\n",
       "<tr><td>3102</td><td>0.32</td><td>4167</td><td>4085</td><td>Q1250+568-A</td></tr>\n",
       "<tr><td>877</td><td>0.22</td><td>4378</td><td>3892</td><td>Source 82</td></tr>\n",
       "</table>"
      ],
      "text/plain": [
       "<Table length=2>\n",
       "obsid redshift   X     Y      object  \n",
       "int64 float64  int64 int64    str11   \n",
       "----- -------- ----- ----- -----------\n",
       " 3102     0.32  4167  4085 Q1250+568-A\n",
       "  877     0.22  4378  3892   Source 82"
      ]
     },
     "execution_count": 63,
     "metadata": {},
     "output_type": "execute_result"
    }
   ],
   "source": [
    "# table in ascii\n",
    "from astropy.io import ascii\n",
    "table=ascii.read('sources.dat')\n",
    "table"
   ]
  },
  {
   "cell_type": "code",
   "execution_count": 1,
   "metadata": {},
   "outputs": [
    {
     "name": "stdout",
     "output_type": "stream",
     "text": [
      "Downloading http://data.astropy.org/tutorials/FITS-images/HorseHead.fits [Done]\n"
     ]
    }
   ],
   "source": [
    "## EXERCICE\n",
    "\n",
    "from astropy.utils.data import download_file\n",
    "image_file = download_file('http://data.astropy.org/tutorials/FITS-images/HorseHead.fits', cache=True )"
   ]
  },
  {
   "cell_type": "code",
   "execution_count": 4,
   "metadata": {},
   "outputs": [
    {
     "data": {
      "text/plain": [
       "u'/Users/casaponsa/.astropy/cache/download/py2/2c9202ae878ecfcb60878ceb63837f5f'"
      ]
     },
     "execution_count": 4,
     "metadata": {},
     "output_type": "execute_result"
    }
   ],
   "source": [
    "\n",
    "import matplotlib.pyplot as pl\n",
    "image_file"
   ]
  },
  {
   "cell_type": "code",
   "execution_count": 5,
   "metadata": {},
   "outputs": [],
   "source": [
    "from astropy.io import fits\n",
    "hdu=fits.open(image_file)"
   ]
  },
  {
   "cell_type": "code",
   "execution_count": 6,
   "metadata": {},
   "outputs": [
    {
     "name": "stdout",
     "output_type": "stream",
     "text": [
      "Filename: /Users/casaponsa/.astropy/cache/download/py2/2c9202ae878ecfcb60878ceb63837f5f\n",
      "No.    Name      Ver    Type      Cards   Dimensions   Format\n",
      "  0  PRIMARY       1 PrimaryHDU     161   (891, 893)   int16   \n",
      "  1  er.mask       1 TableHDU        25   1600R x 4C   [F6.2, F6.2, F6.2, F6.2]   \n"
     ]
    }
   ],
   "source": [
    "hdu.info()"
   ]
  },
  {
   "cell_type": "code",
   "execution_count": 12,
   "metadata": {},
   "outputs": [
    {
     "data": {
      "text/plain": [
       "(1600,)"
      ]
     },
     "execution_count": 12,
     "metadata": {},
     "output_type": "execute_result"
    }
   ],
   "source": [
    "import numpy as np\n",
    "map=hdu[1].data\n",
    "np.shape(map)\n"
   ]
  },
  {
   "cell_type": "code",
   "execution_count": 9,
   "metadata": {},
   "outputs": [
    {
     "data": {
      "text/plain": [
       "array([[ 7201,  6642,  6642, ...,  9498,  9498, 10057],\n",
       "       [ 6642,  6363,  6642, ..., 10057, 10616, 10616],\n",
       "       [ 6922,  6642,  6922, ..., 10337, 11175, 10616],\n",
       "       ...,\n",
       "       [ 5412,  5132,  5412, ..., 13000, 12580, 12021],\n",
       "       [ 5796,  5517,  5796, ..., 12546, 12546, 11987],\n",
       "       [ 5796,  5796,  6076, ..., 11987, 12546, 12546]], dtype=int16)"
      ]
     },
     "execution_count": 9,
     "metadata": {},
     "output_type": "execute_result"
    }
   ],
   "source": [
    "map"
   ]
  },
  {
   "cell_type": "code",
   "execution_count": null,
   "metadata": {},
   "outputs": [],
   "source": []
  }
 ],
 "metadata": {
  "kernelspec": {
   "display_name": "Python 2",
   "language": "python",
   "name": "python2"
  },
  "language_info": {
   "codemirror_mode": {
    "name": "ipython",
    "version": 2
   },
   "file_extension": ".py",
   "mimetype": "text/x-python",
   "name": "python",
   "nbconvert_exporter": "python",
   "pygments_lexer": "ipython2",
   "version": "2.7.15"
  }
 },
 "nbformat": 4,
 "nbformat_minor": 2
}
