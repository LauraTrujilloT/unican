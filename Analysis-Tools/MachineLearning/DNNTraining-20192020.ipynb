{
 "cells": [
  {
   "cell_type": "markdown",
   "metadata": {},
   "source": [
    "# 2st Notebook: Sample classification with a DNN\n"
   ]
  },
  {
   "cell_type": "markdown",
   "metadata": {},
   "source": [
    "## 1. Reading the datasets\n",
    "\n",
    "<p> First, we read the NumPy arrays that were generated with the previous Notebook. We count with a pickle file that contains: </p>\n",
    "<ul>\n",
    "    <li> <strong> x_train: </strong> A NumPy array with the samples that are going to train the DNN. </li>\n",
    "    <li> <strong> y_train: </strong> A NumPy array with the labels (0's o 1's) that indicate the class ('signal' or 'background') of the samples contained in <strong>x_train</strong>. </li>\n",
    "    <li> <strong> x_test: </strong> A NumPy array with the samples that are going to evaluate the DNN performance. </li>\n",
    "    <li> <strong> y_test: </strong>  A NumPy array with the labels (0's o 1's) that indicate the class ('signal' or 'background') of the samples contained in <strong>x_test</strong>. This labels will allow to compute the success rate of the DNN.</li>\n",
    "</ul>\n",
    "\n",
    "The NumPy arrays are extracted from the pickle file with the command ```load()```. An example of storing/loading python variables in pickle format is available [here](https://wiki.python.org/moin/UsingPickle)."
   ]
  },
  {
   "cell_type": "code",
   "execution_count": 1,
   "metadata": {},
   "outputs": [],
   "source": [
    "import pickle\n",
    "import numpy as np\n",
    "\n",
    "filename = '/home/jovyan/share/Training/DNNtraining_variables.p'\n",
    "\n",
    "with open(filename, 'rb') as file_:\n",
    "    x_train, y_train, x_test, y_test = pickle.load(file_)\n",
    "    "
   ]
  },
  {
   "cell_type": "markdown",
   "metadata": {},
   "source": [
    "## 2. Keras environment setup\n",
    "\n",
    "To classify the samples with the DNN it is necessary to build the model, then compile it and finally train it. In this practical exercise we work with [keras](https://keras.io/), a module that allows to build the DNN by adding layers and setting activation functions in an easy and handy way.\n",
    "\n",
    "First, we need to import the Keras packages that are necessary for the training, that include, among other things:\n",
    "- ```callbacks``` to access the training process information e.g. loss and accuracy values after each epoch.\n",
    "- Modules to include the DNN layers, activation functions or different implementations to reduce overfitting such as *dropout* or *regularizers*.\n",
    "- Optimizers to define the gradient descent algorithm e.g. ```RMSprop```\n",
    "- The Keras backend over which the DNN is build. In this case we will work with **Tensorflow** (although other options, such as **Theano** are possible).\n",
    "\n",
    "In addition, we also import a module called ```history_tools.py``` which is available in this same repository. It will provide everything necessary to process the callback information when the DNN is training. On one hand, it defines a class ```LossHistory``` that serves to build an instance as the DNN training process evolves. On the other hand, it also imports a function ```plot_history()``` that will receive this instance and plot the information."
   ]
  },
  {
   "cell_type": "code",
   "execution_count": 2,
   "metadata": {},
   "outputs": [
    {
     "name": "stderr",
     "output_type": "stream",
     "text": [
      "Using TensorFlow backend.\n"
     ]
    }
   ],
   "source": [
    "import keras\n",
    "from keras.utils import np_utils\n",
    "import keras.callbacks as cb\n",
    "from keras.models import Sequential\n",
    "from keras.layers.core import Dense, Dropout, Activation\n",
    "from keras import regularizers\n",
    "from keras import backend as K\n",
    "from keras import optimizers\n",
    "import time\n",
    "import os \n",
    "\n",
    "from history_tools import LossHistory, plot_history\n",
    "import numpy as np"
   ]
  },
  {
   "cell_type": "code",
   "execution_count": 3,
   "metadata": {},
   "outputs": [],
   "source": [
    "## Creating folder\n",
    "\n",
    "def create_folder(name):\n",
    "    \"\"\"\n",
    "    Function to create dir\n",
    "    \"\"\"\n",
    "    try:\n",
    "        os.mkdir(name)\n",
    "        print(\"Folder <\", name,\"> created\")\n",
    "    except FileExistsError:\n",
    "        print(\"Folder <\", name, \"> already exists\")\n",
    "    "
   ]
  },
  {
   "cell_type": "markdown",
   "metadata": {},
   "source": [
    "## 3. DNN creation\n",
    "\n",
    "Before starting the training process, we need to design the architecture of the DNN and then build it. Esentially, we have to decide:\n",
    "- The number of layers of the DNN.\n",
    "- The number of neurons of each layer.\n",
    "- The activation functions of each layer, specially the last one.\n",
    "- The optimizer.\n",
    "- Other functions that could be implemented layer by layer to reduce overfitting e.g. dropout or regularizers.\n",
    "\n",
    "Keras offers two different configurations to build neural networks architectures: The [sequential mode](https://keras.io/getting-started/sequential-model-guide/) and the [functional-api](https://keras.io/getting-started/functional-api-guide/). The later is normally used in problems way more complex that the one treated in this exercise. The DNN that we want to create can be easily build with sequential models, adding layers in a linear way (we encourage you to use this mode).\n",
    "\n",
    "---\n",
    "\n",
    "**TO DO: Define a sequential model and call it ```model```. Then, generate a fully connected network with the following neuron distribution in each one of the hidden layers: ```(30, 20, 20, 10, 10, 10, 5)```. Remember that we are dealing with a binary classification problem: how many neurons must contain the last layer? Remember to include the activation functions recommended in class for each layer.**"
   ]
  },
  {
   "cell_type": "code",
   "execution_count": 3,
   "metadata": {},
   "outputs": [
    {
     "data": {
      "text/plain": [
       "(318666, 30)"
      ]
     },
     "execution_count": 3,
     "metadata": {},
     "output_type": "execute_result"
    }
   ],
   "source": [
    "x_train.shape"
   ]
  },
  {
   "cell_type": "code",
   "execution_count": 4,
   "metadata": {},
   "outputs": [],
   "source": [
    "model = Sequential()\n",
    "# Adding layers\n",
    "model.add(Dense(30, activation=\"relu\", input_shape=(30, )))\n",
    "model.add(Dense(20, activation=\"relu\"))\n",
    "model.add(Dense(20, activation=\"relu\"))\n",
    "model.add(Dense(10, activation=\"relu\"))\n",
    "model.add(Dense(10, activation=\"relu\"))\n",
    "model.add(Dense(10, activation=\"relu\"))\n",
    "model.add(Dense(5, activation=\"relu\"))\n",
    "model.add(Dense(1, activation=\"tanh\"))\n",
    "\n",
    "model2 = model\n",
    "model3 = model\n",
    "model4 = model\n",
    "model5 = model\n",
    "model6 = model"
   ]
  },
  {
   "cell_type": "code",
   "execution_count": 4,
   "metadata": {},
   "outputs": [
    {
     "name": "stdout",
     "output_type": "stream",
     "text": [
      "_________________________________________________________________\n",
      "Layer (type)                 Output Shape              Param #   \n",
      "=================================================================\n",
      "dense_1 (Dense)              (None, 30)                930       \n",
      "_________________________________________________________________\n",
      "dense_2 (Dense)              (None, 20)                620       \n",
      "_________________________________________________________________\n",
      "dense_3 (Dense)              (None, 20)                420       \n",
      "_________________________________________________________________\n",
      "dense_4 (Dense)              (None, 10)                210       \n",
      "_________________________________________________________________\n",
      "dense_5 (Dense)              (None, 10)                110       \n",
      "_________________________________________________________________\n",
      "dense_6 (Dense)              (None, 10)                110       \n",
      "_________________________________________________________________\n",
      "dense_7 (Dense)              (None, 5)                 55        \n",
      "_________________________________________________________________\n",
      "dense_8 (Dense)              (None, 1)                 6         \n",
      "=================================================================\n",
      "Total params: 2,461\n",
      "Trainable params: 2,461\n",
      "Non-trainable params: 0\n",
      "_________________________________________________________________\n"
     ]
    }
   ],
   "source": [
    "model.summary()"
   ]
  },
  {
   "cell_type": "markdown",
   "metadata": {},
   "source": [
    "## 4. Compilation\n",
    "\n",
    "When the DNN model ```model``` is already built i.e having the layer architecture, activation functions... etc correctly defined, the model has to be compiled.\n",
    "\n",
    "In the compilation step we need to decide the **loss function**, **the optimizer**, and also the **metrics** that will be used to monitorize the training process:\n",
    "\n",
    "---\n",
    "> The **loss function** $L(\\hat{y}, y)$ is a value that quantifies the discrepancy between the network predictions and the ground truth i.e. it is a definition of the error in the classification. Each time that the network ends to read a batch of samples and predicts the labels, it computes the loss value and tries to minimize it. The results of the training process depends on how this error value is defined. \n",
    ">\n",
    "> You can find [here](https://keras.io/losses/) some of the functions already defined in Keras. Normally, ```categorical_crossentropy``` is used in multiclass classification problems, while ```binary_crossentropy``` is used in binary ones.\n",
    "---\n",
    "> The **optimizer** is an optimization algorithm that is used to minimize the loss and adjust the weights of the network gradually. Optimizers already defined in Keras can be found [here](https://keras.io/optimizers/). Some examples of them are ```SGD```, ```RMSprop``` or ```Adam```.\n",
    "---\n",
    "> The **metrics** is an auxiliar function that is used to define a value to evaluate the network performance while it is training. The recomended metrics for this problem is the ```accuracy``` value provided by Keras.\n",
    "---\n",
    "---\n",
    "\n",
    "**TO DO: In this part of the Notebook you have to compile your neuronal network. For the first trial use ```binary_crossentropy``` as the loss function and try to minimize it using the ```SGD``` optimizer. Include in your ```metrics``` the accuracy.**"
   ]
  },
  {
   "cell_type": "code",
   "execution_count": 6,
   "metadata": {},
   "outputs": [
    {
     "name": "stdout",
     "output_type": "stream",
     "text": [
      "Model compiled\n"
     ]
    }
   ],
   "source": [
    "model.compile(optimizer=\"sgd\", loss=\"binary_crossentropy\", metrics=[\"accuracy\"])\n",
    "print('Model compiled')"
   ]
  },
  {
   "cell_type": "markdown",
   "metadata": {},
   "source": [
    "## 5. Last considerations before training: Sample format\n",
    "\n",
    "At this point the architecture of the network is already defined and compiled. It is now when we have to check the consistency between the format of the inputs and the network we are about to train.\n",
    "\n",
    "Firstly, we have to check that the samples can be read by the DNN. We have to make sure that the network is expecting vectors of a dimension that matches the one of the input i.e. if the samples are 30-dimensional vectors, the DNN should be built to read exactly that.\n",
    "\n",
    "Secondly, we have to keep in mind that the network is going to compare its predictions and the input label vectors (y_train and y_test). So they are expected to have the same format:\n",
    "\n",
    "> If the DNN is a binary network the label need to be given in nEvents x 1 ```numpy.array``` with an unique element per sample that indicates the class:\n",
    ">\n",
    ">```\n",
    "y = numpy.array([[1],\n",
    "                 [0],\n",
    "                 [1],\n",
    "                 [1],\n",
    "                 ...,\n",
    "                 [0]])\n",
    ">```\n",
    "\n",
    "> If, on the contrary, we are dealing with $N$ classes ($N > 2$) the label vector needs a higher dimensional nEvents x $N$ ```numpy.array``` (one element per class). All the entries of each row (row = Event) will be 0 excluding the one that corresponds to the correct class. For example, the last vector ($N = 2$) will be writen as:\n",
    ">```\n",
    ">y = numpy.array([[0, 1],\n",
    "                 [1, 0],\n",
    "                 [0, 1],\n",
    "                 [0, 1],\n",
    "                 ...,\n",
    "                 [1, 0]])\n",
    ">```\n",
    "\n"
   ]
  },
  {
   "cell_type": "markdown",
   "metadata": {},
   "source": [
    "## 6. Neural network training \n",
    "\n",
    "Now we need to define the characteristics of the training process i.e. which samples will the DNN use, how many times it will read them, in how many steps, the callbacks... etc.\n",
    "\n",
    "In first place it is recomended to create an instance of the class ```LossHistory```, imported in previous steps. This object is basically a container of **information about the training process**. It stores the accuracy and loss values at the end of every epoch. In order to be updated in this way, it is given as a ```callbacks``` parameter to the DNN.\n",
    "\n",
    "The **number of epochs** also needs to be defined, that is, the number of times that the DNN reads the entire train dataset ```x_train```. It is important to keep in mind that we must reach a compromise between two opposite effects:\n",
    "- If the number of epochs is very small, it is possible that the network does not have enough time to extract the information and learn how to classify the samples properly. In this happens, events would be classified randomly.\n",
    "- If the number of epochs is too big, **overfitting** may happen. Overfitting is the challenge of machine learning and it basically means that *the network has learnt too much*, even the tiny details in which we do not want to base our classification criteria. The DNN could be able to learn systematic effects, fluctuations... that may prevent itself to generalize the model to the test dataset.\n",
    "\n",
    "We also have to define the **batch size** i.e. the number of samples read in each iteration inside an epoch. The network reads the set of samples in the batch, computes the loss, optimizes the weights and reads the next batch until the epoch ends. And it starts again.\n",
    "\n",
    "---\n",
    "\n",
    "The DNN model, defined in the python variable ```model``` is trained by means of the function ```fit``` that takes as main parameters:\n",
    "\n",
    "1. The dataset ```x_train``` and its labels ```y_train``` of the events used to train the network.\n",
    "2. The number of epochs ```epochs```.\n",
    "3. The batch size ```batch_size```.\n",
    "4. The instance of ```LossHistory``` that stores the accuracy and loss values at the end of each epoch, that is given as an argument of ```callbacks```.\n",
    "5. The ```verbose``` level that sets how much infomation about the training do we want to print.\n",
    "6. A boolean value ```shuffle``` that alters the original order of the datasets given as the input. We already shuffled the samples in the previous notebook, but it is advisable to turn this parameter ```True``` anyway. \n",
    "\n",
    "---\n",
    "\n",
    "**TO DO: For now, train the DNN during 20 epochs fixing a ```batch_size``` of 512. Use as validation set a 10% portion of the training dataset and make sure that you are shuffling your samples. Include a ```callbacks``` containing the history of the training.**"
   ]
  },
  {
   "cell_type": "code",
   "execution_count": 7,
   "metadata": {},
   "outputs": [
    {
     "name": "stdout",
     "output_type": "stream",
     "text": [
      "Training model...\n",
      "Train on 286799 samples, validate on 31867 samples\n",
      "Epoch 1/20\n",
      "286799/286799 [==============================] - 5s 19us/step - loss: 0.6011 - acc: 0.6633 - val_loss: 0.5844 - val_acc: 0.6991\n",
      "Epoch 2/20\n",
      "286799/286799 [==============================] - 5s 18us/step - loss: 0.5451 - acc: 0.7232 - val_loss: 0.5241 - val_acc: 0.7413\n",
      "Epoch 3/20\n",
      "286799/286799 [==============================] - 5s 17us/step - loss: 0.5165 - acc: 0.7473 - val_loss: 0.5165 - val_acc: 0.7597\n",
      "Epoch 4/20\n",
      "286799/286799 [==============================] - 4s 14us/step - loss: 0.4909 - acc: 0.7671 - val_loss: 0.5119 - val_acc: 0.7525\n",
      "Epoch 5/20\n",
      "286799/286799 [==============================] - 4s 15us/step - loss: 0.4727 - acc: 0.7801 - val_loss: 0.4724 - val_acc: 0.7875\n",
      "Epoch 6/20\n",
      "286799/286799 [==============================] - 4s 15us/step - loss: 0.4704 - acc: 0.7824 - val_loss: 0.4886 - val_acc: 0.7735\n",
      "Epoch 7/20\n",
      "286799/286799 [==============================] - 4s 15us/step - loss: 0.4506 - acc: 0.7930 - val_loss: 0.4438 - val_acc: 0.7967\n",
      "Epoch 8/20\n",
      "286799/286799 [==============================] - 4s 15us/step - loss: 0.4405 - acc: 0.7973 - val_loss: 0.4442 - val_acc: 0.8001\n",
      "Epoch 9/20\n",
      "286799/286799 [==============================] - 4s 15us/step - loss: 0.4334 - acc: 0.8004 - val_loss: 0.4490 - val_acc: 0.7928\n",
      "Epoch 10/20\n",
      "286799/286799 [==============================] - 4s 14us/step - loss: 0.4291 - acc: 0.8022 - val_loss: 0.4443 - val_acc: 0.7923\n",
      "Epoch 11/20\n",
      "286799/286799 [==============================] - 4s 14us/step - loss: 0.4241 - acc: 0.8046 - val_loss: 0.4290 - val_acc: 0.8049\n",
      "Epoch 12/20\n",
      "286799/286799 [==============================] - 4s 15us/step - loss: 0.4216 - acc: 0.8057 - val_loss: 0.4188 - val_acc: 0.8089\n",
      "Epoch 13/20\n",
      "286799/286799 [==============================] - 4s 14us/step - loss: 0.4188 - acc: 0.8072 - val_loss: 0.4180 - val_acc: 0.8086\n",
      "Epoch 14/20\n",
      "286799/286799 [==============================] - 4s 15us/step - loss: 0.4165 - acc: 0.8082 - val_loss: 0.4150 - val_acc: 0.8092\n",
      "Epoch 15/20\n",
      "286799/286799 [==============================] - 4s 14us/step - loss: 0.4142 - acc: 0.8094 - val_loss: 0.4150 - val_acc: 0.8100\n",
      "Epoch 16/20\n",
      "286799/286799 [==============================] - 5s 16us/step - loss: 0.4130 - acc: 0.8101 - val_loss: 0.4176 - val_acc: 0.8095\n",
      "Epoch 17/20\n",
      "286799/286799 [==============================] - 4s 14us/step - loss: 0.4112 - acc: 0.8112 - val_loss: 0.4152 - val_acc: 0.8090\n",
      "Epoch 18/20\n",
      "286799/286799 [==============================] - 4s 15us/step - loss: 0.4104 - acc: 0.8113 - val_loss: 0.4084 - val_acc: 0.8132\n",
      "Epoch 19/20\n",
      "286799/286799 [==============================] - 4s 15us/step - loss: 0.4088 - acc: 0.8119 - val_loss: 0.4266 - val_acc: 0.8033\n",
      "Epoch 20/20\n",
      "286799/286799 [==============================] - 5s 16us/step - loss: 0.4081 - acc: 0.8126 - val_loss: 0.4156 - val_acc: 0.8099\n",
      "Training duration : 88.80340480804443 secs\n"
     ]
    }
   ],
   "source": [
    "import time\n",
    "import numpy as np\n",
    "\n",
    "print('Training model...')\n",
    "\n",
    "history = LossHistory()\n",
    "\n",
    "n_epochs = 20\n",
    "n_batch = 512\n",
    "\n",
    "\n",
    "\n",
    "start_time = time.time()\n",
    "\n",
    "\n",
    "model.fit(x_train, y_train, batch_size=n_batch, epochs=n_epochs, callbacks=[history], shuffle=True, validation_split=0.1)\n",
    "\n",
    "print(\"Training duration : {0}\".format(time.time() - start_time) + \" secs\")\n"
   ]
  },
  {
   "cell_type": "markdown",
   "metadata": {},
   "source": [
    "## 7. Save the training information\n",
    "\n",
    "Once trained, the network weights are fixed and the network can be used to classify other samples that have not been used to train it. Saving the trained model implies saving the architecture (layer number, neurons, dropout... etc) but also **saving the network weights**. In this way, it is possible to use this trained DNN to classify whatever we want without training it again and again.\n",
    "\n",
    "---\n",
    "\n",
    "**TO DO: Save your model in ```.h5``` format in the ```Models/``` folder. Check first if this directory exists and if it does not, create it.**"
   ]
  },
  {
   "cell_type": "code",
   "execution_count": 9,
   "metadata": {},
   "outputs": [
    {
     "name": "stdout",
     "output_type": "stream",
     "text": [
      "Folder < Models > created\n",
      "model.h5 saved in <Models/>\n"
     ]
    }
   ],
   "source": [
    "create_folder(\"Models\")\n",
    "## Saving model.h5\n",
    "model.save(\"Models/model.h5\")\n",
    "print(\"model.h5 saved in <Models/>\")"
   ]
  },
  {
   "cell_type": "markdown",
   "metadata": {},
   "source": [
    "## 8. Loss and accuracy study\n",
    "\n",
    "To check if the training process succeded we have to study the evolution of loss and accuracy. We expect a decrease in the loss value, pointing out that the error in the classification is decreasing as well. On the other hand, we expect an increase in the accurary that would imply that the DNN is becoming more capable of classifying the samples in their correct class.\n",
    "\n",
    "Both values, loss and accuracy, are plotted vs the number of epochs to see the evolution. In most cases we will observe the decrease in the loss and increase in accuracy for the **training set**.\n",
    "\n",
    "However, the behavior of the **validation set** is more complex and will give an idea of how to opmitize the learning process. As the samples of this dataset are different from the ones used to train the network, the performance would be slightly worse.\n",
    "\n",
    "Overfitting manifests itself in the loss and accuracy evolution. When the network starts to learn undesired patterns from the training set that can not be extrapolated to the validation set, the loss stops its decrease and starts to grow up. Consequently, accuracy gets reduced at this point.\n",
    "\n",
    "The function ```plot_history()```, already defined in ```history_tools.py```, can be used to plot both accuracy and loss.\n",
    "\n",
    "---\n",
    "\n",
    "**TO DO: Check if folder ```History/``` exists and if not, create it. Then use ```plot_history()``` to study the loss and accuracy behaviors. Plots will be automatically saved in this folder.**\n",
    "\n"
   ]
  },
  {
   "cell_type": "code",
   "execution_count": 10,
   "metadata": {},
   "outputs": [
    {
     "name": "stdout",
     "output_type": "stream",
     "text": [
      "Folder < History > created\n"
     ]
    },
    {
     "data": {
      "image/png": "[encoded data removed]",
      "text/plain": [
       "<Figure size 432x720 with 2 Axes>"
      ]
     },
     "metadata": {
      "needs_background": "light"
     },
     "output_type": "display_data"
    }
   ],
   "source": [
    "## Folder History\n",
    "create_folder(\"History\")\n",
    "## Plots\n",
    "plot_history(history, Num_classes=1, n_batch=512, n_epochs=20)"
   ]
  },
  {
   "cell_type": "markdown",
   "metadata": {},
   "source": [
    "<strong>TO DO:\n",
    "\n",
    "Now repeat the last steps with the following modifications:\n",
    "\n",
    "- Use the RMSprop optimizer\n",
    "- Use the Adam optimizer\n",
    "\n",
    "What optimizer works better\n",
    "\n",
    "<font color=\"red\"> My answer: </font> <font color=\"blue\"> Adam </font>\n",
    "\n",
    "Using the one that have the best performance: Do you observe something weird in the plot by comparing the accuracy of the train and validation datasets?\n",
    "<font color=\"red\"> My answer: </font> <font color=\"blue\"> Yes, the validation curve remains pretty much constant for both Loss and Accuracy plots. The _Learning curves_ obtained shows a `validation loss` that is too small in comparison to the one for the  `training loss` (it seems like the `validation dataset`is easier to predict or \"to learn\" than the `training dataset`)   </font>\n",
    "\n",
    "- Try to decrease the learning rate value\n",
    "\n",
    "What do you observe now?\n",
    "<font color=\"red\"> My answer: </font> <font color=\"blue\"> Smooth, showing a good fit. Now, the `validation loss`is learned as well (and almost \"_equally_\") as the `training loss` </font>\n",
    "\n",
    "Finally, add to your final model (with the best optimizer/learning rate choice you made) a ```callback``` with ```EarlyStopping``` and ```ModelCheckpoint``` options and train it over 200 epochs. In the ```EarlyStopping``` option use ```val_loss``` value as reference and wait 5 epochs before to stop definitely. In the ```ModelCheckpoint``` use ```val_loss``` as well and save the best model you obtained.\n",
    "\n",
    "(It would be useful to check the callback documentation in Keras [here](https://keras.io/callbacks/))\n",
    "\n",
    "Once you have your best model, you can pass to section 9 of the Notebook.\n",
    "</strong>\n",
    "\n"
   ]
  },
  {
   "cell_type": "markdown",
   "metadata": {},
   "source": [
    "-----\n",
    "Optimizer: _RMSprop_\n",
    "-----"
   ]
  },
  {
   "cell_type": "code",
   "execution_count": 6,
   "metadata": {},
   "outputs": [
    {
     "name": "stdout",
     "output_type": "stream",
     "text": [
      "model rmsprop compiled\n"
     ]
    }
   ],
   "source": [
    "model2.compile(optimizer=\"rmsprop\", loss=\"binary_crossentropy\", metrics=[\"accuracy\"])\n",
    "print(\"model rmsprop compiled\")"
   ]
  },
  {
   "cell_type": "code",
   "execution_count": 7,
   "metadata": {},
   "outputs": [
    {
     "name": "stdout",
     "output_type": "stream",
     "text": [
      "Training model ....\n",
      "Train on 286799 samples, validate on 31867 samples\n",
      "Epoch 1/20\n",
      "286799/286799 [==============================] - 5s 17us/step - loss: 0.5413 - acc: 0.7299 - val_loss: 0.4536 - val_acc: 0.7890\n",
      "Epoch 2/20\n",
      "286799/286799 [==============================] - 4s 15us/step - loss: 0.4320 - acc: 0.7993 - val_loss: 0.4345 - val_acc: 0.8010\n",
      "Epoch 3/20\n",
      "286799/286799 [==============================] - 4s 14us/step - loss: 0.4137 - acc: 0.8110 - val_loss: 0.4184 - val_acc: 0.8103\n",
      "Epoch 4/20\n",
      "286799/286799 [==============================] - 5s 16us/step - loss: 0.4061 - acc: 0.8148 - val_loss: 0.4216 - val_acc: 0.8093\n",
      "Epoch 5/20\n",
      "286799/286799 [==============================] - 5s 18us/step - loss: 0.4015 - acc: 0.8169 - val_loss: 0.4125 - val_acc: 0.8108\n",
      "Epoch 6/20\n",
      "286799/286799 [==============================] - 5s 18us/step - loss: 0.3994 - acc: 0.8187 - val_loss: 0.4052 - val_acc: 0.8190\n",
      "Epoch 7/20\n",
      "286799/286799 [==============================] - 6s 20us/step - loss: 0.3975 - acc: 0.8203 - val_loss: 0.4001 - val_acc: 0.8192\n",
      "Epoch 8/20\n",
      "286799/286799 [==============================] - 5s 17us/step - loss: 0.3946 - acc: 0.8212 - val_loss: 0.3990 - val_acc: 0.8235\n",
      "Epoch 9/20\n",
      "286799/286799 [==============================] - 5s 17us/step - loss: 0.3934 - acc: 0.8228 - val_loss: 0.3985 - val_acc: 0.8209\n",
      "Epoch 10/20\n",
      "286799/286799 [==============================] - 4s 15us/step - loss: 0.3926 - acc: 0.8234 - val_loss: 0.4044 - val_acc: 0.8189\n",
      "Epoch 11/20\n",
      "286799/286799 [==============================] - 4s 16us/step - loss: 0.3920 - acc: 0.8240 - val_loss: 0.3989 - val_acc: 0.8233\n",
      "Epoch 12/20\n",
      "286799/286799 [==============================] - 5s 16us/step - loss: 0.3911 - acc: 0.8246 - val_loss: 0.4009 - val_acc: 0.8217\n",
      "Epoch 13/20\n",
      "286799/286799 [==============================] - 5s 16us/step - loss: 0.3903 - acc: 0.8246 - val_loss: 0.4297 - val_acc: 0.8057\n",
      "Epoch 14/20\n",
      "286799/286799 [==============================] - 4s 14us/step - loss: 0.3907 - acc: 0.8253 - val_loss: 0.4065 - val_acc: 0.8142\n",
      "Epoch 15/20\n",
      "286799/286799 [==============================] - 4s 14us/step - loss: 0.3905 - acc: 0.8257 - val_loss: 0.4142 - val_acc: 0.8169\n",
      "Epoch 16/20\n",
      "286799/286799 [==============================] - 4s 15us/step - loss: 0.3900 - acc: 0.8255 - val_loss: 0.3932 - val_acc: 0.8244\n",
      "Epoch 17/20\n",
      "286799/286799 [==============================] - 4s 13us/step - loss: 0.3905 - acc: 0.8250 - val_loss: 0.4073 - val_acc: 0.8181\n",
      "Epoch 18/20\n",
      "286799/286799 [==============================] - 4s 14us/step - loss: 0.3956 - acc: 0.8242 - val_loss: 0.4248 - val_acc: 0.8072\n",
      "Epoch 19/20\n",
      "286799/286799 [==============================] - 4s 14us/step - loss: 0.3942 - acc: 0.8238 - val_loss: 0.4079 - val_acc: 0.8159\n",
      "Epoch 20/20\n",
      "286799/286799 [==============================] - 4s 16us/step - loss: 0.3941 - acc: 0.8221 - val_loss: 0.3999 - val_acc: 0.8203\n",
      "Training duration : 91.56867337226868 secs\n",
      "Folder < History > created\n"
     ]
    },
    {
     "data": {
      "image/png": "[encoded data removed]",
      "text/plain": [
       "<Figure size 432x720 with 2 Axes>"
      ]
     },
     "metadata": {
      "needs_background": "light"
     },
     "output_type": "display_data"
    }
   ],
   "source": [
    "print(\"Training model ....\")\n",
    "history2 = LossHistory()\n",
    "    \n",
    "start_time = time.time()\n",
    "\n",
    "model2.fit(x_train, y_train, batch_size=512, \n",
    "            epochs=20, callbacks=[history2], shuffle=True, validation_split=0.1)\n",
    "\n",
    "print(\"Training duration : {0}\".format(time.time() - start_time) + \" secs\")\n",
    "\n",
    "create_folder(\"History\")\n",
    "plot_history(history=history2, Num_classes=1,n_batch=512, n_epochs=20)"
   ]
  },
  {
   "cell_type": "markdown",
   "metadata": {},
   "source": [
    "-----\n",
    "Optimizer: _Adam_\n",
    "-----"
   ]
  },
  {
   "cell_type": "code",
   "execution_count": 5,
   "metadata": {},
   "outputs": [
    {
     "name": "stdout",
     "output_type": "stream",
     "text": [
      "model adam compiled\n"
     ]
    }
   ],
   "source": [
    "model3.compile(optimizer=\"adam\", loss=\"binary_crossentropy\", metrics=[\"accuracy\"])\n",
    "print(\"model adam compiled\")"
   ]
  },
  {
   "cell_type": "code",
   "execution_count": 6,
   "metadata": {},
   "outputs": [
    {
     "name": "stdout",
     "output_type": "stream",
     "text": [
      "Training model ....\n",
      "Train on 286799 samples, validate on 31867 samples\n",
      "Epoch 1/20\n",
      "286799/286799 [==============================] - 5s 18us/step - loss: 1.0722 - acc: 0.7058 - val_loss: 0.4432 - val_acc: 0.7950\n",
      "Epoch 2/20\n",
      "286799/286799 [==============================] - 6s 19us/step - loss: 0.4256 - acc: 0.8044 - val_loss: 0.4130 - val_acc: 0.8112\n",
      "Epoch 3/20\n",
      "286799/286799 [==============================] - 5s 16us/step - loss: 0.4101 - acc: 0.8121 - val_loss: 0.4084 - val_acc: 0.8133\n",
      "Epoch 4/20\n",
      "286799/286799 [==============================] - 4s 15us/step - loss: 0.4028 - acc: 0.8155 - val_loss: 0.4050 - val_acc: 0.8140\n",
      "Epoch 5/20\n",
      "286799/286799 [==============================] - 5s 17us/step - loss: 0.3998 - acc: 0.8174 - val_loss: 0.4005 - val_acc: 0.8177\n",
      "Epoch 6/20\n",
      "286799/286799 [==============================] - 4s 14us/step - loss: 0.3963 - acc: 0.8188 - val_loss: 0.3966 - val_acc: 0.8204\n",
      "Epoch 7/20\n",
      "286799/286799 [==============================] - 4s 13us/step - loss: 0.3938 - acc: 0.8205 - val_loss: 0.3935 - val_acc: 0.8229\n",
      "Epoch 8/20\n",
      "286799/286799 [==============================] - 4s 13us/step - loss: 0.3915 - acc: 0.8219 - val_loss: 0.3905 - val_acc: 0.8233\n",
      "Epoch 9/20\n",
      "286799/286799 [==============================] - 5s 16us/step - loss: 0.3893 - acc: 0.8235 - val_loss: 0.3913 - val_acc: 0.8230\n",
      "Epoch 10/20\n",
      "286799/286799 [==============================] - 4s 15us/step - loss: 0.3882 - acc: 0.8240 - val_loss: 0.3889 - val_acc: 0.8253\n",
      "Epoch 11/20\n",
      "286799/286799 [==============================] - 5s 16us/step - loss: 0.3865 - acc: 0.8253 - val_loss: 0.3878 - val_acc: 0.8244\n",
      "Epoch 12/20\n",
      "286799/286799 [==============================] - 4s 16us/step - loss: 0.3853 - acc: 0.8255 - val_loss: 0.3882 - val_acc: 0.8242\n",
      "Epoch 13/20\n",
      "286799/286799 [==============================] - 5s 16us/step - loss: 0.3841 - acc: 0.8265 - val_loss: 0.3851 - val_acc: 0.8278\n",
      "Epoch 14/20\n",
      "286799/286799 [==============================] - 5s 17us/step - loss: 0.3831 - acc: 0.8267 - val_loss: 0.3855 - val_acc: 0.8267\n",
      "Epoch 15/20\n",
      "286799/286799 [==============================] - 4s 15us/step - loss: 0.3824 - acc: 0.8274 - val_loss: 0.3853 - val_acc: 0.8266\n",
      "Epoch 16/20\n",
      "286799/286799 [==============================] - 4s 15us/step - loss: 0.3821 - acc: 0.8273 - val_loss: 0.3868 - val_acc: 0.8256\n",
      "Epoch 17/20\n",
      "286799/286799 [==============================] - 4s 15us/step - loss: 0.3816 - acc: 0.8278 - val_loss: 0.3833 - val_acc: 0.8279\n",
      "Epoch 18/20\n",
      "286799/286799 [==============================] - 5s 18us/step - loss: 0.3807 - acc: 0.8281 - val_loss: 0.3828 - val_acc: 0.8273\n",
      "Epoch 19/20\n",
      "286799/286799 [==============================] - 4s 15us/step - loss: 0.3805 - acc: 0.8278 - val_loss: 0.3855 - val_acc: 0.8276\n",
      "Epoch 20/20\n",
      "286799/286799 [==============================] - 4s 15us/step - loss: 0.3798 - acc: 0.8284 - val_loss: 0.3827 - val_acc: 0.8269\n",
      "Training duration : 91.33101296424866 secs\n",
      "Folder < History > created\n"
     ]
    },
    {
     "data": {
      "image/png": "[encoded data removed]",
      "text/plain": [
       "<Figure size 432x720 with 2 Axes>"
      ]
     },
     "metadata": {
      "needs_background": "light"
     },
     "output_type": "display_data"
    }
   ],
   "source": [
    "print(\"Training model ....\")\n",
    "history3 = LossHistory()\n",
    "    \n",
    "start_time = time.time()\n",
    "\n",
    "model3.fit(x_train, y_train, batch_size=512, \n",
    "            epochs=20, callbacks=[history3], shuffle=True, validation_split=0.1)\n",
    "\n",
    "print(\"Training duration : {0}\".format(time.time() - start_time) + \" secs\")\n",
    "\n",
    "create_folder(\"History\")\n",
    "plot_history(history=history3, Num_classes=1,n_batch=512, n_epochs=20)"
   ]
  },
  {
   "cell_type": "markdown",
   "metadata": {},
   "source": [
    "> Yep, something weird is happening: Accuracy is not getting any better within epochs and despite the fact the \"Loss\" is kind of decreasing, the rate is smaller than the former model implemented (with `sgd`). Also, both plots are showing different values between _Training_ and _Validation_"
   ]
  },
  {
   "cell_type": "markdown",
   "metadata": {},
   "source": [
    "-----\n",
    "Optimizer: _Adam_ lr = 0.0001\n",
    "-----"
   ]
  },
  {
   "cell_type": "markdown",
   "metadata": {},
   "source": [
    "**Decreasing the learning rate value in _Adam_**"
   ]
  },
  {
   "cell_type": "code",
   "execution_count": 7,
   "metadata": {},
   "outputs": [
    {
     "name": "stdout",
     "output_type": "stream",
     "text": [
      "model adam lr = 0.0001 compiled\n"
     ]
    }
   ],
   "source": [
    "opt = optimizers.adam(lr=0.0001)\n",
    "model5.compile(optimizer=opt, loss=\"binary_crossentropy\", metrics=[\"accuracy\"])\n",
    "print(\"model adam lr = 0.0001 compiled\")"
   ]
  },
  {
   "cell_type": "code",
   "execution_count": 8,
   "metadata": {},
   "outputs": [
    {
     "name": "stdout",
     "output_type": "stream",
     "text": [
      "Train on 286799 samples, validate on 31867 samples\n",
      "Epoch 1/20\n",
      "286799/286799 [==============================] - 9s 30us/step - loss: 0.8142 - acc: 0.5664 - val_loss: 0.6064 - val_acc: 0.6760\n",
      "Epoch 2/20\n",
      "286799/286799 [==============================] - 4s 14us/step - loss: 0.5678 - acc: 0.7073 - val_loss: 0.5456 - val_acc: 0.7247\n",
      "Epoch 3/20\n",
      "286799/286799 [==============================] - 4s 14us/step - loss: 0.5300 - acc: 0.7362 - val_loss: 0.5162 - val_acc: 0.7460\n",
      "Epoch 4/20\n",
      "286799/286799 [==============================] - 5s 17us/step - loss: 0.5028 - acc: 0.7548 - val_loss: 0.4898 - val_acc: 0.7639\n",
      "Epoch 5/20\n",
      "286799/286799 [==============================] - 5s 18us/step - loss: 0.4797 - acc: 0.7698 - val_loss: 0.4702 - val_acc: 0.7782\n",
      "Epoch 6/20\n",
      "286799/286799 [==============================] - 5s 18us/step - loss: 0.4625 - acc: 0.7816 - val_loss: 0.4552 - val_acc: 0.7894\n",
      "Epoch 7/20\n",
      "286799/286799 [==============================] - 4s 15us/step - loss: 0.4484 - acc: 0.7907 - val_loss: 0.4420 - val_acc: 0.7972\n",
      "Epoch 8/20\n",
      "286799/286799 [==============================] - 5s 18us/step - loss: 0.4380 - acc: 0.7972 - val_loss: 0.4338 - val_acc: 0.8017\n",
      "Epoch 9/20\n",
      "286799/286799 [==============================] - 5s 18us/step - loss: 0.4309 - acc: 0.8012 - val_loss: 0.4276 - val_acc: 0.8040\n",
      "Epoch 10/20\n",
      "286799/286799 [==============================] - 5s 18us/step - loss: 0.4252 - acc: 0.8037 - val_loss: 0.4246 - val_acc: 0.8063\n",
      "Epoch 11/20\n",
      "286799/286799 [==============================] - 5s 19us/step - loss: 0.4210 - acc: 0.8060 - val_loss: 0.4184 - val_acc: 0.8089\n",
      "Epoch 12/20\n",
      "286799/286799 [==============================] - 5s 19us/step - loss: 0.4173 - acc: 0.8081 - val_loss: 0.4179 - val_acc: 0.8083\n",
      "Epoch 13/20\n",
      "286799/286799 [==============================] - 4s 15us/step - loss: 0.4144 - acc: 0.8095 - val_loss: 0.4128 - val_acc: 0.8116\n",
      "Epoch 14/20\n",
      "286799/286799 [==============================] - 6s 22us/step - loss: 0.4119 - acc: 0.8105 - val_loss: 0.4109 - val_acc: 0.8131\n",
      "Epoch 15/20\n",
      "286799/286799 [==============================] - 5s 18us/step - loss: 0.4098 - acc: 0.8118 - val_loss: 0.4086 - val_acc: 0.8142\n",
      "Epoch 16/20\n",
      "286799/286799 [==============================] - 4s 15us/step - loss: 0.4080 - acc: 0.8126 - val_loss: 0.4072 - val_acc: 0.8155\n",
      "Epoch 17/20\n",
      "286799/286799 [==============================] - 4s 14us/step - loss: 0.4063 - acc: 0.8138 - val_loss: 0.4057 - val_acc: 0.8137\n",
      "Epoch 18/20\n",
      "286799/286799 [==============================] - 4s 14us/step - loss: 0.4047 - acc: 0.8142 - val_loss: 0.4043 - val_acc: 0.8160\n",
      "Epoch 19/20\n",
      "286799/286799 [==============================] - 5s 16us/step - loss: 0.4033 - acc: 0.8153 - val_loss: 0.4034 - val_acc: 0.8159\n",
      "Epoch 20/20\n",
      "286799/286799 [==============================] - 4s 15us/step - loss: 0.4023 - acc: 0.8157 - val_loss: 0.4021 - val_acc: 0.8171\n",
      "Training duration : 101.6058361530304 secs\n"
     ]
    }
   ],
   "source": [
    "history5 = LossHistory()\n",
    "\n",
    "n_epochs = 20\n",
    "n_batch = 512\n",
    "\n",
    "\n",
    "\n",
    "start_time = time.time()\n",
    "\n",
    "\n",
    "model5.fit(x_train, y_train, batch_size=n_batch,\n",
    "           epochs=n_epochs, callbacks=[history5], shuffle=True, validation_split=0.1)\n",
    "\n",
    "print(\"Training duration : {0}\".format(time.time() - start_time) + \" secs\")"
   ]
  },
  {
   "cell_type": "code",
   "execution_count": 9,
   "metadata": {},
   "outputs": [
    {
     "data": {
      "image/png": "[encoded data removed]",
      "text/plain": [
       "<Figure size 432x720 with 2 Axes>"
      ]
     },
     "metadata": {
      "needs_background": "light"
     },
     "output_type": "display_data"
    }
   ],
   "source": [
    "plot_history(history=history5, Num_classes=1,n_batch=512, n_epochs=20)"
   ]
  },
  {
   "cell_type": "code",
   "execution_count": 10,
   "metadata": {},
   "outputs": [
    {
     "name": "stdout",
     "output_type": "stream",
     "text": [
      "model5.h5 saved in <Models/>\n"
     ]
    }
   ],
   "source": [
    "model5.save(\"Models/model5.h5\")\n",
    "print(\"model5.h5 saved in <Models/>\")"
   ]
  },
  {
   "cell_type": "markdown",
   "metadata": {},
   "source": [
    "Finally, add to your final model (with the best optimizer/learning rate choice you made) a ```callback``` with ```EarlyStopping``` and ```ModelCheckpoint``` options and train it over 200 epochs. In the ```EarlyStopping``` option use ```val_loss``` value as reference and wait 5 epochs before to stop definitely. In the ```ModelCheckpoint``` use ```val_loss``` as well and save the best model you obtained.\n",
    "\n",
    "(It would be useful to check the callback documentation in Keras [here](https://keras.io/callbacks/))\n",
    "\n",
    "Once you have your best model, you can pass to section 9 of the Notebook."
   ]
  },
  {
   "cell_type": "code",
   "execution_count": 3,
   "metadata": {},
   "outputs": [],
   "source": [
    "model_early = Sequential()\n",
    "# Adding layers\n",
    "model_early.add(Dense(30, activation=\"relu\", input_shape=(30, )))\n",
    "model_early.add(Dense(20, activation=\"relu\"))\n",
    "model_early.add(Dense(20, activation=\"relu\"))\n",
    "model_early.add(Dense(10, activation=\"relu\"))\n",
    "model_early.add(Dense(10, activation=\"relu\"))\n",
    "model_early.add(Dense(10, activation=\"relu\"))\n",
    "model_early.add(Dense(5, activation=\"relu\"))\n",
    "model_early.add(Dense(1, activation=\"tanh\"))"
   ]
  },
  {
   "cell_type": "code",
   "execution_count": 4,
   "metadata": {},
   "outputs": [
    {
     "name": "stdout",
     "output_type": "stream",
     "text": [
      "Model Early Stop compiled\n"
     ]
    }
   ],
   "source": [
    "opt = optimizers.adam(lr=0.0001)\n",
    "model_early.compile(optimizer=opt, loss=\"binary_crossentropy\", metrics=[\"accuracy\"])\n",
    "print('Model Early Stop compiled')"
   ]
  },
  {
   "cell_type": "code",
   "execution_count": 5,
   "metadata": {},
   "outputs": [
    {
     "name": "stdout",
     "output_type": "stream",
     "text": [
      "Train on 286799 samples, validate on 31867 samples\n",
      "Epoch 1/200\n",
      "286799/286799 [==============================] - 7s 25us/step - loss: 0.7484 - acc: 0.6110 - val_loss: 0.6100 - val_acc: 0.6789\n",
      "Epoch 2/200\n",
      "286799/286799 [==============================] - 6s 21us/step - loss: 0.5817 - acc: 0.7018 - val_loss: 0.5562 - val_acc: 0.7198\n",
      "Epoch 3/200\n",
      "286799/286799 [==============================] - 6s 21us/step - loss: 0.5444 - acc: 0.7294 - val_loss: 0.5295 - val_acc: 0.7386\n",
      "Epoch 4/200\n",
      "286799/286799 [==============================] - 5s 19us/step - loss: 0.5203 - acc: 0.7449 - val_loss: 0.5070 - val_acc: 0.7560\n",
      "Epoch 5/200\n",
      "286799/286799 [==============================] - 5s 16us/step - loss: 0.4979 - acc: 0.7596 - val_loss: 0.4858 - val_acc: 0.7708\n",
      "Epoch 6/200\n",
      "286799/286799 [==============================] - 5s 18us/step - loss: 0.4785 - acc: 0.7713 - val_loss: 0.4680 - val_acc: 0.7794\n",
      "Epoch 7/200\n",
      "286799/286799 [==============================] - 6s 21us/step - loss: 0.4637 - acc: 0.7803 - val_loss: 0.4568 - val_acc: 0.7845\n",
      "Epoch 8/200\n",
      "286799/286799 [==============================] - 5s 16us/step - loss: 0.4526 - acc: 0.7875 - val_loss: 0.4465 - val_acc: 0.7914\n",
      "Epoch 9/200\n",
      "286799/286799 [==============================] - 4s 15us/step - loss: 0.4437 - acc: 0.7932 - val_loss: 0.4399 - val_acc: 0.7964\n",
      "Epoch 10/200\n",
      "286799/286799 [==============================] - 6s 20us/step - loss: 0.4372 - acc: 0.7978 - val_loss: 0.4343 - val_acc: 0.7998\n",
      "Epoch 11/200\n",
      "286799/286799 [==============================] - 4s 16us/step - loss: 0.4320 - acc: 0.8006 - val_loss: 0.4290 - val_acc: 0.8030\n",
      "Epoch 12/200\n",
      "286799/286799 [==============================] - 4s 14us/step - loss: 0.4279 - acc: 0.8033 - val_loss: 0.4249 - val_acc: 0.8049\n",
      "Epoch 13/200\n",
      "286799/286799 [==============================] - 4s 15us/step - loss: 0.4239 - acc: 0.8051 - val_loss: 0.4222 - val_acc: 0.8063\n",
      "Epoch 14/200\n",
      "286799/286799 [==============================] - 4s 14us/step - loss: 0.4211 - acc: 0.8067 - val_loss: 0.4189 - val_acc: 0.8094\n",
      "Epoch 15/200\n",
      "286799/286799 [==============================] - 4s 15us/step - loss: 0.4183 - acc: 0.8081 - val_loss: 0.4168 - val_acc: 0.8094\n",
      "Epoch 16/200\n",
      "286799/286799 [==============================] - 4s 14us/step - loss: 0.4156 - acc: 0.8095 - val_loss: 0.4147 - val_acc: 0.8098\n",
      "Epoch 17/200\n",
      "286799/286799 [==============================] - 5s 17us/step - loss: 0.4132 - acc: 0.8109 - val_loss: 0.4127 - val_acc: 0.8126\n",
      "Epoch 18/200\n",
      "286799/286799 [==============================] - 4s 15us/step - loss: 0.4112 - acc: 0.8122 - val_loss: 0.4112 - val_acc: 0.8123\n",
      "Epoch 19/200\n",
      "286799/286799 [==============================] - 5s 17us/step - loss: 0.4094 - acc: 0.8131 - val_loss: 0.4094 - val_acc: 0.8140\n",
      "Epoch 20/200\n",
      "286799/286799 [==============================] - 5s 16us/step - loss: 0.4078 - acc: 0.8144 - val_loss: 0.4077 - val_acc: 0.8149\n",
      "Epoch 21/200\n",
      "286799/286799 [==============================] - 5s 18us/step - loss: 0.4069 - acc: 0.8149 - val_loss: 0.4069 - val_acc: 0.8143\n",
      "Epoch 22/200\n",
      "286799/286799 [==============================] - 6s 23us/step - loss: 0.4071 - acc: 0.8153 - val_loss: 0.4078 - val_acc: 0.8149\n",
      "Epoch 23/200\n",
      "286799/286799 [==============================] - 5s 18us/step - loss: 0.4053 - acc: 0.8157 - val_loss: 0.4064 - val_acc: 0.8156\n",
      "Epoch 24/200\n",
      "286799/286799 [==============================] - 5s 17us/step - loss: 0.4040 - acc: 0.8160 - val_loss: 0.4055 - val_acc: 0.8151\n",
      "Epoch 25/200\n",
      "286799/286799 [==============================] - 5s 17us/step - loss: 0.4028 - acc: 0.8168 - val_loss: 0.4044 - val_acc: 0.8168\n",
      "Epoch 26/200\n",
      "286799/286799 [==============================] - 4s 14us/step - loss: 0.4020 - acc: 0.8171 - val_loss: 0.4036 - val_acc: 0.8172\n",
      "Epoch 27/200\n",
      "286799/286799 [==============================] - 4s 14us/step - loss: 0.4091 - acc: 0.8164 - val_loss: 0.4073 - val_acc: 0.8160\n",
      "Epoch 28/200\n",
      "286799/286799 [==============================] - 4s 15us/step - loss: 0.4029 - acc: 0.8175 - val_loss: 0.4040 - val_acc: 0.8170\n",
      "Epoch 29/200\n",
      "286799/286799 [==============================] - 4s 15us/step - loss: 0.4008 - acc: 0.8180 - val_loss: 0.4033 - val_acc: 0.8164\n",
      "Epoch 30/200\n",
      "286799/286799 [==============================] - 4s 15us/step - loss: 0.3995 - acc: 0.8181 - val_loss: 0.4013 - val_acc: 0.8184\n",
      "Epoch 31/200\n",
      "286799/286799 [==============================] - 4s 13us/step - loss: 0.3989 - acc: 0.8182 - val_loss: 0.4022 - val_acc: 0.8170\n",
      "Epoch 32/200\n",
      "286799/286799 [==============================] - 5s 16us/step - loss: 0.3990 - acc: 0.8187 - val_loss: 0.4013 - val_acc: 0.8176\n",
      "Epoch 33/200\n",
      "286799/286799 [==============================] - 5s 17us/step - loss: 0.3978 - acc: 0.8190 - val_loss: 0.4003 - val_acc: 0.8187\n",
      "Epoch 34/200\n",
      "286799/286799 [==============================] - 5s 16us/step - loss: 0.3972 - acc: 0.8196 - val_loss: 0.3996 - val_acc: 0.8191\n",
      "Epoch 35/200\n",
      "286799/286799 [==============================] - 5s 17us/step - loss: 0.3965 - acc: 0.8194 - val_loss: 0.3993 - val_acc: 0.8191\n",
      "Epoch 36/200\n",
      "286799/286799 [==============================] - 5s 16us/step - loss: 0.3959 - acc: 0.8201 - val_loss: 0.3980 - val_acc: 0.8198\n",
      "Epoch 37/200\n",
      "286799/286799 [==============================] - 6s 22us/step - loss: 0.3954 - acc: 0.8202 - val_loss: 0.3980 - val_acc: 0.8206\n",
      "Epoch 38/200\n",
      "286799/286799 [==============================] - 4s 13us/step - loss: 0.3953 - acc: 0.8203 - val_loss: 0.3977 - val_acc: 0.8207\n",
      "Epoch 39/200\n",
      "286799/286799 [==============================] - 4s 15us/step - loss: 0.3946 - acc: 0.8208 - val_loss: 0.3973 - val_acc: 0.8209\n",
      "Epoch 40/200\n",
      "286799/286799 [==============================] - 4s 14us/step - loss: 0.3939 - acc: 0.8212 - val_loss: 0.3995 - val_acc: 0.8191\n",
      "Epoch 41/200\n",
      "286799/286799 [==============================] - 5s 17us/step - loss: 0.3935 - acc: 0.8212 - val_loss: 0.3975 - val_acc: 0.8204\n",
      "Epoch 42/200\n",
      "286799/286799 [==============================] - 5s 17us/step - loss: 0.3931 - acc: 0.8216 - val_loss: 0.3973 - val_acc: 0.8198\n",
      "Epoch 43/200\n",
      "286799/286799 [==============================] - 5s 19us/step - loss: 0.3929 - acc: 0.8216 - val_loss: 0.3960 - val_acc: 0.8217\n",
      "Epoch 44/200\n",
      "286799/286799 [==============================] - 4s 16us/step - loss: 0.3926 - acc: 0.8221 - val_loss: 0.3988 - val_acc: 0.8216\n",
      "Epoch 45/200\n",
      "286799/286799 [==============================] - 4s 15us/step - loss: 0.3923 - acc: 0.8219 - val_loss: 0.3957 - val_acc: 0.8213\n",
      "Epoch 46/200\n",
      "286799/286799 [==============================] - 4s 15us/step - loss: 0.3924 - acc: 0.8226 - val_loss: 0.3957 - val_acc: 0.8209\n",
      "Epoch 47/200\n",
      "286799/286799 [==============================] - 5s 16us/step - loss: 0.3918 - acc: 0.8226 - val_loss: 0.3959 - val_acc: 0.8213\n",
      "Epoch 48/200\n",
      "286799/286799 [==============================] - 4s 14us/step - loss: 0.3911 - acc: 0.8227 - val_loss: 0.3946 - val_acc: 0.8217\n",
      "Epoch 49/200\n",
      "286799/286799 [==============================] - 5s 17us/step - loss: 0.3909 - acc: 0.8231 - val_loss: 0.3957 - val_acc: 0.8218\n",
      "Epoch 50/200\n",
      "286799/286799 [==============================] - 4s 16us/step - loss: 0.3904 - acc: 0.8231 - val_loss: 0.3949 - val_acc: 0.8229\n",
      "Epoch 51/200\n",
      "286799/286799 [==============================] - 5s 19us/step - loss: 0.3916 - acc: 0.8232 - val_loss: 0.3953 - val_acc: 0.8231\n",
      "Epoch 52/200\n",
      "286799/286799 [==============================] - 7s 23us/step - loss: 0.3908 - acc: 0.8231 - val_loss: 0.3950 - val_acc: 0.8226\n",
      "Epoch 53/200\n",
      "286799/286799 [==============================] - 6s 19us/step - loss: 0.3901 - acc: 0.8235 - val_loss: 0.3952 - val_acc: 0.8221\n",
      "Training duration : 263.1601243019104 secs\n"
     ]
    }
   ],
   "source": [
    "filepath = \"Models/model5.h5\"\n",
    "\n",
    "history_Final = LossHistory()\n",
    "early_stop = keras.callbacks.EarlyStopping(monitor=\"val_loss\", patience=5)\n",
    "modelCheck = keras.callbacks.ModelCheckpoint(filepath, monitor=\"val_loss\", save_best_only=True)\n",
    "\n",
    "n_epochs = 200\n",
    "n_batch = 512\n",
    "\n",
    "start_time = time.time()\n",
    "\n",
    "model_early.fit(x_train, y_train, batch_size=n_batch, epochs=n_epochs, \n",
    "                callbacks=[history_Final,modelCheck,early_stop], shuffle=True, validation_split=0.1)\n",
    "\n",
    "print(\"Training duration : {0}\".format(time.time() - start_time) + \" secs\")"
   ]
  },
  {
   "cell_type": "code",
   "execution_count": 6,
   "metadata": {},
   "outputs": [
    {
     "name": "stdout",
     "output_type": "stream",
     "text": [
      "model_early.h5 saved in <Models/>\n"
     ]
    }
   ],
   "source": [
    "model_early.save(\"Models/model_early.h5\")\n",
    "print(\"model_early.h5 saved in <Models/>\")"
   ]
  },
  {
   "cell_type": "markdown",
   "metadata": {},
   "source": [
    "## 9. Evaluate the DNN performance\n",
    "\n",
    "Once you have your best model defined, it is time to evaluate its performance with the samples of the **test dataset** (be aware that this must be the **first time** over this notebook that you use your test dataset). This dataset contains samples that the DNN has not seen before, so the comparison between network predictions and ground truth gives reliable results of the network's discrimination power.\n",
    "\n",
    "The first thing to do is to use the DNN to classify the samples contained in ```x_test``` and obtain the corresponding accuracy and loss values. To this purpose, you have to use the function ```evaluate()``` over the ```model``` object (your best model) once trained. This function takes as parameters the ```x_test``` samples, the ```y_test``` labels and the ```batch_size```.\n",
    "\n",
    "```batch_size``` must be set to 1 in order to classify the samples one by one.\n",
    "\n",
    "---\n",
    "\n",
    "**TO DO: Evaluate your best model by using the test dataset. Call the results of the evaluation ```score```.**\n"
   ]
  },
  {
   "cell_type": "code",
   "execution_count": 5,
   "metadata": {},
   "outputs": [],
   "source": [
    "from keras.models import load_model"
   ]
  },
  {
   "cell_type": "code",
   "execution_count": 6,
   "metadata": {},
   "outputs": [],
   "source": [
    "#model5 = load_model('Models/model5.h5')\n",
    "model_early = load_model('Models/model_early.h5')"
   ]
  },
  {
   "cell_type": "code",
   "execution_count": 7,
   "metadata": {},
   "outputs": [
    {
     "name": "stdout",
     "output_type": "stream",
     "text": [
      "10000/10000 [==============================] - 26s 3ms/step\n"
     ]
    }
   ],
   "source": [
    "score = model_early.evaluate(x_test, y_test, batch_size=1)"
   ]
  },
  {
   "cell_type": "code",
   "execution_count": 8,
   "metadata": {},
   "outputs": [
    {
     "data": {
      "text/plain": [
       "[0.40416921204806033, 0.8178]"
      ]
     },
     "execution_count": 8,
     "metadata": {},
     "output_type": "execute_result"
    }
   ],
   "source": [
    "score"
   ]
  },
  {
   "cell_type": "code",
   "execution_count": 6,
   "metadata": {},
   "outputs": [
    {
     "name": "stdout",
     "output_type": "stream",
     "text": [
      "10000/10000 [==============================] - 28s 3ms/step\n"
     ]
    }
   ],
   "source": [
    "#score = model5.evaluate(x_test, y_test, batch_size=1)"
   ]
  },
  {
   "cell_type": "code",
   "execution_count": 7,
   "metadata": {},
   "outputs": [
    {
     "data": {
      "text/plain": [
       "[0.40321297290693103, 0.819]"
      ]
     },
     "execution_count": 7,
     "metadata": {},
     "output_type": "execute_result"
    }
   ],
   "source": [
    "#score (w. model5)"
   ]
  },
  {
   "cell_type": "markdown",
   "metadata": {},
   "source": [
    "<strong>TO DO: Save the predictions given by the network for each one of the samples of the ```x_test``` dataset in a python variable called ```y_pred```. Print this variable to understand the format in which the network predictions are given.\n",
    "\n",
    "Note: This is the discriminant given by the network.</strong>"
   ]
  },
  {
   "cell_type": "code",
   "execution_count": 9,
   "metadata": {},
   "outputs": [],
   "source": [
    "y_pred = model_early.predict(x_test)"
   ]
  },
  {
   "cell_type": "code",
   "execution_count": 10,
   "metadata": {},
   "outputs": [
    {
     "data": {
      "text/plain": [
       "array([[0.9721322 ],\n",
       "       [0.94567525],\n",
       "       [0.1446568 ],\n",
       "       ...,\n",
       "       [0.90304255],\n",
       "       [0.49646014],\n",
       "       [0.8470634 ]], dtype=float32)"
      ]
     },
     "execution_count": 10,
     "metadata": {},
     "output_type": "execute_result"
    }
   ],
   "source": [
    "y_pred"
   ]
  },
  {
   "cell_type": "code",
   "execution_count": 12,
   "metadata": {},
   "outputs": [
    {
     "data": {
      "text/plain": [
       "array([[1.],\n",
       "       [1.],\n",
       "       [0.],\n",
       "       ...,\n",
       "       [1.],\n",
       "       [0.],\n",
       "       [1.]])"
      ]
     },
     "execution_count": 12,
     "metadata": {},
     "output_type": "execute_result"
    }
   ],
   "source": [
    "y_test"
   ]
  },
  {
   "cell_type": "markdown",
   "metadata": {},
   "source": [
    "### 9.1 Discriminant distribution\n",
    "\n",
    "The discriminant distribution takes a very charactistic shape depending on how much efficient is he DNN classifying  the samples of the test dataset.\n",
    "\n",
    "Those values are plotted for both signal and background events and in this way we can observe how the network predicts the events of each class separately (discriminant values for signal are expected to be close to 1, while background events should be close to 0).\n",
    "\n",
    "We use ```matplotlib.pyplot``` to plot the distributions:"
   ]
  },
  {
   "cell_type": "code",
   "execution_count": 11,
   "metadata": {},
   "outputs": [
    {
     "name": "stdout",
     "output_type": "stream",
     "text": [
      "[0.1446568  0.2028589  0.06578999 ... 0.02591492 0.7946536  0.49646014]\n",
      "[0.9721322  0.94567525 0.6340972  ... 0.7363924  0.90304255 0.8470634 ]\n"
     ]
    },
    {
     "data": {
      "text/plain": [
       "<Figure size 432x288 with 0 Axes>"
      ]
     },
     "metadata": {},
     "output_type": "display_data"
    },
    {
     "data": {
      "image/png": "[encoded data removed]",
      "text/plain": [
       "<Figure size 432x432 with 1 Axes>"
      ]
     },
     "metadata": {
      "needs_background": "light"
     },
     "output_type": "display_data"
    }
   ],
   "source": [
    "import os\n",
    "from matplotlib import pyplot as plt\n",
    "\n",
    "# Convert the y_pred and y_test numpy matrixes to 1-dimensional numpy arrays:\n",
    "discriminant = np.squeeze(np.asarray(y_pred))\n",
    "true_labels = np.squeeze(np.asarray(y_test))\n",
    "\n",
    "# Get the discriminant values for each class (0: background, 1: signal):\n",
    "discriminant0 = discriminant[list(true_labels == 0)]\n",
    "print(discriminant0)\n",
    "discriminant1 = discriminant[list(true_labels == 1)]\n",
    "print(discriminant1)\n",
    "\n",
    "# Define the binning:\n",
    "binning = np.linspace(0, 1, 51)\n",
    "\n",
    "\n",
    "# Plot the discriminant distributions:\n",
    "plt.clf()\n",
    "plt.figure(num=None, figsize=(6, 6))\n",
    "plt.subplot(111)\n",
    "pdf0, bins0, patches0 = plt.hist(discriminant0, bins = binning, color = 'r', alpha = 0.3, histtype = 'stepfilled', linewidth = 1, edgecolor='r', label = 'Background')\n",
    "pdf1, bins1, patches1 = plt.hist(discriminant1, bins = binning, color = 'b', alpha = 0.3, histtype = 'stepfilled', linewidth = 1, edgecolor='b', label = 'Signal')\n",
    "plt.legend(loc = 'upper center')\n",
    "plt.ylabel('Entries', fontsize = 12)\n",
    "plt.xlabel('DNN discriminant', fontsize = 12)\n",
    "if not os.path.exists('Results/'): os.makedirs('Results/')\n",
    "plt.savefig('Results/Discriminant_distribution.png', dpi = 600)"
   ]
  },
  {
   "cell_type": "markdown",
   "metadata": {},
   "source": [
    "### 9.2 ROC curve\n",
    "\n",
    "In a classification problem the main goal is to maximize the number of true classified samples but also to minimize the number of errors. That is, to obtain the higher number of true signal events classified as signal events while avoiding to classify background events as signal events.\n",
    "\n",
    "In this context we have the following definitions:\n",
    "- <font color=\"green\"> True Positives TP: True signal events classified as signal events.</font>\n",
    "- <font color=\"red\"> Fake Positives FP: True background events classified as signal events.</font>\n",
    "- <font color=\"red\"> Fake Negatives FN: True signal events classified as background events.</font>\n",
    "- <font color=\"green\"> True Negatives TN: True background events classified as background events.</font>\n",
    "\n",
    ">The DNN **sensitivity** is defined as the **True Positive Rate (TPR)** i.e. the ratio of True Positives obtained and the total number of true signal samples (true class == 1) in the test set:\n",
    ">$$\\text{TPR} = \\dfrac{\\text{TP}}{\\text{TP} + \\text{FN}}$$\n",
    "\n",
    "> The DNN **False Positive Rate (FPR)** is defined as the ratio between the False Positives obtained and the total number of true background samples (true class == 0) in the test set:\n",
    ">$$\\text{FPR} = \\dfrac{\\text{FP}}{\\text{FP} + \\text{TN}}$$\n",
    "\n",
    "Both TPR and FPR vary as we set the discriminant value over which we interpret that an event is considered as a  signal event. That is, we could say that every event with discriminant > 0.6 is classified as signal or chose another cut value (0.4, 0.5... etc). All this choices have their correspondent TPR and FPR. Our objective is to identify the discriminant cut that gives the highest TPR and lowest FPR relation.\n",
    "\n",
    "The **ROC curve** is defined to study this choice and also evaluate the classification power of our network. It shows the TPR vs FPR relation as the cut in the discriminant varies (from 0 to 1). In Figure 9.1 we show an example of this TPR vs FPR space.\n",
    "\n",
    "---\n",
    "\n",
    "<img src=\"https://upload.wikimedia.org/wikipedia/commons/3/36/ROC_space-2.png\" width=\"40%\">\n",
    "\n",
    "> **Figure 9.1**: ROC curve example.\n",
    "\n",
    "---\n",
    "\n",
    "The **Area Under the Curve (AUC)** is used to quantify the network performance. The higher it is, the more efficient the network is classifying samples. Normally we have the following criteria to evaluate the AUC value:\n",
    "\n",
    "```.90-1 = excellent (A)```\n",
    "```.80-.90 = good (B)```\n",
    "```.70-.80 = fair (C)```\n",
    "```.60-.70 = poor (D)```\n",
    "```.50-.60 = fail (F)```\n",
    "\n",
    "In order to implement the **ROC curve** creation in the code we use we use the python package ```sklearn``` (see [here](https://scikit-learn.org/stable/)). Inside the module ```sklearn.metrics``` there is a function ```roc_curve()``` that takes the network predictions ```y_pred``` and the ground truth ```y_test``` for the samples of the **test dataset**. The function computes the **TPR** (```tpr```) and the **FPR** (```fpr```) by scanning the possible values of the discriminant cut (```thresholds```) and returns that information contained in ```numpy.array``` objects. An example of the code implementation would be something like:\n",
    "\n",
    "```fpr, tpr, thresholds = metrics.roc_curve(y_test, y_pred)```\n",
    "\n",
    "**AUC** can be easily computed from ```fpr``` and ```tpr``` by using another function provided by ```sklearn```:\n",
    "\n",
    "```auc = metrics.auc(fpr, tpr)```\n",
    "\n",
    "**TO DO: The full implementation is already done and you can check the results of your DNN by just running:** "
   ]
  },
  {
   "cell_type": "code",
   "execution_count": 13,
   "metadata": {},
   "outputs": [
    {
     "name": "stdout",
     "output_type": "stream",
     "text": [
      "The optimal cut value is: 0.54946375\n"
     ]
    },
    {
     "data": {
      "text/plain": [
       "<Figure size 432x288 with 0 Axes>"
      ]
     },
     "metadata": {},
     "output_type": "display_data"
    },
    {
     "data": {
      "image/png": "[encoded data removed]",
      "text/plain": [
       "<Figure size 432x432 with 1 Axes>"
      ]
     },
     "metadata": {
      "needs_background": "light"
     },
     "output_type": "display_data"
    }
   ],
   "source": [
    "import os\n",
    "from matplotlib import pyplot as plt\n",
    "from sklearn import metrics\n",
    "\n",
    "fpr, tpr, thresholds = metrics.roc_curve(y_test, y_pred)\n",
    "auc = metrics.auc(fpr, tpr)\n",
    "\n",
    "plt.clf()\n",
    "plt.figure(num=None, figsize=(6, 6))\n",
    "plt.subplot(111)\n",
    "plt.plot(fpr, tpr, color = 'r', label = \"ROC curve\")\n",
    "plt.plot([0, 1], [0, 1], color='navy', lw=2, linestyle='--', label = \"Random guess\")\n",
    "plt.legend(loc = \"lower right\")\n",
    "plt.xlabel('False Positive rate', fontsize = 12)\n",
    "plt.ylabel('True Positive rate', fontsize = 12)\n",
    "plt.text(0.68, 0.1, 'AUC: %.3f' % auc)\n",
    "plt.savefig('Results/ROC.png', dpi =  600)\n",
    "\n",
    "\n",
    "#### Optative and not explained (Youden index, cut value):\n",
    "Youden_index = tpr - fpr\n",
    "i_max = np.argmax(Youden_index)\n",
    "cut_value = thresholds[i_max]\n",
    "\n",
    "print(\"The optimal cut value is: \" + str(cut_value))"
   ]
  },
  {
   "cell_type": "markdown",
   "metadata": {},
   "source": [
    "### 9.3 Confusion matrix\n",
    "\n",
    "Finally and with the optimal cut value in the discriminant already chosen, the results of the DNN performance can be presented in the form of a **confusion matrix**.\n",
    "\n",
    ">Being $N$ the number of classes, the **confusion matrix** is a $N$x$N$ matrix where the rows are the true classes of the samples and the columns the class predictions given by the network. In this case the confusion matrix is a 2x2 matrix with two classes (0: background, 1: signal). The entries of the matrix are the fraction of samples of the test dataset filled in each category.\n",
    "\n",
    "In this sense, the confusion matrix can be understood as a 2-dimensional normalized histogram.\n",
    "\n",
    "According to this definition, the **True Positives (TP)** are stored in (1,1), **True Negatives (TN)** in (0,0), **False Positives (FP)** in (0,1) and **False Negatives (FN)** in (1,0).\n",
    "\n",
    "**TO DO: The confusion matrix is already implemented and you can obtain the one from your model by running:** "
   ]
  },
  {
   "cell_type": "code",
   "execution_count": 14,
   "metadata": {},
   "outputs": [
    {
     "name": "stdout",
     "output_type": "stream",
     "text": [
      "-> Computing confusion matrix...\n",
      "Normalized confusion matrix\n",
      "[[0.829  0.171 ]\n",
      " [0.1832 0.8168]]\n"
     ]
    },
    {
     "data": {
      "image/png": "[encoded data removed]",
      "text/plain": [
       "<Figure size 432x288 with 2 Axes>"
      ]
     },
     "metadata": {
      "needs_background": "light"
     },
     "output_type": "display_data"
    }
   ],
   "source": [
    "import numpy as np\n",
    "import os\n",
    "from sklearn.metrics import confusion_matrix\n",
    "from results_tools import plot_confusion_matrix\n",
    "\n",
    "print(\"-> Computing confusion matrix...\")\n",
    "\n",
    "y_test_confusion = true_labels\n",
    "y_pred_confusion = np.zeros(len(discriminant))\n",
    "\n",
    "for i in range(0, len(discriminant)):\n",
    "    if discriminant[i] > cut_value: # threshold\n",
    "        y_pred_confusion[i] = 1\n",
    "    else:\n",
    "        y_pred_confusion[i] = 0\n",
    "        \n",
    "\n",
    "cnf_matrix = confusion_matrix(y_test_confusion, y_pred_confusion)\n",
    "\n",
    "\n",
    "plt.figure()\n",
    "plot_confusion_matrix(cm=cnf_matrix, classes=['Background (0)', 'Signal (1)'], normalize=True, title='Normalized confusion matrix')\n",
    "\n",
    "if not os.path.exists('Results/'): os.makedirs('Results/')\n",
    "plt.savefig(\"Results/ConfusionMatrix.png\", dpi = 600)"
   ]
  }
 ],
 "metadata": {
  "kernelspec": {
   "display_name": "Python 3",
   "language": "python",
   "name": "python3"
  },
  "language_info": {
   "codemirror_mode": {
    "name": "ipython",
    "version": 3
   },
   "file_extension": ".py",
   "mimetype": "text/x-python",
   "name": "python",
   "nbconvert_exporter": "python",
   "pygments_lexer": "ipython3",
   "version": "3.6.9"
  }
 },
 "nbformat": 4,
 "nbformat_minor": 2
}
