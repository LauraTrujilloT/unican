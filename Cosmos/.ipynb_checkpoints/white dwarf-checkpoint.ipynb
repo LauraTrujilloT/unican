{
 "cells": [
  {
   "cell_type": "markdown",
   "metadata": {},
   "source": [
    "# Master's Degree in Particle Physics and Cosmos\n",
    "## Cosmos Problem 9.3 White Dwarf\n",
    "\n",
    "Student: Laura V. Trujillo Taborda ([lvtrujillot@unal.edu.co](lvtrujillot@unal.edu.co))"
   ]
  },
  {
   "cell_type": "markdown",
   "metadata": {},
   "source": [
    "For a white dwarf, the non-relativistic equation of state is given as:\n",
    "\n",
    "$$P = \\alpha \\rho^{5/3} $$\n",
    "\n",
    "And if the white dwarf is in equilibrium,\n",
    "\n",
    "$$ \\frac{dP}{dr} = - \\rho(r) \\frac{G M(r)}{r^2} $$"
   ]
  },
  {
   "cell_type": "code",
   "execution_count": 2,
   "metadata": {},
   "outputs": [],
   "source": [
    "import numpy as np\n",
    "from matplotlib import pyplot as plt\n",
    "%matplotlib inline "
   ]
  },
  {
   "cell_type": "code",
   "execution_count": 55,
   "metadata": {},
   "outputs": [],
   "source": [
    "def dP(a, b):\n",
    "    alpha = 3123161.171\n",
    "    G = 6.67E-11\n",
    "    return ((4 / 3) * np.pi * G * a * (r0 ** 2) * (b ** 2))\n",
    "\n",
    "def white_dwarf(r0, rho_0 ,dr=1):\n",
    "    \"\"\"\n",
    "    Builds a white dwarf\n",
    "    \"\"\"\n",
    "    alpha = 3123161.171\n",
    "    G = 6.67E-11\n",
    "    m0 = (4 / 3) * np.pi * rho_0 * (r0 ** 3)\n",
    "    P0 = alpha * (rho_0 ** (5/3))\n",
    "    # lists\n",
    "    R = [dr]\n",
    "    M = [m0]\n",
    "    P = [P0]\n",
    "    rho = [rho_0]\n",
    "    \n",
    "    while rho[dr - 1] > 1E4:\n",
    "        dr = dr + 1\n",
    "        new_P = P[dr - 2] - dP(R[dr - 2], rho[dr - 2])\n",
    "        new_rho = (new_P / alpha) ** (3/5)\n",
    "        new_M = M[dr - 2] + ( 4 * np.pi * new_rho * ((r0 * dr)**3 - (r0 * (dr - 1))**3))\n",
    "        \n",
    "        R.append(dr)\n",
    "        P.append(new_P)\n",
    "        rho.append(new_rho)\n",
    "        M.append(new_M)\n",
    "        \n",
    "    #plot\n",
    "    plt.figure(figsize=(16,4))\n",
    "    plt.subplot(1, 3, 1)\n",
    "    plt.plot(R,P,'ob')\n",
    "    plt.xlabel(\"R\", fontsize=14)\n",
    "    plt.ylabel(\"P\", fontsize=14)\n",
    "    plt.subplot(1, 3, 2)\n",
    "    plt.plot(R,M,'og')\n",
    "    plt.xlabel(\"R\", fontsize=14)\n",
    "    plt.ylabel(\"M\", fontsize=14)\n",
    "    plt.subplot(1, 3, 3)\n",
    "    plt.plot(R,rho,'or')\n",
    "    plt.xlabel(\"R\", fontsize=14)\n",
    "    plt.ylabel(r\"$\\rho$\", fontsize=14)\n",
    "    plt.show()\n",
    "    "
   ]
  },
  {
   "cell_type": "code",
   "execution_count": 56,
   "metadata": {},
   "outputs": [
    {
     "data": {
      "image/png": "[encoded data removed]",
      "text/plain": [
       "<matplotlib.figure.Figure at 0x7f44c8674320>"
      ]
     },
     "metadata": {},
     "output_type": "display_data"
    }
   ],
   "source": [
    "white_dwarf(1E4, 1E9)"
   ]
  },
  {
   "cell_type": "markdown",
   "metadata": {},
   "source": [
    "It is obtained $0.10R_{solar}$ and $1.45 M_{solar}$"
   ]
  }
 ],
 "metadata": {
  "kernelspec": {
   "display_name": "Python 3",
   "language": "python",
   "name": "python3"
  },
  "language_info": {
   "codemirror_mode": {
    "name": "ipython",
    "version": 3
   },
   "file_extension": ".py",
   "mimetype": "text/x-python",
   "name": "python",
   "nbconvert_exporter": "python",
   "pygments_lexer": "ipython3",
   "version": "3.6.9"
  }
 },
 "nbformat": 4,
 "nbformat_minor": 2
}
