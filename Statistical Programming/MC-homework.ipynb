{
 "cells": [
  {
   "cell_type": "markdown",
   "metadata": {},
   "source": [
    "# Statistics: MonteCarlo Methods\n",
    "26 January 2020\n",
    "\n",
    "\n",
    "Author: Laura V. Trujillo T \n",
    "\n",
    "e-mail: [lvtrujillot@unal.edu.co](lvtrujillot@unal.edu.co)\n",
    "\n",
    "\n",
    "\n",
    "## 1. Metropolis for hard disks\n"
   ]
  },
  {
   "cell_type": "code",
   "execution_count": null,
   "metadata": {},
   "outputs": [],
   "source": []
  }
 ],
 "metadata": {
  "kernelspec": {
   "display_name": "R",
   "language": "R",
   "name": "ir"
  },
  "language_info": {
   "codemirror_mode": "r",
   "file_extension": ".r",
   "mimetype": "text/x-r-source",
   "name": "R",
   "pygments_lexer": "r",
   "version": "3.6.1"
  }
 },
 "nbformat": 4,
 "nbformat_minor": 4
}
