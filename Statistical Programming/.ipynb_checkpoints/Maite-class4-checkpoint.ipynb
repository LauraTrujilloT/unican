{
 "cells": [
  {
   "cell_type": "markdown",
   "metadata": {},
   "source": [
    "# R-class 4 (2 hours) \n",
    "\n",
    "## Exercise 3\n",
    "File Exercise3_Data.xls\n",
    "\n",
    "\n",
    "In this file there is a table that contains the number of nights lost due to bad weather in an astronomical observatory, by months and years. This exercise aims to analyze both the possible seasonal and long-term variation of the fraction of nights lost due to bad weather.\n",
    "\n",
    "Considering the different months of each year as independent statistical samples, calculate the fraction of nights lost due to bad weather each year (it should be borne in mind that the months have a different number of nights), and estimate the average quadratic dispersion in that magnitude, assuming it is Gaussian. This results in a sequence of data xi, yi, sigmai (where xi is the year, yi the fraction of nights lost due to bad weather that year, sigmai its statistical error) to which chi2 statistics can be applied\n",
    "\n",
    "### Part 1)\n",
    "\n",
    "* a) Assuming that the fraction of lost nights does not vary with the year (constant) estimate that constant value, and give its confidence interval at 90% using the  χ2 variation method\n",
    "\n",
    "* b) Calculate the goodness of the fit, that is, the probability that χ2 is greater than that measured in the assumption that the model is correct.\n",
    "   \n",
    "* c) A simple climate change model predicts that the fraction of nights lost due to bad weather grows linearly over time (years). Fit a line (constant plus slope), estimate the two parameters minimizing the χ2. Give confidence intervals at 90% and 99% of the slope of this fit.\n",
    "   \n",
    "* d) Using the F-test statistic, how likely does the improvement in χ2 introduced by the model in the previous section improve the constant model?\n",
    "\n",
    "\n",
    "### Notes:\n",
    "* library(Hmisc) + library(lubridate)\n",
    "* Convert excel file to csv:\n",
    "  * remove \"\" \n",
    "  * replace \",\" by \".\" in numbers\n",
    "  * replace \"ND\" by NA\n",
    "  * then read by R\n",
    "* No excel manipulation: all operations in R\n"
   ]
  },
  {
   "cell_type": "markdown",
   "metadata": {},
   "source": [
    "### 4.1) Fraction Lost vs. Year (1)\n",
    "\n",
    "a) Convert nights to fraction of nights for each month (leap years!!!)\n",
    "> Look for function in R to know days in month\n",
    "\n",
    "b) Mean fraction + error **in the mean**\n",
    "\n",
    "c) Final table: YEAR   FRACLOST   ERROR\n",
    "\n",
    "d) Plot FRACLOST vs YEAR (user errbar)\n"
   ]
  },
  {
   "cell_type": "markdown",
   "metadata": {},
   "source": [
    "### 4.1.a) Fit to a constant (1.5)\n",
    "\n",
    "a1) Use ``lm`` & ``analytical expresion`` to fit a constant (should give the same)\n",
    "\n",
    "a2) Calculate $\\chi^2$  (define a function for $\\chi^2$ where the model is a line)\n",
    "\n",
    "a3) Calculate 90% confidence interval (**analytical**)"
   ]
  },
  {
   "cell_type": "markdown",
   "metadata": {},
   "source": [
    "### 4.1.b) Fitting quality (0.5)\n",
    "\n",
    "b1) P(chi2,nu) = Probability that chi2 < chi2min if the model is correct\n",
    "\n",
    "b2) Q (goodness of fit) = Probability that chi2 > chi2min if the model is correct\n",
    "\n",
    "```p(H0)= Q = pchisq(...,lower.tail=FALSE)```\n",
    "\n",
    "Good fit: P small & Q=1-P large\n",
    "\n",
    "If Q=1-P < 0.01%: model is not consistent with the data"
   ]
  },
  {
   "cell_type": "markdown",
   "metadata": {},
   "source": [
    "### 4.1.c) Fit to a straight line (4)\n",
    "\n",
    "_flost = a + b * years_\n",
    "\n",
    "c1) Best fit (by ``lm``) and plot (0.5)\n",
    " \n",
    "c2) Best fit con ```optim``` (fun.to.minimize = chi2, for a line, 2 params) (2)\n",
    "\n",
    "c3) Confidence intervals 90% and 99% (**analytical**) (1)\n",
    "\n",
    "c4) Ftest: F, pF, improve=1-pF (grande para que el modelo mejore) (se pueden usar los resultados del fit) (0.5)"
   ]
  },
  {
   "cell_type": "markdown",
   "metadata": {},
   "source": [
    "### Part 2)\n",
    "\n",
    "* a) Are the data compatible with no seasonal variation (month to month)? To do this, fit a constant and calculate the probability that the χ2 is greater than the one measured if the model is correct.\n",
    "     \n",
    "* b) Assume now a model in which the fraction of nights lost due to bad weather is a constant plus an annual period sinusoid (12 months). Calculate the parameters of this model (3 free parameters in total: the constant fc, the amplitude of the sin sinusoid and the origin t0). Estimate at 90% confidence, the value of the amplitude of the seasonal component and independently of the constant component.  f=fc+fe sin(2π(t-t0)/τ)\n",
    "    \n",
    "* c) Considering the two parameters of amplitude fc and fe simultaneously, delimit (using the χ2 variation method) the area in that parameter space that contains 95.4% confidence.\n"
   ]
  },
  {
   "cell_type": "markdown",
   "metadata": {},
   "source": [
    "### 4.2) Fraction Lost vs. Month (7)\n",
    "\n",
    "a) Fit to a constant (``lm``), Give chi2  (1)\n",
    "\n",
    "b) Fit to a function  $flost = fc + fe\\times \\sin(2\\pi(t-t_0)/12)$    (3)\n",
    "```\n",
    "\n",
    "OPTIM + fun.to.minimize  \n",
    "      fun.to.minimize.3pars<-function(params,x,y,var)\n",
    "        fc <- params[1]\n",
    "        fe <- params[2]\n",
    "        t0 <- params[3]\n",
    "        chi2_sin(x,y,var,fc,fe,t0)\n",
    "```\n",
    "\n",
    "and **give the chi2** with the sinusoidal function as a model\n",
    "\n",
    "c1) Confidence interval: Hessian matrices (1)\n",
    "\n",
    "(see http://stats.stackexchange.com/questions/27033/in-r-given-an-output-from-optim-with-a-hessian-matrix-how-to-calculate-paramet)\n",
    "The covariance matrix of the estimates is (asymptotically) the inverse of the negative of the Hessian. \n",
    "The standard errors are the square roots of the diagonal elements of the covariance:\n",
    "       \n",
    "* If maximizing the log(likelihood), then the NEGATIVE of the hessian is the \"observed information\"\n",
    "* **If MINIMIZING a \"deviance\" = (-2)*log(likelihood), then the HALF of the hessian is the observed information.**\n",
    "* In the unlikely event that you are maximizing the likelihood itself, you need to divide the negative of the hessian by the likelihood to get the observed information.\n",
    "   \n",
    " 90% = 1.64 sigmas   qnorm(0.05,lower.tail=TRUE)\n",
    " \n",
    " 95% = 1.96 sigmas   qnorm(0.025,lower.tail=TRUE)\n",
    " \n",
    " 99% = 2.58 sigmas   qnorm(0.005,lower.tail=TRUE)\n",
    "\n",
    "```err_90 <- sprintf(\"%.f\",sqrt(diag(solve(solution$hessian/2)))*1.64)```\n",
    "\n",
    "                          \\------------- sigma ---------------/ \n",
    "\n",
    "c2) Contours (``optimize`` + ``contour``)  (2)\n",
    "\n",
    "\n",
    "Create grid (fc, fe) -> calculate chi2(fc,fe,t0.which.min.chi2_sin) => CONTOUR(matrix(chi2))\n",
    "\n",
    "```\n",
    "fun.to.minimize.t0<-function(params,x,y,var,fc,fe){\n",
    "            t0 <- params[1]\n",
    "            chi2_sin(x,y,var,fc,fe,t0)\n",
    "```\n",
    "> grid is like meshgrid. `t0`minimizes chi2\n",
    "\n",
    "\n",
    "=> ``optimize`` -> t0, optimize$objective -> chi2min_t0"
   ]
  },
  {
   "cell_type": "code",
   "execution_count": null,
   "metadata": {},
   "outputs": [],
   "source": []
  }
 ],
 "metadata": {
  "kernelspec": {
   "display_name": "R",
   "language": "R",
   "name": "ir"
  },
  "language_info": {
   "codemirror_mode": "r",
   "file_extension": ".r",
   "mimetype": "text/x-r-source",
   "name": "R",
   "pygments_lexer": "r",
   "version": "3.6.1"
  }
 },
 "nbformat": 4,
 "nbformat_minor": 4
}
