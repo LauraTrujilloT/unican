{
 "cells": [
  {
   "cell_type": "markdown",
   "metadata": {},
   "source": [
    "# Statistics: MonteCarlo Methods\n",
    "26 January 2020\n",
    "\n",
    "\n",
    "Author: Laura V. Trujillo T \n",
    "\n",
    "e-mail: [lvtrujillot@unal.edu.co](lvtrujillot@unal.edu.co)\n",
    "\n",
    "\n",
    "\n",
    "## 1. Metropolis for hard disks\n",
    "_Two disks of radius **R** in a square box of side **L** which each walker is made of 4 coordinates. Start with several walkers and iterate checking the convergence of quantities such as the distance between them. Repeat for disks in a sphere of radius **L**_\n"
   ]
  },
  {
   "cell_type": "code",
   "execution_count": 6,
   "metadata": {},
   "outputs": [],
   "source": [
    "#Parameters\n",
    "N <- 1000\n",
    "L <- 1\n",
    "R <- 0.2\n",
    "\n",
    "#Function distance\n",
    "d <- function(x1, x2, y1, y2){\n",
    "    X <- (x2 - x1)^2\n",
    "    Y <- (y2 - y1)^2\n",
    "    return(sqrt(X + Y))\n",
    "}\n",
    "\n",
    "#Walkers\n",
    "delta_x <- runif(N, 0, 0.5 * L)\n",
    "delta_y <- runif(N, 0, 0.5 * L)\n",
    "r0 <- runif(N, 0, 0.5 * L)\n",
    "rp0 <- runif(N, 0, 0.5 * L)\n",
    "#Inital positions \n",
    "x0 <- r0 + delta_x\n",
    "y0 <- r0 + delta_y\n",
    "\n",
    "xp0 <- rp0  + delta_x\n",
    "yp0 <- rp0 + delta_y\n",
    "\n",
    "# Disks' new positions\n",
    "x1 <-  ifelse(d(x0, xp0, y0, yp0) + 2 * R > 0 && , r0 + delta_x, r0)\n",
    "y1 <-  r0 + delta_y"
   ]
  },
  {
   "cell_type": "code",
   "execution_count": null,
   "metadata": {},
   "outputs": [],
   "source": []
  }
 ],
 "metadata": {
  "kernelspec": {
   "display_name": "R",
   "language": "R",
   "name": "ir"
  },
  "language_info": {
   "codemirror_mode": "r",
   "file_extension": ".r",
   "mimetype": "text/x-r-source",
   "name": "R",
   "pygments_lexer": "r",
   "version": "3.6.1"
  }
 },
 "nbformat": 4,
 "nbformat_minor": 4
}
