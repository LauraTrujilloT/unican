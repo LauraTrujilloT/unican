{
 "cells": [
  {
   "cell_type": "code",
   "execution_count": null,
   "metadata": {},
   "outputs": [],
   "source": [
    "fun.to.min.t0 <- function(params,fc, fe, x, y, var ){\n",
    "    t0 <- params[1]\n",
    "    flost <-  fc + (fe * sin(2 * pi * (x - t0)/ 12))\n",
    "    output <- sum(((y - flost) / var)^2)\n",
    "    return(output) \n",
    "}\n",
    "\n",
    "x <- seq(1, 12, 1)\n",
    "y <- month.mean\n",
    "var <- month.error\n",
    "row <- seq(0.15, 0.27, length.out = 80) \n",
    "col <- seq(0.10, 0.25, length.out = 80) \n",
    "chimin <- x1"
   ]
  },
  {
   "cell_type": "code",
   "execution_count": null,
   "metadata": {},
   "outputs": [],
   "source": [
    "M1 <- matrix(, nrow = length(row),  ncol = length(col))\n",
    "\n",
    "for (i in 1:length(row)){\n",
    "    for (j in 1:length(col)){\n",
    "        chi2 <- optimize(fun.to.min.t0, lower= -3, upper=3, fc=row[i], \n",
    "                         fe=col[j], x=x, y=y, var=var )$objective\n",
    "        M1[i, j] <- chi2\n",
    "    }\n",
    "}\n",
    "\n",
    "contour(x=row, y=col, M1, xlim=(c(0.2, 0.26)), ylim=(c(0.15, 0.22)),\n",
    "       level=c(chimin+4.61, chimin+6.17, chimin+9.21))"
   ]
  }
 ],
 "metadata": {
  "kernelspec": {
   "display_name": "R",
   "language": "R",
   "name": "ir"
  },
  "language_info": {
   "codemirror_mode": "r",
   "file_extension": ".r",
   "mimetype": "text/x-r-source",
   "name": "R",
   "pygments_lexer": "r",
   "version": "3.6.1"
  }
 },
 "nbformat": 4,
 "nbformat_minor": 4
}
