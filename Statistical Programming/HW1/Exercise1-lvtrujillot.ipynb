{
 "cells": [
  {
   "cell_type": "markdown",
   "metadata": {},
   "source": [
    "## Exercise \n",
    "\n",
    "1. Calculate for the following files `dat1.dat`,`dat2.dat`,`dat3.dat`: \n",
    "   -  Mean and Standard Deviation\n",
    " \n",
    "   -  Median\n",
    " \n",
    "   -  Histogram\n",
    " \n",
    "       Plot histograms (density, not frecuency) and curves for the distributions\n",
    " \n",
    "2. Which distributions are they? Why\n",
    "\n",
    "\n",
    "> For installing modeest: [R documentation](https://www.rdocumentation.org/packages/modeest/versions/2.1/topics/distribModel) `conda install -c conda-forge r-modeest` "
   ]
  },
  {
   "cell_type": "markdown",
   "metadata": {},
   "source": [
    "# Statistics: Uncertainties and Errors\n",
    "_Author: Laura V. Trujillo T. [lvtrujillot@unal.edu.co](lvtrujillot@unal.edu.co)_\n",
    "## Introduction\n",
    "\n",
    "\n",
    "The interest of the following _exercise_ is to give an overview of the basic concepts in statistics such as **mean**, **median** and **standard deviation** of a bunch of data in order to analyze and understand its behavior quantitatively and qualitatively (histograms, distribution curves and so on)\n",
    "\n",
    "1. **Mean** : it is used to derive the central tendency of the data. In other words, it is the average of the data set.\n",
    "\n",
    "2. **Median**: it is the middle of the data set.\n",
    "\n",
    "3. **Standard Deviation** it is a measure of how spread out the data set is around the mean."
   ]
  },
  {
   "cell_type": "code",
   "execution_count": 1,
   "metadata": {},
   "outputs": [],
   "source": [
    "d1 <- read.table(\"dat1.dat\",header=FALSE)\n",
    "d2 <- read.table(\"dat2.dat\",header=FALSE)\n",
    "d3 <- read.table(\"dat3.dat\",header=FALSE)"
   ]
  },
  {
   "cell_type": "markdown",
   "metadata": {},
   "source": [
    "## Mean, Median and Standard Deviation\n",
    "### `dat1.dat`"
   ]
  },
  {
   "cell_type": "code",
   "execution_count": 2,
   "metadata": {},
   "outputs": [
    {
     "name": "stdout",
     "output_type": "stream",
     "text": [
      "Data1 \n",
      " The standard deviation is:  1.414748 \n",
      " The Median is:  1.975919 \n",
      " The Mean is:  1.9863 \n",
      " The first and third quartiles:  0.7467177 , 3.225604"
     ]
    }
   ],
   "source": [
    "cat(\"Data1 \\n The standard deviation is: \", sd(d1$V1),\n",
    "    \"\\n The Median is: \", summary(d1$V1)[3],\n",
    "    \"\\n The Mean is: \", summary(d1$V1)[4],\n",
    "   \"\\n The first and third quartiles: \", summary(d1$V1)[2],\",\", summary(d1$V1)[5])"
   ]
  },
  {
   "cell_type": "markdown",
   "metadata": {},
   "source": [
    "### `dat2.dat`"
   ]
  },
  {
   "cell_type": "code",
   "execution_count": 3,
   "metadata": {},
   "outputs": [
    {
     "name": "stdout",
     "output_type": "stream",
     "text": [
      "Data2 \n",
      " The standard deviation is:  1.414748 \n",
      " The Median is:  2 \n",
      " The Mean is:  1.9863 \n",
      " The first and third quartiles:  1 , 3"
     ]
    }
   ],
   "source": [
    "cat(\"Data2 \\n The standard deviation is: \",sd(d2$V1),\n",
    "    \"\\n The Median is: \", summary(d2$V1)[3],\n",
    "    \"\\n The Mean is: \", summary(d2$V1)[4],\n",
    "   \"\\n The first and third quartiles: \", summary(d2$V1)[2],\",\", summary(d2$V1)[5])"
   ]
  },
  {
   "cell_type": "markdown",
   "metadata": {},
   "source": [
    "### `dat3.dat`"
   ]
  },
  {
   "cell_type": "code",
   "execution_count": 4,
   "metadata": {},
   "outputs": [
    {
     "name": "stdout",
     "output_type": "stream",
     "text": [
      "Data3 \n",
      " The standard deviation is:  1.414748 \n",
      " The Median is:  2.001954 \n",
      " The Mean is:  1.9863 \n",
      " The first and third quartiles:  1.023417 , 2.936421"
     ]
    }
   ],
   "source": [
    "cat(\"Data3 \\n The standard deviation is: \",sd(d3$V1),\n",
    "    \"\\n The Median is: \", summary(d3$V1)[3],\n",
    "    \"\\n The Mean is: \", summary(d3$V1)[4],\n",
    "   \"\\n The first and third quartiles: \", summary(d3$V1)[2],\",\", summary(d3$V1)[5])"
   ]
  },
  {
   "cell_type": "markdown",
   "metadata": {},
   "source": [
    "The following table summarizes the results obtained:\n",
    "\n",
    " Data | Mean  | Median | Standard Deviation | First Quartile | Third Quartile\n",
    "---|--- | --- | --- | ---| --- |\n",
    "`dat1`| 1.9863 | 1.9759 | 1.4147 |0.746 | 3.22|\n",
    "`dat2`|1.9863 | 2.000 | 1.4147 |1.0 | 3.0|\n",
    "`dat3`| 1.9863 | 2.001 | 1.4147 |1.023| 2.93|"
   ]
  },
  {
   "cell_type": "markdown",
   "metadata": {},
   "source": [
    "## Plots\n",
    "The main interest of this section is to  see qualitatively the behavior of the data given so as to describe it with a known  distribution curve (i.e. Poisson, Gaussian and so on)"
   ]
  },
  {
   "cell_type": "code",
   "execution_count": 101,
   "metadata": {},
   "outputs": [],
   "source": [
    "#Distribution curve for dat1\n",
    "x1 <- seq(-0.5, 4.4, length.out=1000 )\n",
    "y1 <- dunif(x1, min=-0.45, max=4.39)\n",
    "\n",
    "#Distribution curve for dat2\n",
    "x2 <- seq(0, 9, by=1)\n",
    "y2 <- dbinom(x2, size = 10, prob = 0.18)\n",
    "# Distribution curve for dat3\n",
    "x3 <- seq(-4, 8, length.out=1000)\n",
    "y3 <- dnorm(x3, mean=mean(d3$V1), sd=sd(d3$V1))"
   ]
  },
  {
   "cell_type": "code",
   "execution_count": 102,
   "metadata": {},
   "outputs": [],
   "source": [
    "h <- hist(d2$V1, breaks=100, plot=FALSE)\n",
    "h$counts=h$counts/sum(h$counts)  #Normalizing histogram h\n",
    "\n",
    "# Due to the breaks, the histogram plotted wasn't normalize for freq=FALSE. "
   ]
  },
  {
   "cell_type": "code",
   "execution_count": 108,
   "metadata": {},
   "outputs": [
    {
     "data": {
      "image/png": "[encoded data removed]",
      "text/plain": [
       "Plot with title “Data 3”"
      ]
     },
     "metadata": {},
     "output_type": "display_data"
    }
   ],
   "source": [
    "par(mfrow=c(2,2))\n",
    "hist(d1$V1, freq=FALSE, main=\"Data 1\",ylim=c(0, 0.25), col=\"cyan\",breaks = 10, xlab=\"V1\")\n",
    "lines(x1, y1, col=\"red\", lw=2)\n",
    "plot(h, ylim=c(0, 0.30), col=\"cyan\",main=\"Data 2\",ylab=\"Density\",  xlab=\"V1\")\n",
    "lines(x2,y2, col=\"red\", type=\"p\")\n",
    "hist(d3$V1, freq=FALSE,main=\"Data 3\", ylim=c(0, 0.35),col=\"cyan\", xlab=\"V1\")\n",
    "lines(x3, y3, col=\"red\", lw=2)\n",
    "\n"
   ]
  },
  {
   "cell_type": "markdown",
   "metadata": {},
   "source": [
    "For `Data1` is evident that its behavior is alike the **uniform distribution** since almost all the outcomes are equally likely.\n",
    "\n",
    "For `Data2` is not so evident. Nevertheless, there are a couple of observations that it can be derived from the plot:\n",
    "  - It is discrete, meaning that it would be reasonable to choose the binomial or geometric distribution.\n",
    "  - It looks like it has two possible outcomes, for instance when you flip a coin you either get tails or heads. In that sense, the most appropriate distribution curve to choose is the **binomial**.\n",
    "\n",
    "For `Data3` is observed that it is continuous, symmetric and the outcomes are concentrated in the middle of the range. Those characteristics matches the ones for the **normal or gaussian distribution**\n",
    "\n",
    "# Conclusions\n",
    "In closing, despite the resemblance between the mean, median and standard deviation of the set of data given (`dat1.dat`, `dat2.dat`, `dat3.dat`) (see table attached) the shape of the distributions for each sample were quite differently and therefore it can be affirmed that it is necessary to look out the distribution of the data."
   ]
  },
  {
   "cell_type": "markdown",
   "metadata": {},
   "source": [
    "# References"
   ]
  },
  {
   "cell_type": "code",
   "execution_count": 23,
   "metadata": {},
   "outputs": [
    {
     "data": {
      "text/plain": [
       "\n",
       "To cite R in publications use:\n",
       "\n",
       "  R Core Team (2019). R: A language and environment for statistical\n",
       "  computing. R Foundation for Statistical Computing, Vienna, Austria.\n",
       "  URL https://www.R-project.org/.\n",
       "\n",
       "A BibTeX entry for LaTeX users is\n",
       "\n",
       "  @Manual{,\n",
       "    title = {R: A Language and Environment for Statistical Computing},\n",
       "    author = {{R Core Team}},\n",
       "    organization = {R Foundation for Statistical Computing},\n",
       "    address = {Vienna, Austria},\n",
       "    year = {2019},\n",
       "    url = {https://www.R-project.org/},\n",
       "  }\n",
       "\n",
       "We have invested a lot of time and effort in creating R, please cite it\n",
       "when using it for data analysis. See also ‘citation(\"pkgname\")’ for\n",
       "citing R packages.\n"
      ]
     },
     "metadata": {},
     "output_type": "display_data"
    }
   ],
   "source": [
    "citation()"
   ]
  }
 ],
 "metadata": {
  "kernelspec": {
   "display_name": "R",
   "language": "R",
   "name": "ir"
  },
  "language_info": {
   "codemirror_mode": "r",
   "file_extension": ".r",
   "mimetype": "text/x-r-source",
   "name": "R",
   "pygments_lexer": "r",
   "version": "3.6.1"
  }
 },
 "nbformat": 4,
 "nbformat_minor": 4
}
