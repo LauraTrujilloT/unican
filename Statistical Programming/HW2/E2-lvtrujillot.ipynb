{
 "cells": [
  {
   "cell_type": "markdown",
   "metadata": {},
   "source": [
    "# <p align=\"center\"> Statistics: Parametric and non-parametric hypothesis tests </p>\n",
    "<p align=\"center\">Laura V. Trujillo T </p>\n",
    "<p align=\"center\"> <a href=\"mailto: lvtrujillot@unal.edu.co\">lvtrujillot@unal.edu.co </a> </p>\n",
    "<p align=\"center\"> November 18, 2019 </p>\n",
    "\n",
    "## Abstract\n",
    "This report provides a comparison between three distributions in order to analyze their differences and similarities with the implementation of parametric and non-parametric tests. This allows us to characterize the data sets given despite the fact their statistical parameters such as mean, median and standard deviation are alike.\n",
    "\n",
    "## Introduction\n",
    "\n",
    "In statistics one of the paradigms to analyze the data is called _tail-test_ or _p-value test_. It consists basically in making the data falls in a distribution probability on the basis of a \"null hypothesis\" and concluding whether this hypothesis is false or not so false. This allows us to characterize a data set by its mean and variance but also to establish the similarity or distinctiveness of two or more samples of data by statistical tests [2].\n",
    "\n",
    "1. Student's t- Test\n",
    "\n",
    "     This test is computed when two distributions could possibly have the same variance but different means and  It is useful for measuring the significance of the difference of means [2].\n",
    "\n",
    "\n",
    "2. F-Test\n",
    "\n",
    "    This test evaluates the hypothesis of two data sets having different variances by trying to reject the null hypothesis that they are actually consistent. It is based on a gaussian distribution.\n",
    "\n",
    "    It is used to determine whether means of data sets are equal.\n",
    "\n",
    "\n",
    "3. Z-Test\n",
    "\n",
    "    It is implemented when the variance of the samples are known in order to determine whether their means are different and it is assumed to have a normal distribution. In other words, Z-test represents how many standard deviations above or below the mean of the sample score by the test is [3].\n",
    "\n",
    "4. K-S Test\n",
    "\n",
    "    It is implemented to compare distributions and it quantifies the distance between one or two distribution functions. Allows to detect patterns [3].\n",
    "\n",
    "\n",
    "## Methodology\n",
    "\n",
    "This section gives a brief overview on how it was tested three samples in order to compare their means, variances and distribution implementing several tests of statistical hypothesis in R [1].\n",
    "\n",
    "**1.Comparison of Means**\n",
    "\n",
    "Assuming the data as _normal distributed_, it was implemented to compare means the parametric `t.test`. Nevertheless, as the data does not behave as a normal distribution (see Figures), for a better comprehension it was also implemented the following non-parametric tests: `t.test` with ranks and `wilcox.test`.\n",
    "\n",
    "\n",
    "**2.Comparison of Variances**\n",
    "\n",
    "Similarly, it was performed the following parametric test in order to compare variances: `f.test` and `z.test`. In the non-parametric case, `f.test` on ranks was carried out (See Appendix).\n",
    "\n",
    "**3.Comparison of Distributions**\n",
    "\n",
    "It was used `ks.test` to compare if the data given follows the same distribution. The K-S test provides a comparison of the sample with a reference probability distribution in the case of one sample K-S test or compare two samples.\n",
    "\n",
    "## Results\n",
    "\n",
    "The statistical parameters for each data set was calculated using R [1] and it is given in the following table:\n",
    "\n",
    " Data | Mean |  Variance | Std Dev |\n",
    "---|--- | --- | --- | \n",
    "`dat1`| 1.9863 |  2.0015 | 1.4147 |\n",
    "`dat2`|1.9863 |  2.0015 | 1.4147 |\n",
    "`dat3`| 1.9863 |  2.0015 | 1.4147 |\n",
    "<p align=\"center\"> <i>Table 1. Statistical parameters for each data set </i> </p>\n",
    "\n",
    "For better appreciation of the data sets, see Figure 1 and Figure 2.\n",
    "\n",
    "<p align=\"center\">  <img src=\"all.png\" alt=\"all\" style=\"width:250px;height:250px;\">  </p>\n",
    "<p align=\"center\"> <i> Figure 1. Histograms of data 1, data 2 and data 3 </i> </p>\n",
    "\n",
    "\n",
    "<p align=\"center\">  <img src=\"boxplot.png\" alt=\"boxplot\" style=\"width:250px;height:250px;\">  </p>\n",
    "<p align=\"center\"> <i> Figure 2. Boxplot of data 1, data 2 and data 3 </i> </p>\n",
    "\n",
    "\\\n",
    "<div class=\"page-break\"></div>\n",
    "\n",
    "**1.Comparison of Means**\n",
    "\n",
    "The results obtained for each tests are summarized  in Table 2.\n",
    "\n",
    "   Test | `data1, data2`  |`data2, data3`| `data1, data3` |\n",
    "---|--- | --- | --- |\n",
    "`t.test`|`p.value:`1.00<br>`2pt:`1.00<br>| `p.value:`1.00<br>`2pt:`1.00<br>| `p.value:`1.00<br>`2pt:`1.00<br> |\n",
    "Ranked `t.test`|`p.value:`0.009| `p.value:`2.948e-5 | `p.value:`0.861|\n",
    "`wilcox.test`| `p.value:`0.009 | `p.value:`2.958e-5 |`p.value:`0.861|\n",
    "<p align=\"center\"> <i>Table 2. Tests for comparing means </i> </p>\n",
    "\n",
    "As observed in table above (Table 2) for the parametric _t test_ case, the _p-value_ obtained  suggests that the null hypothesis should not be rejected. Nevertheless, as shown in Figure 1 the two first samples do not follow a normal distribution and hence, it is wiser to take into account _non-parametric_ tests.\n",
    "\n",
    "As expected, both _Wilcoxon_ and ranked _t test_ give similar results for _p value_. For _data1-data2_ and _data2-data3_, the _p value_ obtained indicates that the null hypothesis can be rejected since it is less than 0.05 (value commonly used in the industry to reject hypothesis). However, from Table 1 it is clear that the mean for the samples is almost (if not) identical but both tests are comparing the mean of the _ranks_ of the data sets and therefore, the results obtained are telling us that in fact there is a statistical difference between the means of the samples. On the other hand, for _data1-data3_ it is showed that the null hypothesis should not be rejected.\n",
    "\n",
    "\n",
    "**2.Comparison of Variances**\n",
    "\n",
    "Test | `data1, data2`  |`data2, data3`| `data1, data3` |\n",
    "---|--- | --- | --- | \n",
    "`f.test`|`p.value:`1.00<br>`2pf:`1.00<br>| `p.value:`1.00<br>`2pf:`1.00<br>| `p.value:`1.00<br>`2pf:`1.00<br> |\n",
    "Ranked `f.test`|`p.value:`0.00| `p.value:`1.696e-2 | `p.value:`1.820e-14|\n",
    "`z.test`| `p.value:`1.00 | `p.value:`1.00 |`p.value:`1.00|\n",
    "`Z expr`| `p.value:`0.999 | `p.value:`0.999 |`p.value:`0.999|\n",
    "<p align=\"center\"> <i>Table 3. Several tests for comparing variances </i> </p>\n",
    "\n",
    "Both parametric _f_ and _z_ tests return a p value equals to 1, meaning that the null hypothesis in which the means of the data compared are equal should no be rejected. On the contrary, for non parametric ranked _f test_ the _p value_ indicates that there is actually statistical differences in the variance of the samples.\n",
    "\n",
    "\n",
    "**3.Comparison of Distributions**\n",
    "\n",
    "Test | `data1, data2`  |`data2, data3`| `data1, data3` |\n",
    "---|--- | --- | --- | \n",
    "`ks.test`|`p.value:`0.00<br>`D:`0.176<br>| `p.value:`0.00<br>`D:`0.18<br>| `p.value:`1.11e-16<br>`D:`0.061<br> |\n",
    "<p align=\"center\"> <i>Table 4. K-S test for comparing distributions </i> </p>\n",
    "\n",
    "The _p-value_ < 0.05 shows that there exists a statistical distinction between the data sets as expected (see Figure 1)\n",
    "\n",
    "## Conclusions\n",
    "\n",
    "As an overall conclusion the hypothesis tests allow to check and evaluate whether samples (simulated or empirical data) have similar or common statistical parameters or behavior. Nonetheless, as shown in this report it is important before hand plotting histograms of data in order to choose wisely the parametric or non parametric test. The _p-values_ change radically when using parametric instead of non-parametric as shown in Table 1 and Table 2 and it could affect statistical conclusions and misleading what the data is actually telling.\n",
    "\n"
   ]
  },
  {
   "cell_type": "markdown",
   "metadata": {},
   "source": [
    "# Appendix: Coding Section"
   ]
  },
  {
   "cell_type": "code",
   "execution_count": 21,
   "metadata": {},
   "outputs": [],
   "source": [
    "#Resizing plots\n",
    "library(repr) \n",
    "library(BSDA)\n",
    "library(pracma)\n",
    "options(repr.plot.width=5, repr.plot.height=5)"
   ]
  },
  {
   "cell_type": "code",
   "execution_count": 1,
   "metadata": {},
   "outputs": [],
   "source": [
    "# Data uploading\n",
    "d1 <- read.table(\"dat1.dat\", header=FALSE)\n",
    "d2 <- read.table(\"dat2.dat\", header=FALSE)\n",
    "d3 <- read.table(\"dat3.dat\", header=FALSE)"
   ]
  },
  {
   "cell_type": "markdown",
   "metadata": {},
   "source": [
    "#### Do they have the same mean?\n",
    "**Parametric test**\n",
    "1. `t.test`"
   ]
  },
  {
   "cell_type": "code",
   "execution_count": 16,
   "metadata": {},
   "outputs": [
    {
     "data": {
      "text/html": [
       "<table>\n",
       "<thead><tr><th></th><th scope=col>t</th></tr></thead>\n",
       "<tbody>\n",
       "\t<tr><th scope=row>t12</th><td>1</td></tr>\n",
       "\t<tr><th scope=row>t23</th><td>1</td></tr>\n",
       "\t<tr><th scope=row>t13</th><td>1</td></tr>\n",
       "\t<tr><th scope=row>pt1</th><td>1</td></tr>\n",
       "\t<tr><th scope=row>pt2</th><td>1</td></tr>\n",
       "\t<tr><th scope=row>pt3</th><td>1</td></tr>\n",
       "</tbody>\n",
       "</table>\n"
      ],
      "text/latex": [
       "\\begin{tabular}{r|l}\n",
       "  & t\\\\\n",
       "\\hline\n",
       "\tt12 & 1\\\\\n",
       "\tt23 & 1\\\\\n",
       "\tt13 & 1\\\\\n",
       "\tpt1 & 1\\\\\n",
       "\tpt2 & 1\\\\\n",
       "\tpt3 & 1\\\\\n",
       "\\end{tabular}\n"
      ],
      "text/markdown": [
       "\n",
       "| <!--/--> | t |\n",
       "|---|---|\n",
       "| t12 | 1 |\n",
       "| t23 | 1 |\n",
       "| t13 | 1 |\n",
       "| pt1 | 1 |\n",
       "| pt2 | 1 |\n",
       "| pt3 | 1 |\n",
       "\n"
      ],
      "text/plain": [
       "    t\n",
       "t12 1\n",
       "t23 1\n",
       "t13 1\n",
       "pt1 1\n",
       "pt2 1\n",
       "pt3 1"
      ]
     },
     "metadata": {},
     "output_type": "display_data"
    }
   ],
   "source": [
    "t1 <- t.test(d1$V1, d2$V1, mu=0, paired=FALSE, conf.level=0.95)\n",
    "t2 <- t.test(d2$V1, d3$V1, mu=0, paired=FALSE, conf.level=0.95)\n",
    "t3 <- t.test(d1$V1, d3$V1, mu=0, paired=FALSE, conf.level=0.95)\n",
    "\n",
    "p1 <- 2 * pt(t1$statistic, df = 19998)\n",
    "p2 <-  2 * pt(t2$statistic, df = 19998)\n",
    "p3 <-  2 * pt(t3$statistic, df = 19998)\n",
    "\n",
    "rbind(t12 = t1$p.value, t23 = t2$p.value, t13 = t3$p.value, pt1 = p1, pt2 =p2, pt3=p3)\n"
   ]
  },
  {
   "cell_type": "markdown",
   "metadata": {},
   "source": [
    "\n",
    "\n",
    "**Non-parametric test of the mean**\n",
    "1. Ranked`t.test`  & `wilcox.test`"
   ]
  },
  {
   "cell_type": "code",
   "execution_count": 31,
   "metadata": {},
   "outputs": [
    {
     "data": {
      "text/html": [
       "<table>\n",
       "<tbody>\n",
       "\t<tr><th scope=row>wilcoxon</th><td>0.009026857</td></tr>\n",
       "\t<tr><th scope=row>ttest</th><td>0.009023614</td></tr>\n",
       "</tbody>\n",
       "</table>\n"
      ],
      "text/latex": [
       "\\begin{tabular}{r|l}\n",
       "\twilcoxon & 0.009026857\\\\\n",
       "\tttest & 0.009023614\\\\\n",
       "\\end{tabular}\n"
      ],
      "text/markdown": [
       "\n",
       "| wilcoxon | 0.009026857 |\n",
       "| ttest | 0.009023614 |\n",
       "\n"
      ],
      "text/plain": [
       "         [,1]       \n",
       "wilcoxon 0.009026857\n",
       "ttest    0.009023614"
      ]
     },
     "metadata": {},
     "output_type": "display_data"
    }
   ],
   "source": [
    "#Two samples Data 1 and Data 2 \n",
    "x <- d1$V1\n",
    "y <- d2$V1\n",
    "\n",
    "# Ranks \n",
    "rank12 <- rank(c(x, y), ties.method=\"average\") # Creating rank of data samples 1 & 2\n",
    "ranked_x <- rank12[1:length(x)] # rank Ra \n",
    "ranked_y <- rank12[-(1:length(x))] #The other rank Rb\n",
    "#ranked_y <- rank12[(length(x) + 1):length(y)]\n",
    "\n",
    "#t-test with ranks\n",
    "ttest12 <- t.test(ranked_x, ranked_y, mu=0)\n",
    "\n",
    "# Wilcoxon test\n",
    "wilcox12 <- wilcox.test(x, y, mu=0)\n",
    "\n",
    "#Showing p-values for both test\n",
    "rbind(wilcoxon = wilcox12$p.value, ttest = ttest12$p.value) # rbind combine r objects by rows "
   ]
  },
  {
   "cell_type": "code",
   "execution_count": 7,
   "metadata": {},
   "outputs": [
    {
     "data": {
      "text/html": [
       "<table>\n",
       "<tbody>\n",
       "\t<tr><th scope=row>wilcoxon</th><td>2.958651e-05</td></tr>\n",
       "\t<tr><th scope=row>par.ttest</th><td>1.000000e+00</td></tr>\n",
       "\t<tr><th scope=row>non.par.ttest</th><td>2.948848e-05</td></tr>\n",
       "</tbody>\n",
       "</table>\n"
      ],
      "text/latex": [
       "\\begin{tabular}{r|l}\n",
       "\twilcoxon & 2.958651e-05\\\\\n",
       "\tpar.ttest & 1.000000e+00\\\\\n",
       "\tnon.par.ttest & 2.948848e-05\\\\\n",
       "\\end{tabular}\n"
      ],
      "text/markdown": [
       "\n",
       "| wilcoxon | 2.958651e-05 |\n",
       "| par.ttest | 1.000000e+00 |\n",
       "| non.par.ttest | 2.948848e-05 |\n",
       "\n"
      ],
      "text/plain": [
       "              [,1]        \n",
       "wilcoxon      2.958651e-05\n",
       "par.ttest     1.000000e+00\n",
       "non.par.ttest 2.948848e-05"
      ]
     },
     "metadata": {},
     "output_type": "display_data"
    }
   ],
   "source": [
    "# Two samples Data 2 and Data 3 (Poisson distribution and Gaussian distribution)\n",
    "x <- d2$V1\n",
    "y <- d3$V1\n",
    "\n",
    "#parametric t-test \n",
    "ttest23 <- t.test(x, y, mu=0)\n",
    "\n",
    "# non-parametric t-test\n",
    "dat23 <- c(d2$V1, d3$V1)\n",
    "rank23 <- rank(dat23, ties.method=\"average\")\n",
    "ranked_x <- rank23[1:length(x)]\n",
    "ranked_y <- rank23[- (1:length(x))]\n",
    "\n",
    "nttest23 = t.test(ranked_x, ranked_y, mu = 0)\n",
    "#Wilcoxon test\n",
    "wilcox23 <- wilcox.test(x, y, mu=0)\n",
    "#p-values are:\n",
    "rbind(wilcoxon=wilcox23$p.value, par.ttest=ttest23$p.value, non.par.ttest = nttest23$p.value)"
   ]
  },
  {
   "cell_type": "code",
   "execution_count": 8,
   "metadata": {},
   "outputs": [
    {
     "data": {
      "text/html": [
       "<table>\n",
       "<tbody>\n",
       "\t<tr><th scope=row>wilcoxon</th><td>0.8614699</td></tr>\n",
       "\t<tr><th scope=row>ttest</th><td>0.8614740</td></tr>\n",
       "</tbody>\n",
       "</table>\n"
      ],
      "text/latex": [
       "\\begin{tabular}{r|l}\n",
       "\twilcoxon & 0.8614699\\\\\n",
       "\tttest & 0.8614740\\\\\n",
       "\\end{tabular}\n"
      ],
      "text/markdown": [
       "\n",
       "| wilcoxon | 0.8614699 |\n",
       "| ttest | 0.8614740 |\n",
       "\n"
      ],
      "text/plain": [
       "         [,1]     \n",
       "wilcoxon 0.8614699\n",
       "ttest    0.8614740"
      ]
     },
     "metadata": {},
     "output_type": "display_data"
    }
   ],
   "source": [
    "#Two samples Data1 & Data 3\n",
    "x <- d1$V1\n",
    "y <- d3$V1\n",
    "\n",
    "#Ranked t.test\n",
    "dat13 <- c(d1$V1, d3$V1)\n",
    "rank13 <- rank(dat13, ties.method=\"average\")\n",
    "ranked_x <- rank13[1:length(x)]\n",
    "ranked_y <- rank13[-(1:length(x))]\n",
    "\n",
    "ttest13 <- t.test(ranked_x, ranked_y, mu=0)\n",
    "\n",
    "#Wilcoxon test\n",
    "wilcox13 <- wilcox.test(x,y, mu=0)\n",
    "\n",
    "#p-values are:\n",
    "rbind(wilcoxon=wilcox13$p.value, ttest=ttest13$p.value)"
   ]
  },
  {
   "cell_type": "code",
   "execution_count": 32,
   "metadata": {},
   "outputs": [],
   "source": [
    "#Some test to figure out what a rank is.\n",
    "\n",
    "dat12 <- c(d1$V1[0:3], d2$V1[0:3])\n",
    "#dat12 =  2.7, 1.7, 0.6, 2, 4, 3\n",
    "r1 <- rank(dat12, ties.method=\"average\")\n",
    "# 2, 1.7, 2.7, 0.6, 3, 4\n",
    "#sort 3, 2, 4, 1, 6, 5 (ascending)\n",
    "# rank 4, 2, 1, 3, 6, 5\n",
    "rx <- r1[1:length(d1$V1[0:3])] #4, 2, 1\n",
    "ry <- r1[- (1:length(d1$V1[0:3]))] # 3, 6, 5\n",
    "#t.test(rx, ry)"
   ]
  },
  {
   "cell_type": "markdown",
   "metadata": {},
   "source": [
    "#### Do they have the same variance?"
   ]
  },
  {
   "cell_type": "markdown",
   "metadata": {},
   "source": [
    "**Parametric test**\n",
    "1. `F-test`"
   ]
  },
  {
   "cell_type": "code",
   "execution_count": 24,
   "metadata": {},
   "outputs": [
    {
     "data": {
      "text/html": [
       "<table>\n",
       "<thead><tr><th></th><th scope=col>F</th></tr></thead>\n",
       "<tbody>\n",
       "\t<tr><th scope=row>F1</th><td>1</td></tr>\n",
       "\t<tr><th scope=row>F2</th><td>1</td></tr>\n",
       "\t<tr><th scope=row>F3</th><td>1</td></tr>\n",
       "</tbody>\n",
       "</table>\n"
      ],
      "text/latex": [
       "\\begin{tabular}{r|l}\n",
       "  & F\\\\\n",
       "\\hline\n",
       "\tF1 & 1\\\\\n",
       "\tF2 & 1\\\\\n",
       "\tF3 & 1\\\\\n",
       "\\end{tabular}\n"
      ],
      "text/markdown": [
       "\n",
       "| <!--/--> | F |\n",
       "|---|---|\n",
       "| F1 | 1 |\n",
       "| F2 | 1 |\n",
       "| F3 | 1 |\n",
       "\n"
      ],
      "text/plain": [
       "   F\n",
       "F1 1\n",
       "F2 1\n",
       "F3 1"
      ]
     },
     "metadata": {},
     "output_type": "display_data"
    },
    {
     "data": {
      "text/html": [
       "<table>\n",
       "<tbody>\n",
       "\t<tr><th scope=row>ftest1</th><td>1</td></tr>\n",
       "\t<tr><th scope=row>ftest2</th><td>1</td></tr>\n",
       "\t<tr><th scope=row>ftest3</th><td>1</td></tr>\n",
       "</tbody>\n",
       "</table>\n"
      ],
      "text/latex": [
       "\\begin{tabular}{r|l}\n",
       "\tftest1 & 1\\\\\n",
       "\tftest2 & 1\\\\\n",
       "\tftest3 & 1\\\\\n",
       "\\end{tabular}\n"
      ],
      "text/markdown": [
       "\n",
       "| ftest1 | 1 |\n",
       "| ftest2 | 1 |\n",
       "| ftest3 | 1 |\n",
       "\n"
      ],
      "text/plain": [
       "       [,1]\n",
       "ftest1 1   \n",
       "ftest2 1   \n",
       "ftest3 1   "
      ]
     },
     "metadata": {},
     "output_type": "display_data"
    }
   ],
   "source": [
    "# F-test data1, data2 & data3 --- Assuming normal distribution\n",
    "a <- d1$V1\n",
    "b <- d2$V1\n",
    "c <- d3$V1\n",
    "\n",
    "ftest12 <- var.test(a, b)\n",
    "ftest23 <- var.test(b, c)\n",
    "ftest13 <- var.test(a, c)\n",
    "\n",
    "nu1=length(d1$V1) - 1\n",
    "nu2=length(d2$V1) - 1\n",
    "nu3 = length(d3$V1) - 1\n",
    "\n",
    "F12 = 2 * pf(ftest12$statistic, nu1, nu2)\n",
    "F23 = 2 * pf(ftest23$statistic, nu2, nu3)\n",
    "F13 = 2 * pf(ftest13$statistic, nu1, nu3)\n",
    "\n",
    "#F-values\n",
    "rbind(F1=F12, F2=F23, F3=F13)\n",
    "#p-values \n",
    "rbind(ftest1=ftest12$p.value, ftest2=ftest23$p.value,ftest3=ftest13$p.value)"
   ]
  },
  {
   "cell_type": "markdown",
   "metadata": {},
   "source": [
    "2. `z.test`"
   ]
  },
  {
   "cell_type": "code",
   "execution_count": 25,
   "metadata": {},
   "outputs": [
    {
     "data": {
      "text/html": [
       "<table>\n",
       "<tbody>\n",
       "\t<tr><th scope=row>ztest1</th><td>1</td></tr>\n",
       "\t<tr><th scope=row>ztest2</th><td>1</td></tr>\n",
       "\t<tr><th scope=row>ztest3</th><td>1</td></tr>\n",
       "</tbody>\n",
       "</table>\n"
      ],
      "text/latex": [
       "\\begin{tabular}{r|l}\n",
       "\tztest1 & 1\\\\\n",
       "\tztest2 & 1\\\\\n",
       "\tztest3 & 1\\\\\n",
       "\\end{tabular}\n"
      ],
      "text/markdown": [
       "\n",
       "| ztest1 | 1 |\n",
       "| ztest2 | 1 |\n",
       "| ztest3 | 1 |\n",
       "\n"
      ],
      "text/plain": [
       "       [,1]\n",
       "ztest1 1   \n",
       "ztest2 1   \n",
       "ztest3 1   "
      ]
     },
     "metadata": {},
     "output_type": "display_data"
    },
    {
     "data": {
      "text/html": [
       "<table>\n",
       "<tbody>\n",
       "\t<tr><th scope=row>Z1.pvalue</th><td>1</td></tr>\n",
       "\t<tr><th scope=row>Z2.pvalue</th><td>1</td></tr>\n",
       "\t<tr><th scope=row>Z3.pvalue</th><td>1</td></tr>\n",
       "</tbody>\n",
       "</table>\n"
      ],
      "text/latex": [
       "\\begin{tabular}{r|l}\n",
       "\tZ1.pvalue & 1\\\\\n",
       "\tZ2.pvalue & 1\\\\\n",
       "\tZ3.pvalue & 1\\\\\n",
       "\\end{tabular}\n"
      ],
      "text/markdown": [
       "\n",
       "| Z1.pvalue | 1 |\n",
       "| Z2.pvalue | 1 |\n",
       "| Z3.pvalue | 1 |\n",
       "\n"
      ],
      "text/plain": [
       "          [,1]\n",
       "Z1.pvalue 1   \n",
       "Z2.pvalue 1   \n",
       "Z3.pvalue 1   "
      ]
     },
     "metadata": {},
     "output_type": "display_data"
    }
   ],
   "source": [
    "ztest12 <- z.test(a, b, sigma.x=sd(a), sigma.y=sd(b))\n",
    "ztest23 <- z.test(b, c, sigma.x=sd(b), sigma.y=sd(c))\n",
    "ztest13 <- z.test(a, c, sigma.x=sd(a), sigma.y=sd(c))\n",
    "\n",
    "# p -values\n",
    "rbind(ztest1=ztest12$p.value, ztest2=ztest23$p.value, ztest3=ztest13$p.value)\n",
    "\n",
    "#Z from expression\n",
    "ma <- mean(a)\n",
    "mb <- mean(b)\n",
    "mc <- mean(c)\n",
    "\n",
    "sa <- sd(a) ** 2 / length(a)\n",
    "sb <- sd(b) ** 2 / length(b)\n",
    "sc <- sd(c) ** 2 / length(c)\n",
    "\n",
    "Z12 = (ma - mb) / sqrt(sa + sb)\n",
    "Z23 = (mb - mc) / sqrt(sb + sc)\n",
    "Z13 = (ma - mc) / sqrt(sa + sc)\n",
    "\n",
    "rbind(Z1.pvalue=erfc(Z12), Z2.pvalue=erfc(Z23), Z3.pvalue=erfc(Z13) )"
   ]
  },
  {
   "cell_type": "markdown",
   "metadata": {},
   "source": [
    "**Non parametric** `f.test`"
   ]
  },
  {
   "cell_type": "code",
   "execution_count": 26,
   "metadata": {},
   "outputs": [
    {
     "data": {
      "text/html": [
       "<table>\n",
       "<tbody>\n",
       "\t<tr><th scope=row>non.ftest1</th><td>0.000000e+00</td></tr>\n",
       "\t<tr><th scope=row>non.ftest2</th><td>1.695990e-02</td></tr>\n",
       "\t<tr><th scope=row>non.ftest3</th><td>1.820766e-14</td></tr>\n",
       "</tbody>\n",
       "</table>\n"
      ],
      "text/latex": [
       "\\begin{tabular}{r|l}\n",
       "\tnon.ftest1 & 0.000000e+00\\\\\n",
       "\tnon.ftest2 & 1.695990e-02\\\\\n",
       "\tnon.ftest3 & 1.820766e-14\\\\\n",
       "\\end{tabular}\n"
      ],
      "text/markdown": [
       "\n",
       "| non.ftest1 | 0.000000e+00 |\n",
       "| non.ftest2 | 1.695990e-02 |\n",
       "| non.ftest3 | 1.820766e-14 |\n",
       "\n"
      ],
      "text/plain": [
       "           [,1]        \n",
       "non.ftest1 0.000000e+00\n",
       "non.ftest2 1.695990e-02\n",
       "non.ftest3 1.820766e-14"
      ]
     },
     "metadata": {},
     "output_type": "display_data"
    }
   ],
   "source": [
    "#----------   Ranks -------------\n",
    "# Length data1 is equal for all data sets !\n",
    "## Data 1 & Data 2\n",
    "dat12 <- c(d1$V1, d2$V1)\n",
    "rank12 <- rank(dat12, ties.method=\"average\")\n",
    "r1_x <- rank12[1:length(a)]\n",
    "r1_y <- rank12[-(1:length(a))]\n",
    "\n",
    "## Data 2 & Data 3\n",
    "dat23 <- c(d2$V1, d3$V1)\n",
    "rank23 <- rank(dat23, ties.method=\"average\")\n",
    "r2_x <- rank23[1:length(a)]\n",
    "r2_y <- rank23[-(1:length(a))]\n",
    "\n",
    "## Data 1 & Data 3\n",
    "dat13<- c(d1$V1, d3$V1)\n",
    "rank13 <- rank(dat13, ties.method=\"average\")\n",
    "r3_x <- rank13[1:length(a)]\n",
    "r3_y <- rank13[-(1:length(a))]\n",
    "\n",
    "#var.test\n",
    "nftest12 = var.test(r1_x, r1_y)\n",
    "nftest23 = var.test(r2_x, r2_y)\n",
    "nftest13 = var.test(r3_x, r3_y)\n",
    "\n",
    "rbind(non.ftest1 = nftest12$p.value, non.ftest2 = nftest23$p.value, non.ftest3 = nftest13$p.value)"
   ]
  },
  {
   "cell_type": "markdown",
   "metadata": {},
   "source": [
    "#### Are they compatible with being the same distribution?"
   ]
  },
  {
   "cell_type": "markdown",
   "metadata": {},
   "source": [
    "1. `K-S test`"
   ]
  },
  {
   "cell_type": "code",
   "execution_count": 49,
   "metadata": {},
   "outputs": [
    {
     "name": "stderr",
     "output_type": "stream",
     "text": [
      "Warning message in ks.test(d1$V1, d2$V1):\n",
      "“p-value will be approximate in the presence of ties”Warning message in ks.test(d2$V1, d3$V1):\n",
      "“p-value will be approximate in the presence of ties”Warning message in ks.test(d1$V1, d3$V1):\n",
      "“p-value will be approximate in the presence of ties”"
     ]
    }
   ],
   "source": [
    "# Data 1 & Data2\n",
    "ks12 <- ks.test(d1$V1, d2$V1)\n",
    "\n",
    "# Data 2 & Data 3\n",
    "ks23 <- ks.test(d2$V1, d3$V1)\n",
    "\n",
    "# Data 1 & Data 3\n",
    "ks13 <- ks.test(d1$V1, d3$V1)"
   ]
  },
  {
   "cell_type": "markdown",
   "metadata": {},
   "source": [
    "It seems like the warning is due to the implementation in R of `ks.test` expecting a continuous distribution. Nonetheles, K-S test works with both discrete and continuous. (This is just a _guess_)"
   ]
  },
  {
   "cell_type": "code",
   "execution_count": 53,
   "metadata": {},
   "outputs": [
    {
     "data": {
      "text/html": [
       "<table>\n",
       "<tbody>\n",
       "\t<tr><th scope=row>K.S1</th><td>0,000000e+00</td></tr>\n",
       "\t<tr><th scope=row>K.S2</th><td>0,000000e+00</td></tr>\n",
       "\t<tr><th scope=row>K.S3</th><td>1,110223e-16</td></tr>\n",
       "</tbody>\n",
       "</table>\n"
      ],
      "text/latex": [
       "\\begin{tabular}{r|l}\n",
       "\tK.S1 & 0,000000e+00\\\\\n",
       "\tK.S2 & 0,000000e+00\\\\\n",
       "\tK.S3 & 1,110223e-16\\\\\n",
       "\\end{tabular}\n"
      ],
      "text/markdown": [
       "\n",
       "| K.S1 | 0,000000e+00 |\n",
       "| K.S2 | 0,000000e+00 |\n",
       "| K.S3 | 1,110223e-16 |\n",
       "\n"
      ],
      "text/plain": [
       "     [,1]        \n",
       "K.S1 0,000000e+00\n",
       "K.S2 0,000000e+00\n",
       "K.S3 1,110223e-16"
      ]
     },
     "metadata": {},
     "output_type": "display_data"
    },
    {
     "data": {
      "text/html": [
       "<table>\n",
       "<thead><tr><th></th><th scope=col>D</th></tr></thead>\n",
       "<tbody>\n",
       "\t<tr><th scope=row>D1</th><td>0,1763</td></tr>\n",
       "\t<tr><th scope=row>D2</th><td>0,1804</td></tr>\n",
       "\t<tr><th scope=row>D3</th><td>0,0617</td></tr>\n",
       "</tbody>\n",
       "</table>\n"
      ],
      "text/latex": [
       "\\begin{tabular}{r|l}\n",
       "  & D\\\\\n",
       "\\hline\n",
       "\tD1 & 0,1763\\\\\n",
       "\tD2 & 0,1804\\\\\n",
       "\tD3 & 0,0617\\\\\n",
       "\\end{tabular}\n"
      ],
      "text/markdown": [
       "\n",
       "| <!--/--> | D |\n",
       "|---|---|\n",
       "| D1 | 0,1763 |\n",
       "| D2 | 0,1804 |\n",
       "| D3 | 0,0617 |\n",
       "\n"
      ],
      "text/plain": [
       "   D     \n",
       "D1 0,1763\n",
       "D2 0,1804\n",
       "D3 0,0617"
      ]
     },
     "metadata": {},
     "output_type": "display_data"
    }
   ],
   "source": [
    "rbind(K.S1 = ks12$p.value, K.S2=ks23$p.value, K.S3=ks13$p.value)\n",
    "rbind(D1= ks12$statistic, D2=ks23$statistic, D3=ks13$statistic)"
   ]
  },
  {
   "cell_type": "markdown",
   "metadata": {},
   "source": [
    "#### Plots"
   ]
  },
  {
   "cell_type": "code",
   "execution_count": 6,
   "metadata": {},
   "outputs": [
    {
     "data": {
      "text/html": [
       "<strong>png:</strong> 2"
      ],
      "text/latex": [
       "\\textbf{png:} 2"
      ],
      "text/markdown": [
       "**png:** 2"
      ],
      "text/plain": [
       "png \n",
       "  2 "
      ]
     },
     "metadata": {},
     "output_type": "display_data"
    }
   ],
   "source": [
    "png(\"boxplot.png\", width=800, height=800)\n",
    "boxplot(d1$V1, d2$V1, d3$V1, names=c(\"data 1\",\"data 2\",\"data 3\"), col=rgb(0 , 0.5 , 0.8,alpha=0.25), border=\"brown\")\n",
    "grid()\n",
    "dev.off()"
   ]
  },
  {
   "cell_type": "markdown",
   "metadata": {},
   "source": [
    "### `data1` "
   ]
  },
  {
   "cell_type": "code",
   "execution_count": 7,
   "metadata": {},
   "outputs": [
    {
     "data": {
      "text/html": [
       "<strong>png:</strong> 2"
      ],
      "text/latex": [
       "\\textbf{png:} 2"
      ],
      "text/markdown": [
       "**png:** 2"
      ],
      "text/plain": [
       "png \n",
       "  2 "
      ]
     },
     "metadata": {},
     "output_type": "display_data"
    }
   ],
   "source": [
    "png(\"histd1.png\", width=800, height=800)\n",
    "hist(d1$V1, freq=FALSE, main=\"Data 1\",ylim=c(0, 0.25), col=rgb(0 , 0.5 , 0.8,alpha=0.25),\n",
    "     border=\"black\",breaks = 10, xlab=\"V1\", \n",
    "     xlim=c(-1,5))\n",
    "curve(dunif(x, min=min(d1$V1), max=max(d1$V1)), from=-1, to=5, add=T, col=\"red\", lw=2)\n",
    "dev.off()"
   ]
  },
  {
   "cell_type": "markdown",
   "metadata": {},
   "source": [
    "### `data2`"
   ]
  },
  {
   "cell_type": "code",
   "execution_count": 37,
   "metadata": {},
   "outputs": [
    {
     "data": {
      "text/html": [
       "<strong>png:</strong> 2"
      ],
      "text/latex": [
       "\\textbf{png:} 2"
      ],
      "text/markdown": [
       "**png:** 2"
      ],
      "text/plain": [
       "png \n",
       "  2 "
      ]
     },
     "metadata": {},
     "output_type": "display_data"
    }
   ],
   "source": [
    "curpois <- dpois(x = 0:max(d2$V1), lambda = 1.5) \n",
    "\n",
    "png(\"histd2.png\", width=800, height=800)\n",
    "hist(d2$V1, freq=FALSE, prob=TRUE, xlim=c(0, 8.0), ylim=c(0, 0.4), col=rgb(0 , 0.5 , 0.8,alpha=0.25), xlab=\"V1\",\n",
    "    breaks=rep(0:10,each=2)+c(-.4,.4))\n",
    "points(0:max(d2$V1), curpois, pch=16, col=2) \n",
    "dev.off()"
   ]
  },
  {
   "cell_type": "markdown",
   "metadata": {},
   "source": [
    "### `data3`"
   ]
  },
  {
   "cell_type": "code",
   "execution_count": 142,
   "metadata": {},
   "outputs": [
    {
     "data": {
      "text/html": [
       "<strong>png:</strong> 2"
      ],
      "text/latex": [
       "\\textbf{png:} 2"
      ],
      "text/markdown": [
       "**png:** 2"
      ],
      "text/plain": [
       "png \n",
       "  2 "
      ]
     },
     "metadata": {},
     "output_type": "display_data"
    }
   ],
   "source": [
    "png(\"histd3.png\", width=800, height=800)\n",
    "hist(d3$V1, freq=FALSE,main=\"Data 3\", ylim=c(0, 0.35),col=rgb(0 , 0.5 , 0.8,alpha=0.25), xlab=\"V1\")\n",
    "curve(dnorm(x, mean=mean(d3$V1), sd=sd(d3$V1)), from=-4, to=8, add=T, col=\"red\", lw=2)\n",
    "dev.off()"
   ]
  },
  {
   "cell_type": "code",
   "execution_count": 107,
   "metadata": {},
   "outputs": [
    {
     "data": {
      "text/html": [
       "<strong>png:</strong> 2"
      ],
      "text/latex": [
       "\\textbf{png:} 2"
      ],
      "text/markdown": [
       "**png:** 2"
      ],
      "text/plain": [
       "png \n",
       "  2 "
      ]
     },
     "metadata": {},
     "output_type": "display_data"
    }
   ],
   "source": [
    "png(\"all.png\", width=800, height=800)\n",
    "hist(d1$V1, freq=FALSE, col='skyblue',border=F, ylim=c(0,0.6), xlim=c(-2, 6), xlab=\"Values\")\n",
    "hist(d2$V1, freq=FALSE, col=rgb(1.0, 0.5, 0.5, alpha=0.7),border=F, add=T)\n",
    "hist(d3$V1, freq=FALSE,  add=T, col=rgb(1.0, 1.0, 0.0, alpha=0.4), border=F)\n",
    "box()\n",
    "dev.off()"
   ]
  },
  {
   "cell_type": "markdown",
   "metadata": {},
   "source": [
    "## Bibliography\n",
    "[1] R Core Team (2019). R: A language and environment for statistical\n",
    "  computing. R Foundation for Statistical Computing, Vienna, Austria.\n",
    "  URL https://www.R-project.org/.\n",
    "\n",
    "[2] Press W, Teukolsky S, Vetterling W, and Flannery. 1992. Numerical Recipes in C (2nd Ed.): The Art of Scientific Computing. Cambridge University Press, New York, NY, USA.\n",
    "\n",
    "\n",
    "[3] Hines, William W (2003). Probability and statistics in engineering (4th ed). John Wiley, New York"
   ]
  }
 ],
 "metadata": {
  "kernelspec": {
   "display_name": "R",
   "language": "R",
   "name": "ir"
  },
  "language_info": {
   "codemirror_mode": "r",
   "file_extension": ".r",
   "mimetype": "text/x-r-source",
   "name": "R",
   "pygments_lexer": "r",
   "version": "3.6.1"
  }
 },
 "nbformat": 4,
 "nbformat_minor": 4
}
